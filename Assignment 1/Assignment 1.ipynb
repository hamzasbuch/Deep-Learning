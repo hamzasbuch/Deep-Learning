{
 "cells": [
  {
   "cell_type": "markdown",
   "metadata": {},
   "source": [
    "# HM1: Logistic Regression.\n",
    "\n",
    "### Name: Hamza Shabir\n"
   ]
  },
  {
   "cell_type": "markdown",
   "metadata": {},
   "source": [
    "#### For this assignment, you will build 6 models. You need to train Logistic Regression/Regularized Logistic Regression each with Batch Gradient Descent, Stochastic Gradient Descent and Mini Batch Gradient Descent. Also you should plot their objective values versus epochs and compare their training and testing accuracies. You will need to tune the parameters a little bit to obtain reasonable results.\n",
    "\n",
    "#### You do not have to follow the following procedure. You may implement your own functions and methods, but you need to show your results and plots."
   ]
  },
  {
   "cell_type": "code",
   "execution_count": 28,
   "metadata": {},
   "outputs": [],
   "source": [
    "# Load Packages\n",
    "import pandas as pd\n",
    "import numpy as np\n",
    "from sklearn.model_selection import train_test_split\n",
    "import matplotlib.pyplot as plt\n",
    "from sklearn.metrics import accuracy_score"
   ]
  },
  {
   "cell_type": "markdown",
   "metadata": {},
   "source": [
    "# 1. Data processing\n",
    "\n",
    "- Download the Breast Cancer dataset from canvas or from https://archive.ics.uci.edu/ml/datasets/breast+cancer+wisconsin+(diagnostic)\n",
    "- Load the data.\n",
    "- Preprocess the data."
   ]
  },
  {
   "cell_type": "markdown",
   "metadata": {},
   "source": [
    "## 1.1. Load the data"
   ]
  },
  {
   "cell_type": "code",
   "execution_count": 29,
   "metadata": {},
   "outputs": [
    {
     "data": {
      "text/html": [
       "<div>\n",
       "<style scoped>\n",
       "    .dataframe tbody tr th:only-of-type {\n",
       "        vertical-align: middle;\n",
       "    }\n",
       "\n",
       "    .dataframe tbody tr th {\n",
       "        vertical-align: top;\n",
       "    }\n",
       "\n",
       "    .dataframe thead th {\n",
       "        text-align: right;\n",
       "    }\n",
       "</style>\n",
       "<table border=\"1\" class=\"dataframe\">\n",
       "  <thead>\n",
       "    <tr style=\"text-align: right;\">\n",
       "      <th></th>\n",
       "      <th>id</th>\n",
       "      <th>diagnosis</th>\n",
       "      <th>radius_mean</th>\n",
       "      <th>texture_mean</th>\n",
       "      <th>perimeter_mean</th>\n",
       "      <th>area_mean</th>\n",
       "      <th>smoothness_mean</th>\n",
       "      <th>compactness_mean</th>\n",
       "      <th>concavity_mean</th>\n",
       "      <th>concave points_mean</th>\n",
       "      <th>...</th>\n",
       "      <th>texture_worst</th>\n",
       "      <th>perimeter_worst</th>\n",
       "      <th>area_worst</th>\n",
       "      <th>smoothness_worst</th>\n",
       "      <th>compactness_worst</th>\n",
       "      <th>concavity_worst</th>\n",
       "      <th>concave points_worst</th>\n",
       "      <th>symmetry_worst</th>\n",
       "      <th>fractal_dimension_worst</th>\n",
       "      <th>Unnamed: 32</th>\n",
       "    </tr>\n",
       "  </thead>\n",
       "  <tbody>\n",
       "    <tr>\n",
       "      <th>0</th>\n",
       "      <td>842302</td>\n",
       "      <td>M</td>\n",
       "      <td>17.99</td>\n",
       "      <td>10.38</td>\n",
       "      <td>122.80</td>\n",
       "      <td>1001.0</td>\n",
       "      <td>0.11840</td>\n",
       "      <td>0.27760</td>\n",
       "      <td>0.3001</td>\n",
       "      <td>0.14710</td>\n",
       "      <td>...</td>\n",
       "      <td>17.33</td>\n",
       "      <td>184.60</td>\n",
       "      <td>2019.0</td>\n",
       "      <td>0.1622</td>\n",
       "      <td>0.6656</td>\n",
       "      <td>0.7119</td>\n",
       "      <td>0.2654</td>\n",
       "      <td>0.4601</td>\n",
       "      <td>0.11890</td>\n",
       "      <td>NaN</td>\n",
       "    </tr>\n",
       "    <tr>\n",
       "      <th>1</th>\n",
       "      <td>842517</td>\n",
       "      <td>M</td>\n",
       "      <td>20.57</td>\n",
       "      <td>17.77</td>\n",
       "      <td>132.90</td>\n",
       "      <td>1326.0</td>\n",
       "      <td>0.08474</td>\n",
       "      <td>0.07864</td>\n",
       "      <td>0.0869</td>\n",
       "      <td>0.07017</td>\n",
       "      <td>...</td>\n",
       "      <td>23.41</td>\n",
       "      <td>158.80</td>\n",
       "      <td>1956.0</td>\n",
       "      <td>0.1238</td>\n",
       "      <td>0.1866</td>\n",
       "      <td>0.2416</td>\n",
       "      <td>0.1860</td>\n",
       "      <td>0.2750</td>\n",
       "      <td>0.08902</td>\n",
       "      <td>NaN</td>\n",
       "    </tr>\n",
       "    <tr>\n",
       "      <th>2</th>\n",
       "      <td>84300903</td>\n",
       "      <td>M</td>\n",
       "      <td>19.69</td>\n",
       "      <td>21.25</td>\n",
       "      <td>130.00</td>\n",
       "      <td>1203.0</td>\n",
       "      <td>0.10960</td>\n",
       "      <td>0.15990</td>\n",
       "      <td>0.1974</td>\n",
       "      <td>0.12790</td>\n",
       "      <td>...</td>\n",
       "      <td>25.53</td>\n",
       "      <td>152.50</td>\n",
       "      <td>1709.0</td>\n",
       "      <td>0.1444</td>\n",
       "      <td>0.4245</td>\n",
       "      <td>0.4504</td>\n",
       "      <td>0.2430</td>\n",
       "      <td>0.3613</td>\n",
       "      <td>0.08758</td>\n",
       "      <td>NaN</td>\n",
       "    </tr>\n",
       "    <tr>\n",
       "      <th>3</th>\n",
       "      <td>84348301</td>\n",
       "      <td>M</td>\n",
       "      <td>11.42</td>\n",
       "      <td>20.38</td>\n",
       "      <td>77.58</td>\n",
       "      <td>386.1</td>\n",
       "      <td>0.14250</td>\n",
       "      <td>0.28390</td>\n",
       "      <td>0.2414</td>\n",
       "      <td>0.10520</td>\n",
       "      <td>...</td>\n",
       "      <td>26.50</td>\n",
       "      <td>98.87</td>\n",
       "      <td>567.7</td>\n",
       "      <td>0.2098</td>\n",
       "      <td>0.8663</td>\n",
       "      <td>0.6869</td>\n",
       "      <td>0.2575</td>\n",
       "      <td>0.6638</td>\n",
       "      <td>0.17300</td>\n",
       "      <td>NaN</td>\n",
       "    </tr>\n",
       "    <tr>\n",
       "      <th>4</th>\n",
       "      <td>84358402</td>\n",
       "      <td>M</td>\n",
       "      <td>20.29</td>\n",
       "      <td>14.34</td>\n",
       "      <td>135.10</td>\n",
       "      <td>1297.0</td>\n",
       "      <td>0.10030</td>\n",
       "      <td>0.13280</td>\n",
       "      <td>0.1980</td>\n",
       "      <td>0.10430</td>\n",
       "      <td>...</td>\n",
       "      <td>16.67</td>\n",
       "      <td>152.20</td>\n",
       "      <td>1575.0</td>\n",
       "      <td>0.1374</td>\n",
       "      <td>0.2050</td>\n",
       "      <td>0.4000</td>\n",
       "      <td>0.1625</td>\n",
       "      <td>0.2364</td>\n",
       "      <td>0.07678</td>\n",
       "      <td>NaN</td>\n",
       "    </tr>\n",
       "  </tbody>\n",
       "</table>\n",
       "<p>5 rows × 33 columns</p>\n",
       "</div>"
      ],
      "text/plain": [
       "         id diagnosis  radius_mean  texture_mean  perimeter_mean  area_mean  \\\n",
       "0    842302         M        17.99         10.38          122.80     1001.0   \n",
       "1    842517         M        20.57         17.77          132.90     1326.0   \n",
       "2  84300903         M        19.69         21.25          130.00     1203.0   \n",
       "3  84348301         M        11.42         20.38           77.58      386.1   \n",
       "4  84358402         M        20.29         14.34          135.10     1297.0   \n",
       "\n",
       "   smoothness_mean  compactness_mean  concavity_mean  concave points_mean  \\\n",
       "0          0.11840           0.27760          0.3001              0.14710   \n",
       "1          0.08474           0.07864          0.0869              0.07017   \n",
       "2          0.10960           0.15990          0.1974              0.12790   \n",
       "3          0.14250           0.28390          0.2414              0.10520   \n",
       "4          0.10030           0.13280          0.1980              0.10430   \n",
       "\n",
       "   ...  texture_worst  perimeter_worst  area_worst  smoothness_worst  \\\n",
       "0  ...          17.33           184.60      2019.0            0.1622   \n",
       "1  ...          23.41           158.80      1956.0            0.1238   \n",
       "2  ...          25.53           152.50      1709.0            0.1444   \n",
       "3  ...          26.50            98.87       567.7            0.2098   \n",
       "4  ...          16.67           152.20      1575.0            0.1374   \n",
       "\n",
       "   compactness_worst  concavity_worst  concave points_worst  symmetry_worst  \\\n",
       "0             0.6656           0.7119                0.2654          0.4601   \n",
       "1             0.1866           0.2416                0.1860          0.2750   \n",
       "2             0.4245           0.4504                0.2430          0.3613   \n",
       "3             0.8663           0.6869                0.2575          0.6638   \n",
       "4             0.2050           0.4000                0.1625          0.2364   \n",
       "\n",
       "   fractal_dimension_worst  Unnamed: 32  \n",
       "0                  0.11890          NaN  \n",
       "1                  0.08902          NaN  \n",
       "2                  0.08758          NaN  \n",
       "3                  0.17300          NaN  \n",
       "4                  0.07678          NaN  \n",
       "\n",
       "[5 rows x 33 columns]"
      ]
     },
     "execution_count": 29,
     "metadata": {},
     "output_type": "execute_result"
    }
   ],
   "source": [
    "data = pd.read_csv('data.csv')\n",
    "data.head()"
   ]
  },
  {
   "cell_type": "markdown",
   "metadata": {},
   "source": [
    "## 1.2 Examine and clean data"
   ]
  },
  {
   "cell_type": "code",
   "execution_count": 30,
   "metadata": {},
   "outputs": [],
   "source": [
    "# Some columns may not be useful for the model (For example, the first column contains ID number which may be irrelavant). \n",
    "# You need to get rid of the ID number feature.\n",
    "# Also you should transform target labels in the second column from 'B' and 'M' to 1 and -1.\n",
    "X = data.iloc[:,2:32]\n",
    "y = data.iloc[:,1]\n",
    "y = y.replace({'B': 1, 'M': -1})"
   ]
  },
  {
   "cell_type": "markdown",
   "metadata": {},
   "source": [
    "## 1.3. Partition to training and testing sets"
   ]
  },
  {
   "cell_type": "code",
   "execution_count": 31,
   "metadata": {},
   "outputs": [],
   "source": [
    "# You can partition using 80% training data and 20% testing data. It is a commonly used ratio in machinel learning.\n",
    "x_train, x_test, y_train, y_test = train_test_split(X, y, test_size=0.20, random_state=42)"
   ]
  },
  {
   "cell_type": "markdown",
   "metadata": {},
   "source": [
    "## 1.4. Feature scaling"
   ]
  },
  {
   "cell_type": "markdown",
   "metadata": {},
   "source": [
    "Use the standardization to trainsform both training and test features"
   ]
  },
  {
   "cell_type": "code",
   "execution_count": 32,
   "metadata": {},
   "outputs": [
    {
     "name": "stdout",
     "output_type": "stream",
     "text": [
      "test mean = \n",
      "radius_mean                0.013646\n",
      "texture_mean               0.122535\n",
      "perimeter_mean             0.017830\n",
      "area_mean                  0.007201\n",
      "smoothness_mean            0.221149\n",
      "compactness_mean           0.068722\n",
      "concavity_mean            -0.006214\n",
      "concave points_mean        0.083925\n",
      "symmetry_mean              0.011485\n",
      "fractal_dimension_mean     0.028301\n",
      "radius_se                  0.055695\n",
      "texture_se                 0.130663\n",
      "perimeter_se               0.018831\n",
      "area_se                    0.028115\n",
      "smoothness_se              0.084815\n",
      "compactness_se            -0.042242\n",
      "concavity_se              -0.144548\n",
      "concave points_se         -0.077631\n",
      "symmetry_se               -0.019083\n",
      "fractal_dimension_se      -0.045792\n",
      "radius_worst               0.035400\n",
      "texture_worst              0.116600\n",
      "perimeter_worst            0.023669\n",
      "area_worst                 0.031653\n",
      "smoothness_worst           0.181063\n",
      "compactness_worst          0.049100\n",
      "concavity_worst           -0.057414\n",
      "concave points_worst       0.032431\n",
      "symmetry_worst            -0.033755\n",
      "fractal_dimension_worst    0.021828\n",
      "dtype: float64\n",
      "test std = \n",
      "radius_mean                0.984314\n",
      "texture_mean               1.035636\n",
      "perimeter_mean             0.996238\n",
      "area_mean                  0.957757\n",
      "smoothness_mean            1.031830\n",
      "compactness_mean           1.031378\n",
      "concavity_mean             1.016787\n",
      "concave points_mean        1.092371\n",
      "symmetry_mean              0.987689\n",
      "fractal_dimension_mean     0.892528\n",
      "radius_se                  0.891957\n",
      "texture_se                 1.082929\n",
      "perimeter_se               0.875660\n",
      "area_se                    0.799617\n",
      "smoothness_se              0.905555\n",
      "compactness_se             0.795486\n",
      "concavity_se               0.628685\n",
      "concave points_se          0.895874\n",
      "symmetry_se                1.057210\n",
      "fractal_dimension_se       0.712388\n",
      "radius_worst               1.023190\n",
      "texture_worst              1.061059\n",
      "perimeter_worst            1.034493\n",
      "area_worst                 1.015418\n",
      "smoothness_worst           0.931825\n",
      "compactness_worst          1.072842\n",
      "concavity_worst            0.981183\n",
      "concave points_worst       1.031324\n",
      "symmetry_worst             0.894602\n",
      "fractal_dimension_worst    1.059151\n",
      "dtype: float64\n"
     ]
    }
   ],
   "source": [
    "# Standardization\n",
    "import numpy\n",
    "\n",
    "# calculate mu and sig using the training set\n",
    "d = x_train.shape[1]\n",
    "mu = numpy.mean(x_train, axis=0).values.reshape(1, d)\n",
    "sig = numpy.std(x_train, axis=0).values.reshape(1, d)\n",
    "\n",
    "# transform the training features\n",
    "x_train = (x_train - mu) / (sig + 1E-6)\n",
    "\n",
    "# transform the test features\n",
    "x_test = (x_test - mu) / (sig + 1E-6)\n",
    "\n",
    "print('test mean = ')\n",
    "print(numpy.mean(x_test, axis=0))\n",
    "\n",
    "print('test std = ')\n",
    "print(numpy.std(x_test, axis=0))"
   ]
  },
  {
   "cell_type": "markdown",
   "metadata": {},
   "source": [
    "## 1.5. Adding bias term"
   ]
  },
  {
   "cell_type": "code",
   "execution_count": 33,
   "metadata": {},
   "outputs": [
    {
     "name": "stdout",
     "output_type": "stream",
     "text": [
      "Shape of x_train: (455, 31)\n",
      "Shape of x_test: (114, 31)\n"
     ]
    }
   ],
   "source": [
    "n_train, d = x_train.shape\n",
    "x_train = np.concatenate((x_train, np.ones((n_train, 1))), axis=1)\n",
    "n_test, d = x_test.shape\n",
    "x_test = np.concatenate((x_test, np.ones((n_test, 1))), axis=1)\n",
    "print('Shape of x_train: ' + str(x_train.shape))\n",
    "print('Shape of x_test: ' + str(x_test.shape))"
   ]
  },
  {
   "cell_type": "markdown",
   "metadata": {},
   "source": [
    "# 2.  Logistic Regression Model\n",
    "\n",
    "The objective function is $Q (w; X, y) = \\frac{1}{n} \\sum_{i=1}^n \\log \\Big( 1 + \\exp \\big( - y_i x_i^T w \\big) \\Big) + \\frac{\\lambda}{2} \\| w \\|_2^2 $.\n",
    "\n",
    "When $\\lambda = 0$, the model is a regular logistric regression and when $\\lambda > 0$, it essentially becomes a regularized logistric regression."
   ]
  },
  {
   "cell_type": "code",
   "execution_count": 34,
   "metadata": {},
   "outputs": [],
   "source": [
    "# Calculate the objective function value, or loss\n",
    "# Inputs:\n",
    "#     w: weight: d-by-1 matrix\n",
    "#     x: data: n-by-d matrix\n",
    "#     y: label: n-by-1 matrix\n",
    "#     lam: regularization parameter: scalar\n",
    "# Return:\n",
    "#     objective function value, or loss (scalar)\n",
    "\n",
    "\n",
    "def objective(w, x, y, lam):\n",
    "        loss = np.mean(np.log(1+ np.exp(-(np.dot(np.multiply(y,x),w))))) + (lam/2)* np.sum(np.square(w))\n",
    "        return loss"
   ]
  },
  {
   "cell_type": "markdown",
   "metadata": {},
   "source": [
    "# 3. Numerical optimization"
   ]
  },
  {
   "cell_type": "markdown",
   "metadata": {},
   "source": [
    "## 3.1. Gradient descent\n"
   ]
  },
  {
   "cell_type": "markdown",
   "metadata": {},
   "source": [
    "The gradient at $w$ for regularized logistic regression is  $g = - \\frac{1}{n} \\sum_{i=1}^n \\frac{y_i x_i }{1 + \\exp ( y_i x_i^T w)} + \\lambda w$"
   ]
  },
  {
   "cell_type": "code",
   "execution_count": 35,
   "metadata": {},
   "outputs": [],
   "source": [
    "# Calculate the gradient\n",
    "# Inputs:\n",
    "#     w: weight: d-by-1 matrix\n",
    "#     x: data: n-by-d matrix\n",
    "#     y: label: n-by-1 matrix\n",
    "#     lam: regularization parameter: scalar\n",
    "# Return:\n",
    "#     g: gradient: d-by-1 matrix\n",
    "\n",
    "def gradient(w, x, y, lam):\n",
    "    d = x.shape[1]\n",
    "    gradient = -np.mean(np.divide(np.multiply(y,x),(1+ np.exp((np.dot(np.multiply(y,x),w))))), axis=0).reshape(d,1) + (lam * w)\n",
    "    return gradient"
   ]
  },
  {
   "cell_type": "code",
   "execution_count": 36,
   "metadata": {},
   "outputs": [],
   "source": [
    "# Gradient descent for solving logistic regression\n",
    "# You will need to do iterative process (loops) to obtain optimal weights in this function\n",
    "\n",
    "# Inputs:\n",
    "#     x: data: n-by-d matrix\n",
    "#     y: label: n-by-1 matrix\n",
    "#     lam: scalar, the regularization parameter\n",
    "#     learning_rate: scalar\n",
    "#     w: weights: d-by-1 matrix, initialization of w\n",
    "#     max_epoch: integer, the maximal epochs\n",
    "# Return:\n",
    "#     w: weights: d-by-1 matrix, the solution\n",
    "#     objvals: a record of each epoch's objective value\n",
    "\n",
    "def gradient_descent(x, y, lam, learning_rate, max_epoch=100):\n",
    "    n, d = x.shape\n",
    "    objvals = numpy.zeros(max_epoch) # store the objective values\n",
    "\n",
    "    w = numpy.zeros((d, 1)) # zero initialization\n",
    "    \n",
    "    y = np.array(y).reshape((n,1))\n",
    "        \n",
    "    for epoch in range(max_epoch):\n",
    "        dw = gradient(w, x, y, lam)\n",
    "        w -= learning_rate * dw\n",
    "        objval = objective(w, x, y, lam)\n",
    "        objvals[epoch] = objval\n",
    "    return w, objvals"
   ]
  },
  {
   "cell_type": "markdown",
   "metadata": {},
   "source": [
    "Use gradient_descent function to obtain your optimal weights and a list of objective values over each epoch."
   ]
  },
  {
   "cell_type": "code",
   "execution_count": 37,
   "metadata": {},
   "outputs": [],
   "source": [
    "# Train logistic regression\n",
    "# You should get the optimal weights and a list of objective values by using gradient_descent function.\n",
    "lam = 0\n",
    "learning_rate = 0.01\n",
    "w_gd, objvals_gd = gradient_descent(x_train, y_train, lam, learning_rate)"
   ]
  },
  {
   "cell_type": "code",
   "execution_count": 38,
   "metadata": {},
   "outputs": [],
   "source": [
    "# Train regularized logistric regression\n",
    "# You should get the optimal weights and a list of objective values by using gradient_descent function.\n",
    "lam = 1E-6\n",
    "learning_rate = 0.01\n",
    "w_gd_reg, objvals_gd_reg = gradient_descent(x_train, y_train, lam, learning_rate)"
   ]
  },
  {
   "cell_type": "markdown",
   "metadata": {},
   "source": [
    "## 3.2. Stochastic gradient descent (SGD)\n",
    "\n",
    "Define new objective function $Q_i (w) = \\log \\Big( 1 + \\exp \\big( - y_i x_i^T w \\big) \\Big) + \\frac{\\lambda}{2} \\| w \\|_2^2 $. \n",
    "\n",
    "The stochastic gradient at $w$ is $g_i = \\frac{\\partial Q_i }{ \\partial w} = -\\frac{y_i x_i }{1 + \\exp ( y_i x_i^T w)} + \\lambda w$.\n",
    "\n",
    "You may need to implement a new function to calculate the new objective function and gradients."
   ]
  },
  {
   "cell_type": "code",
   "execution_count": 39,
   "metadata": {},
   "outputs": [],
   "source": [
    "# Calculate the objective Q_i and the gradient of Q_i\n",
    "# Inputs:\n",
    "#     w: weights: d-by-1 matrix\n",
    "#     xi: data: 1-by-d matrix\n",
    "#     yi: label: scalar\n",
    "#     lam: scalar, the regularization parameter\n",
    "# Return:\n",
    "#     obj: scalar, the objective Q_i\n",
    "#     g: d-by-1 matrix, gradient of Q_i\n",
    "\n",
    "def stochastic_objective_gradient(w, xi, yi, lam):\n",
    "    yx = np.multiply(yi,xi)\n",
    "    yxw = np.dot(yx,w)\n",
    "\n",
    "    loss = np.log(1+ np.exp(-yxw)) + (lam/2) * np.sum(np.square(w))\n",
    "\n",
    "    gradient = -(yx) / (1+ np.exp(yxw)) + (lam * w).reshape(xi.shape[0])\n",
    "\n",
    "    return loss, gradient"
   ]
  },
  {
   "cell_type": "markdown",
   "metadata": {},
   "source": [
    "Hints:\n",
    "1. In every epoch, randomly permute the $n$ samples.\n",
    "2. Each epoch has $n$ iterations. In every iteration, use 1 sample, and compute the gradient and objective using the ``stochastic_objective_gradient`` function. In the next iteration, use the next sample, and so on."
   ]
  },
  {
   "cell_type": "code",
   "execution_count": 40,
   "metadata": {},
   "outputs": [],
   "source": [
    "# SGD for solving logistic regression\n",
    "# You will need to do iterative process (loops) to obtain optimal weights in this function\n",
    "\n",
    "# Inputs:\n",
    "#     x: data: n-by-d matrix\n",
    "#     y: label: n-by-1 matrix\n",
    "#     lam: scalar, the regularization parameter\n",
    "#     learning_rate: scalar\n",
    "#     w: weights: d-by-1 matrix, initialization of w\n",
    "#     max_epoch: integer, the maximal epochs\n",
    "# Return:\n",
    "#     \n",
    "#     w: weights: d-by-1 matrix, the solution\n",
    "#     objvals: a record of each epoch's objective value\n",
    "#     Record one objective value per epoch (not per iteration)\n",
    "\n",
    "def sgd(x, y, lam, learning_rate, max_epoch=100):\n",
    "    n, d = x.shape\n",
    "    objvals = numpy.zeros(max_epoch) # store the objective values\n",
    "    \n",
    "    w = numpy.zeros((d, 1)) # zero initialization\n",
    "       \n",
    "    y = np.array(y).reshape((n,1))\n",
    "\n",
    "    for epoch in range(max_epoch):\n",
    "        # randomly shuffle the samples\n",
    "        rand_indices = numpy.random.permutation(n)\n",
    "        x_random = x[rand_indices, :]\n",
    "        y_random = y[rand_indices, :]\n",
    "\n",
    "\n",
    "        objval = 0 # accumulate the objective values\n",
    "        for i in range(n):\n",
    "            xi = x_random[i, :] # 1-by-d matrix\n",
    "            yi = float(y_random[i, :]) # scalar\n",
    "            obj, dw = stochastic_objective_gradient(w, xi, yi, lam)\n",
    "            objval += obj\n",
    "            w -= (learning_rate * dw.reshape((d,1)))\n",
    "        objval /= n\n",
    "        objvals[epoch] = objval\n",
    "    return w, objvals"
   ]
  },
  {
   "cell_type": "markdown",
   "metadata": {},
   "source": [
    "Use sgd function to obtain your optimal weights and a list of objective values over each epoch."
   ]
  },
  {
   "cell_type": "code",
   "execution_count": 41,
   "metadata": {},
   "outputs": [],
   "source": [
    "# Train logistic regression\n",
    "# You should get the optimal weights and a list of objective values by using gradient_descent function.\n",
    "lam = 0\n",
    "learning_rate = 0.01\n",
    "w_sgd, objvals_sgd = sgd(x_train, y_train, lam, learning_rate)"
   ]
  },
  {
   "cell_type": "code",
   "execution_count": 42,
   "metadata": {},
   "outputs": [],
   "source": [
    "# Train regularized logistic regression\n",
    "# You should get the optimal weights and a list of objective values by using gradient_descent function.\n",
    "lam = 1E-6\n",
    "learning_rate = 0.01\n",
    "w_sgd_reg, objvals_sgd_reg = sgd(x_train, y_train, lam, learning_rate)"
   ]
  },
  {
   "cell_type": "markdown",
   "metadata": {},
   "source": [
    "## 3.3 Mini-Batch Gradient Descent (MBGD)"
   ]
  },
  {
   "cell_type": "markdown",
   "metadata": {},
   "source": [
    "Define $Q_I (w) = \\frac{1}{b} \\sum_{i \\in I} \\log \\Big( 1 + \\exp \\big( - y_i x_i^T w \\big) \\Big) + \\frac{\\lambda}{2} \\| w \\|_2^2 $, where $I$ is a set containing $b$ indices randomly drawn from $\\{ 1, \\cdots , n \\}$ without replacement.\n",
    "\n",
    "The stochastic gradient at $w$ is $g_I = \\frac{\\partial Q_I }{ \\partial w} = \\frac{1}{b} \\sum_{i \\in I} \\frac{- y_i x_i }{1 + \\exp ( y_i x_i^T w)} + \\lambda w$.\n",
    "\n",
    "You may need to implement a new function to calculate the new objective function and gradients."
   ]
  },
  {
   "cell_type": "code",
   "execution_count": 43,
   "metadata": {},
   "outputs": [],
   "source": [
    "# Calculate the objective Q_I and the gradient of Q_I\n",
    "# Inputs:\n",
    "#     w: weights: d-by-b matrix\n",
    "#     xi: data: b-by-d matrix\n",
    "#     yi: label: b-by-1 matrix\n",
    "#     lam: scalar, the regularization parameter\n",
    "# Return:\n",
    "#     obj: scalar, the objective Q_i\n",
    "#     g: d-by-1 matrix, gradient of Q_i\n",
    "\n",
    "def mb_objective_gradient(w, xi, yi, lam):\n",
    "    d = xi.shape[1]\n",
    "    yx = np.multiply(yi, xi)\n",
    "    yxw = np.dot(yx,w)\n",
    "\n",
    "\n",
    "    loss = np.mean(np.log(1+ np.exp(-yxw))) + (lam/2)* np.sum(np.square(w))\n",
    "    gradient = np.mean(np.divide(-yx,(1+ np.exp(yxw))), axis=0).reshape(d,1) + (lam * w)\n",
    "    return loss, gradient"
   ]
  },
  {
   "cell_type": "markdown",
   "metadata": {},
   "source": [
    "Hints:\n",
    "1. In every epoch, randomly permute the $n$ samples (just like SGD).\n",
    "2. Each epoch has $\\frac{n}{b}$ iterations. In every iteration, use $b$ samples, and compute the gradient and objective using the ``mb_objective_gradient`` function. In the next iteration, use the next $b$ samples, and so on."
   ]
  },
  {
   "cell_type": "code",
   "execution_count": 44,
   "metadata": {},
   "outputs": [],
   "source": [
    "# MBGD for solving logistic regression\n",
    "# You will need to do iterative process (loops) to obtain optimal weights in this function\n",
    "\n",
    "# Inputs:\n",
    "#     x: data: n-by-d matrix\n",
    "#     y: label: n-by-1 matrix\n",
    "#     lam: scalar, the regularization parameter\n",
    "#     learning_rate: scalar\n",
    "#     w: weights: d-by-1 matrix, initialization of w\n",
    "#     max_epoch: integer, the maximal epochs\n",
    "# Return:\n",
    "#     w: weights: d-by-1 matrix, the solution\n",
    "#     objvals: a record of each epoch's objective value\n",
    "#     Record one objective value per epoch (not per iteration)\n",
    "\n",
    "def mbgd(x, y, lam, learning_rate, batch_size, max_epoch=100):\n",
    "    n, d = x.shape\n",
    "    objvals = numpy.zeros(max_epoch) # store the objective values\n",
    "    \n",
    "    w = numpy.zeros((d, 1)) # zero initialization\n",
    "       \n",
    "    y = np.array(y).reshape((n,1))\n",
    "\n",
    "    for epoch in range(max_epoch):\n",
    "        # randomly shuffle the samples\n",
    "        rand_indices = numpy.random.permutation(n)\n",
    "        x_random = x[rand_indices, :]\n",
    "        y_random = y[rand_indices, :]\n",
    "\n",
    "\n",
    "        objval = 0 # accumulate the objective values\n",
    "        for i in range((n - 1) // batch_size + 1):\n",
    "            start_i = i * batch_size\n",
    "            end_i = start_i + batch_size\n",
    "            x_batch = x_random[start_i:end_i]\n",
    "            y_batch = y_random[start_i:end_i]\n",
    "\n",
    "            obj, dw = mb_objective_gradient(w, x_batch, y_batch, lam)\n",
    "            objval += obj\n",
    "            w -= learning_rate * dw\n",
    "        objval /= batch_size\n",
    "        objvals[epoch] = objval\n",
    "    return w, objvals"
   ]
  },
  {
   "cell_type": "markdown",
   "metadata": {},
   "source": [
    "Use mbgd function to obtain your optimal weights and a list of objective values over each epoch."
   ]
  },
  {
   "cell_type": "code",
   "execution_count": 45,
   "metadata": {},
   "outputs": [],
   "source": [
    "# Train logistic regression\n",
    "# You should get the optimal weights and a list of objective values by using gradient_descent function.\n",
    "lam = 0\n",
    "learning_rate = 0.01\n",
    "batch_size = 50\n",
    "w_mbgd, objvals_mbgd = mbgd(x_train, y_train, lam, learning_rate, batch_size)"
   ]
  },
  {
   "cell_type": "code",
   "execution_count": 46,
   "metadata": {},
   "outputs": [],
   "source": [
    "# Train regularized logistric regression\n",
    "# You should get the optimal weights and a list of objective values by using gradient_descent function.\n",
    "lam = 1E-6\n",
    "learning_rate = 0.1\n",
    "batch_size = 50\n",
    "w_mbgd_reg, objvals_mbgd_reg = mbgd(x_train, y_train, lam, learning_rate, batch_size)"
   ]
  },
  {
   "cell_type": "markdown",
   "metadata": {},
   "source": [
    "# 4. Compare GD, SGD, MBGD\n",
    "\n",
    "### Plot objective function values against epochs."
   ]
  },
  {
   "cell_type": "code",
   "execution_count": 47,
   "metadata": {},
   "outputs": [
    {
     "data": {
      "image/png": "[encoded data removed]",
      "text/plain": [
       "<Figure size 432x288 with 1 Axes>"
      ]
     },
     "metadata": {
      "needs_background": "light"
     },
     "output_type": "display_data"
    }
   ],
   "source": [
    "%matplotlib inline\n",
    "\n",
    "epochs_gd = range(len(objvals_gd))\n",
    "epochs_sgd = range(len(objvals_sgd))\n",
    "epochs_mbgd = range(len(objvals_mbgd))\n",
    "\n",
    "line0, = plt.plot(epochs_gd, objvals_gd)\n",
    "line1, = plt.plot(epochs_sgd, objvals_sgd)\n",
    "line2, = plt.plot(epochs_mbgd, objvals_mbgd)\n",
    "plt.title(\"Objective vs Epochs\")\n",
    "plt.xlabel('Epoch')\n",
    "plt.ylabel('Objective')\n",
    "plt.legend([line0, line1, line2], ['GD', 'SGD', 'MBGD'])\n",
    "\n",
    "plt.show()\n"
   ]
  },
  {
   "cell_type": "markdown",
   "metadata": {},
   "source": [
    "# 5. Prediction\n",
    "### Compare the training and testing accuracy for logistic regression and regularized logistic regression."
   ]
  },
  {
   "cell_type": "code",
   "execution_count": 48,
   "metadata": {},
   "outputs": [],
   "source": [
    "# Predict class label\n",
    "# Inputs:\n",
    "#     w: weights: d-by-1 matrix\n",
    "#     X: data: m-by-d matrix\n",
    "# Return:\n",
    "#     f: m-by-1 matrix, the predictions\n",
    "def predict(w, X):\n",
    "    predictions = (np.dot(X, w))\n",
    "    predicted_class = [1 if i > 0 else -1 for i in predictions]\n",
    "    return np.array(predicted_class)"
   ]
  },
  {
   "cell_type": "code",
   "execution_count": 49,
   "metadata": {},
   "outputs": [
    {
     "name": "stdout",
     "output_type": "stream",
     "text": [
      "Training accuracy for GD model: 0.9516483516483516\n",
      "Training accuracy for SGD model: 0.9868131868131869\n",
      "Training accuracy for MBGD model: 0.9824175824175824\n"
     ]
    }
   ],
   "source": [
    "# evaluate training error of logistic regression and regularized version\n",
    "y_train_pred = predict(w_gd,x_train)\n",
    "train_accuracy_gd = accuracy_score(y_train, y_train_pred)\n",
    "print(\"Training accuracy for GD model: \" + str(train_accuracy_gd))\n",
    "\n",
    "y_train_pred = predict(w_sgd,x_train)\n",
    "train_accuracy_sgd = accuracy_score(y_train, y_train_pred)\n",
    "print(\"Training accuracy for SGD model: \" + str(train_accuracy_sgd))\n",
    "\n",
    "y_train_pred = predict(w_mbgd,x_train)\n",
    "train_accuracy_mbgd = accuracy_score(y_train, y_train_pred)\n",
    "print(\"Training accuracy for MBGD model: \" + str(train_accuracy_mbgd))"
   ]
  },
  {
   "cell_type": "code",
   "execution_count": 50,
   "metadata": {},
   "outputs": [
    {
     "name": "stdout",
     "output_type": "stream",
     "text": [
      "Training accuracy for regularized GD model: 0.9516483516483516\n",
      "Training accuracy for regularized SGD model: 0.9868131868131869\n",
      "Training accuracy for regularized MBGD model: 0.9868131868131869\n"
     ]
    }
   ],
   "source": [
    "# regularized version\n",
    "y_train_pred = predict(w_gd_reg,x_train)\n",
    "train_accuracy_gd_reg = accuracy_score(y_train, y_train_pred)\n",
    "print(\"Training accuracy for regularized GD model: \" + str(train_accuracy_gd_reg))\n",
    "\n",
    "y_train_pred = predict(w_sgd_reg,x_train)\n",
    "train_accuracy_sgd_reg = accuracy_score(y_train, y_train_pred)\n",
    "print(\"Training accuracy for regularized SGD model: \" + str(train_accuracy_sgd_reg))\n",
    "\n",
    "y_train_pred = predict(w_mbgd_reg,x_train)\n",
    "train_accuracy_mbgd_reg = accuracy_score(y_train, y_train_pred)\n",
    "print(\"Training accuracy for regularized MBGD model: \" + str(train_accuracy_mbgd_reg))"
   ]
  },
  {
   "cell_type": "code",
   "execution_count": 51,
   "metadata": {},
   "outputs": [
    {
     "name": "stdout",
     "output_type": "stream",
     "text": [
      "Testing accuracy for GD model: 0.9736842105263158\n",
      "Testing accuracy for SGD model: 0.9824561403508771\n",
      "Testing accuracy for MBGD model: 0.9824561403508771\n"
     ]
    }
   ],
   "source": [
    "# evaluate testing error of logistic regression and regularized version\n",
    "y_test_pred = predict(w_gd,x_test)\n",
    "test_accuracy_gd = accuracy_score(y_test, y_test_pred)\n",
    "print(\"Testing accuracy for GD model: \" + str(test_accuracy_gd))\n",
    "\n",
    "y_test_pred = predict(w_sgd,x_test)\n",
    "test_accuracy_sgd = accuracy_score(y_test, y_test_pred)\n",
    "print(\"Testing accuracy for SGD model: \" + str(test_accuracy_sgd))\n",
    "\n",
    "y_test_pred = predict(w_mbgd,x_test)\n",
    "test_accuracy_mbgd = accuracy_score(y_test, y_test_pred)\n",
    "print(\"Testing accuracy for MBGD model: \" + str(test_accuracy_mbgd))"
   ]
  },
  {
   "cell_type": "code",
   "execution_count": 52,
   "metadata": {},
   "outputs": [
    {
     "name": "stdout",
     "output_type": "stream",
     "text": [
      "Testing accuracy for GD regularized model: 0.9736842105263158\n",
      "Testing accuracy for SGD regularized model: 0.9824561403508771\n",
      "Testing accuracy for MBGD regularized model: 0.9824561403508771\n"
     ]
    }
   ],
   "source": [
    "# regularized version\n",
    "y_test_pred = predict(w_gd_reg,x_test)\n",
    "test_accuracy_gd_reg = accuracy_score(y_test, y_test_pred)\n",
    "print(\"Testing accuracy for GD regularized model: \" + str(test_accuracy_gd_reg))\n",
    "\n",
    "y_test_pred = predict(w_sgd_reg,x_test)\n",
    "test_accuracy_sgd_reg = accuracy_score(y_test, y_test_pred)\n",
    "print(\"Testing accuracy for SGD regularized model: \" + str(test_accuracy_sgd_reg))\n",
    "\n",
    "y_test_pred = predict(w_mbgd_reg,x_test)\n",
    "test_accuracy_mbgd_reg = accuracy_score(y_test, y_test_pred)\n",
    "print(\"Testing accuracy for MBGD regularized model: \" + str(test_accuracy_mbgd_reg))"
   ]
  },
  {
   "cell_type": "markdown",
   "metadata": {},
   "source": [
    "# 6. Parameters tuning"
   ]
  },
  {
   "cell_type": "markdown",
   "metadata": {},
   "source": [
    "### In this section, you may try different combinations of parameters (regularization value, learning rate, etc) to see their effects on the model. (Open ended question)"
   ]
  },
  {
   "cell_type": "code",
   "execution_count": 54,
   "metadata": {},
   "outputs": [
    {
     "name": "stdout",
     "output_type": "stream",
     "text": [
      "Testing accuracy for GD model: 0.9736842105263158\n",
      "Testing accuracy for SGD model: 0.9824561403508771\n",
      "Testing accuracy for MBGD model: 0.9824561403508771\n"
     ]
    }
   ],
   "source": [
    "# lam = 1E-6\n",
    "lam = 1E-3\n",
    "learning_rate = 0.001\n",
    "epochs = 1000\n",
    "\n",
    "\n",
    "w_gd_reg, objvals_gd_reg = gradient_descent(x_train, y_train, lam, learning_rate, epochs)\n",
    "\n",
    "w_sgd_reg, objvals_sgd_reg = sgd(x_train, y_train, lam, learning_rate, epochs)\n",
    "\n",
    "w_mbgd_reg, objvals_mbgd_reg = mbgd(x_train, y_train, lam, learning_rate, batch_size, epochs)\n",
    "\n",
    "# evaluate testing error of logistric regression and regularized version\n",
    "y_test_pred = predict(w_gd_reg,x_test)\n",
    "test_accuracy_gd = accuracy_score(y_test, y_test_pred)\n",
    "print(\"Testing accuracy for GD model: \" + str(test_accuracy_gd))\n",
    "\n",
    "y_test_pred = predict(w_sgd_reg,x_test)\n",
    "test_accuracy_sgd = accuracy_score(y_test, y_test_pred)\n",
    "print(\"Testing accuracy for SGD model: \" + str(test_accuracy_sgd))\n",
    "\n",
    "y_test_pred = predict(w_mbgd_reg,x_test)\n",
    "test_accuracy_mbgd = accuracy_score(y_test, y_test_pred)\n",
    "print(\"Testing accuracy for MBGD model: \" + str(test_accuracy_mbgd))"
   ]
  },
  {
   "cell_type": "code",
   "execution_count": null,
   "metadata": {},
   "outputs": [],
   "source": []
  }
 ],
 "metadata": {
  "kernelspec": {
   "display_name": "Python 3",
   "language": "python",
   "name": "python3"
  },
  "language_info": {
   "codemirror_mode": {
    "name": "ipython",
    "version": 3
   },
   "file_extension": ".py",
   "mimetype": "text/x-python",
   "name": "python",
   "nbconvert_exporter": "python",
   "pygments_lexer": "ipython3",
   "version": "3.9.7"
  }
 },
 "nbformat": 4,
 "nbformat_minor": 2
}
