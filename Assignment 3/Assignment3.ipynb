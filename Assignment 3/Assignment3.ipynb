{
  "cells": [
    {
      "cell_type": "markdown",
      "metadata": {
        "id": "ZGRZCgsNPx3_"
      },
      "source": [
        "# Assignment 3: Build a seq2seq model for machine translation.\n",
        "\n",
        "### Name: [Hamza Shabir]\n",
        "\n",
        "### Task: Change LSTM model to Bidirectional LSTM Model， translate English to target language and evaluate using Bleu score.\n",
        "\n",
        "### Due Date: Tuesday, April 19th, 11:59PM"
      ]
    },
    {
      "cell_type": "code",
      "execution_count": null,
      "metadata": {
        "id": "n6xFtZ4gYr_f"
      },
      "outputs": [],
      "source": []
    },
    {
      "cell_type": "markdown",
      "metadata": {
        "id": "II_lxUP_uUgY"
      },
      "source": []
    },
    {
      "cell_type": "markdown",
      "metadata": {
        "id": "CF7AuyOdPx4A"
      },
      "source": [
        "## 0. You will do the following:\n",
        "\n",
        "1. Read and run the code. Please make sure you have installed keras or tensorflow.Running the script on colab will speed up the training process and also prevent package loading issue. \n",
        "2. Complete the code in Section 1.1, you may fill in your data directory.\n",
        "3. Directly modify the code in Section 3. Change the current LSTM layer to a Bidirectional LSTM Model.\n",
        "4. Training your model and translate English to Spanish in Section 4.2. You could try translating other languages.\n",
        "5. Complete the code in Section 5."
      ]
    },
    {
      "cell_type": "markdown",
      "metadata": {
        "id": "lqpWkJpwPx4B"
      },
      "source": [
        "### Hint: \n",
        "\n",
        "To implement ```Bi-LSTM```, you will need the following code to build the encoder. Do NOT use Bi-LSTM for the decoder. But there are other codes you need to modify to make it work."
      ]
    },
    {
      "cell_type": "code",
      "execution_count": 1,
      "metadata": {
        "id": "ECf9d2NCPx4B"
      },
      "outputs": [],
      "source": [
        "# from keras.layers import Bidirectional, Concatenate\n",
        "\n",
        "# encoder_bilstm = Bidirectional(LSTM(latent_dim, return_state=True, \n",
        "#                                   dropout=0.5, name='encoder_lstm'))\n",
        "# _, forward_h, forward_c, backward_h, backward_c = encoder_bilstm(encoder_inputs)\n",
        "\n",
        "# state_h = Concatenate()([forward_h, backward_h])\n",
        "# state_c = Concatenate()([forward_c, backward_c])"
      ]
    },
    {
      "cell_type": "markdown",
      "metadata": {
        "id": "WwY4Q3skPx4C"
      },
      "source": [
        "## 1. Data preparation (10 points)\n",
        "\n",
        "1. Download spanish-english data from http://www.manythings.org/anki/\n",
        "2. You may try to use other languages.\n",
        "3. Unzip the .ZIP file.\n",
        "4. Put the .TXT file (e.g., \"deu.txt\") in the directory \"./Data/\".\n",
        "5. Fill in your data directory in section 1.1."
      ]
    },
    {
      "cell_type": "markdown",
      "metadata": {
        "id": "otPdZpQMPx4C"
      },
      "source": [
        "### 1.1. Load and clean text\n"
      ]
    },
    {
      "cell_type": "code",
      "execution_count": 2,
      "metadata": {
        "id": "VnVlS1TWPx4C"
      },
      "outputs": [],
      "source": [
        "import re\n",
        "import string\n",
        "from unicodedata import normalize\n",
        "import numpy\n",
        "\n",
        "# load doc into memory\n",
        "def load_doc(filename):\n",
        "    # open the file as read only\n",
        "    file = open(filename, mode='rt', encoding='utf-8')\n",
        "    # read all text\n",
        "    text = file.read()\n",
        "    # close the file\n",
        "    file.close()\n",
        "    return text\n",
        "\n",
        "\n",
        "# split a loaded document into sentences\n",
        "def to_pairs(doc):\n",
        "    lines = doc.strip().split('\\n')\n",
        "    pairs = [line.split('\\t') for line in  lines]\n",
        "    return pairs\n",
        "\n",
        "def clean_data(lines):\n",
        "    cleaned = list()\n",
        "    # prepare regex for char filtering\n",
        "    re_print = re.compile('[^%s]' % re.escape(string.printable))\n",
        "    # prepare translation table for removing punctuation\n",
        "    table = str.maketrans('', '', string.punctuation)\n",
        "    for pair in lines:\n",
        "        clean_pair = list()\n",
        "        for line in pair:\n",
        "            # normalize unicode characters\n",
        "            line = normalize('NFD', line).encode('ascii', 'ignore')\n",
        "            line = line.decode('UTF-8')\n",
        "            # tokenize on white space\n",
        "            line = line.split()\n",
        "            # convert to lowercase\n",
        "            line = [word.lower() for word in line]\n",
        "            # remove punctuation from each token\n",
        "            line = [word.translate(table) for word in line]\n",
        "            # remove non-printable chars form each token\n",
        "            line = [re_print.sub('', w) for w in line]\n",
        "            # remove tokens with numbers in them\n",
        "            line = [word for word in line if word.isalpha()]\n",
        "            # store as string\n",
        "            clean_pair.append(' '.join(line))\n",
        "        cleaned.append(clean_pair)\n",
        "    return numpy.array(cleaned)"
      ]
    },
    {
      "cell_type": "markdown",
      "metadata": {
        "id": "UPHQkr5QPx4D"
      },
      "source": [
        "#### Fill the following blanks:"
      ]
    },
    {
      "cell_type": "code",
      "execution_count": 3,
      "metadata": {
        "id": "SrYYGbo2Px4D"
      },
      "outputs": [],
      "source": [
        "# e.g., filename = 'Data/deu.txt'\n",
        "filename = 'spa.txt'\n",
        "\n",
        "# e.g., n_train = 20000\n",
        "n_train = 20000"
      ]
    },
    {
      "cell_type": "code",
      "execution_count": 4,
      "metadata": {
        "id": "VDaMGJqOPx4E"
      },
      "outputs": [],
      "source": [
        "# load dataset\n",
        "doc = load_doc(filename)\n",
        "\n",
        "# split into Language1-Language2 pairs\n",
        "pairs = to_pairs(doc)\n",
        "\n",
        "# clean sentences\n",
        "clean_pairs = clean_data(pairs)[0:n_train, :]"
      ]
    },
    {
      "cell_type": "code",
      "execution_count": 5,
      "metadata": {
        "colab": {
          "base_uri": "https://localhost:8080/"
        },
        "id": "AAcw8J_fPx4E",
        "outputId": "c8b8d79f-b293-4e44-b83e-fc06c7365828"
      },
      "outputs": [
        {
          "name": "stdout",
          "output_type": "stream",
          "text": [
            "[youre here] => [estas aqui]\n",
            "[youre here] => [estais aqui]\n",
            "[youre late] => [estas retrasado]\n",
            "[youre lost] => [estas perdido]\n",
            "[youre mean] => [eres mala]\n",
            "[youre mean] => [eres mezquino]\n",
            "[youre mine] => [tu eres mio]\n",
            "[youre nice] => [eres simpatico]\n",
            "[youre nuts] => [estas loco]\n",
            "[youre nuts] => [estas chiflado]\n"
          ]
        }
      ],
      "source": [
        "for i in range(3000, 3010):\n",
        "    print('[' + clean_pairs[i, 0] + '] => [' + clean_pairs[i, 1] + ']')"
      ]
    },
    {
      "cell_type": "code",
      "execution_count": 6,
      "metadata": {
        "colab": {
          "base_uri": "https://localhost:8080/"
        },
        "id": "X8ldQteOPx4E",
        "outputId": "e7984fd7-79ae-49e8-c767-ea4b0ee46de7"
      },
      "outputs": [
        {
          "name": "stdout",
          "output_type": "stream",
          "text": [
            "Length of input_texts:  (20000,)\n",
            "Length of target_texts: (20000,)\n"
          ]
        }
      ],
      "source": [
        "input_texts = clean_pairs[:, 0]\n",
        "target_texts = ['\\t' + text + '\\n' for text in clean_pairs[:, 1]]\n",
        "\n",
        "print('Length of input_texts:  ' + str(input_texts.shape))\n",
        "print('Length of target_texts: ' + str(input_texts.shape))"
      ]
    },
    {
      "cell_type": "code",
      "execution_count": 7,
      "metadata": {
        "colab": {
          "base_uri": "https://localhost:8080/"
        },
        "id": "9tPnMXf2Px4E",
        "outputId": "d6f4de19-23fd-420b-8edc-b117023f06aa"
      },
      "outputs": [
        {
          "name": "stdout",
          "output_type": "stream",
          "text": [
            "max length of input  sentences: 18\n",
            "max length of target sentences: 55\n"
          ]
        }
      ],
      "source": [
        "max_encoder_seq_length = max(len(line) for line in input_texts)\n",
        "max_decoder_seq_length = max(len(line) for line in target_texts)\n",
        "\n",
        "print('max length of input  sentences: %d' % (max_encoder_seq_length))\n",
        "print('max length of target sentences: %d' % (max_decoder_seq_length))"
      ]
    },
    {
      "cell_type": "markdown",
      "metadata": {
        "id": "ly_3Lv9LPx4E"
      },
      "source": [
        "**Remark:** To this end, you have two lists of sentences: input_texts and target_texts"
      ]
    },
    {
      "cell_type": "markdown",
      "metadata": {
        "id": "v9N71LOYPx4E"
      },
      "source": [
        "## 2. Text processing\n",
        "\n",
        "### 2.1. Convert texts to sequences\n",
        "\n",
        "- Input: A list of $n$ sentences (with max length $t$).\n",
        "- It is represented by a $n\\times t$ matrix after the tokenization and zero-padding."
      ]
    },
    {
      "cell_type": "code",
      "execution_count": 8,
      "metadata": {
        "colab": {
          "base_uri": "https://localhost:8080/"
        },
        "id": "t2oso7lJPx4F",
        "outputId": "26fd7042-d95a-49ec-c11c-5bb7c349d366"
      },
      "outputs": [
        {
          "name": "stdout",
          "output_type": "stream",
          "text": [
            "shape of encoder_input_seq: (20000, 18)\n",
            "shape of input_token_index: 27\n",
            "shape of decoder_input_seq: (20000, 55)\n",
            "shape of target_token_index: 29\n"
          ]
        }
      ],
      "source": [
        "from keras.preprocessing.text import Tokenizer\n",
        "from keras.preprocessing.sequence import pad_sequences\n",
        "\n",
        "# encode and pad sequences\n",
        "def text2sequences(max_len, lines):\n",
        "    tokenizer = Tokenizer(char_level=True, filters='')\n",
        "    tokenizer.fit_on_texts(lines)\n",
        "    seqs = tokenizer.texts_to_sequences(lines)\n",
        "    seqs_pad = pad_sequences(seqs, maxlen=max_len, padding='post')\n",
        "    return seqs_pad, tokenizer.word_index\n",
        "\n",
        "\n",
        "encoder_input_seq, input_token_index = text2sequences(max_encoder_seq_length, \n",
        "                                                      input_texts)\n",
        "decoder_input_seq, target_token_index = text2sequences(max_decoder_seq_length, \n",
        "                                                       target_texts)\n",
        "\n",
        "print('shape of encoder_input_seq: ' + str(encoder_input_seq.shape))\n",
        "print('shape of input_token_index: ' + str(len(input_token_index)))\n",
        "print('shape of decoder_input_seq: ' + str(decoder_input_seq.shape))\n",
        "print('shape of target_token_index: ' + str(len(target_token_index)))"
      ]
    },
    {
      "cell_type": "code",
      "execution_count": 9,
      "metadata": {
        "colab": {
          "base_uri": "https://localhost:8080/"
        },
        "id": "bjbr9A7RPx4F",
        "outputId": "e31aa7c9-e6b7-4f1f-aa38-ce440dc8baa5"
      },
      "outputs": [
        {
          "name": "stdout",
          "output_type": "stream",
          "text": [
            "num_encoder_tokens: 28\n",
            "num_decoder_tokens: 30\n"
          ]
        }
      ],
      "source": [
        "num_encoder_tokens = len(input_token_index) + 1\n",
        "num_decoder_tokens = len(target_token_index) + 1\n",
        "\n",
        "print('num_encoder_tokens: ' + str(num_encoder_tokens))\n",
        "print('num_decoder_tokens: ' + str(num_decoder_tokens))"
      ]
    },
    {
      "cell_type": "markdown",
      "metadata": {
        "id": "rFy7bTI9Px4F"
      },
      "source": [
        "**Remark:** To this end, the input language and target language texts are converted to 2 matrices. \n",
        "\n",
        "- Their number of rows are both n_train.\n",
        "- Their number of columns are respective max_encoder_seq_length and max_decoder_seq_length."
      ]
    },
    {
      "cell_type": "markdown",
      "metadata": {
        "id": "1DhtZKuYPx4F"
      },
      "source": [
        "The followings print a sentence and its representation as a sequence."
      ]
    },
    {
      "cell_type": "code",
      "execution_count": 10,
      "metadata": {
        "colab": {
          "base_uri": "https://localhost:8080/",
          "height": 58
        },
        "id": "LUkQK3n9Px4F",
        "outputId": "21d59514-95ab-4ca1-f983-2a4713f3db0a"
      },
      "outputs": [
        {
          "data": {
            "application/vnd.google.colaboratory.intrinsic+json": {
              "type": "string"
            },
            "text/plain": [
              "'\\tno puede ser\\n'"
            ]
          },
          "execution_count": 10,
          "metadata": {},
          "output_type": "execute_result"
        }
      ],
      "source": [
        "target_texts[100]"
      ]
    },
    {
      "cell_type": "code",
      "execution_count": 11,
      "metadata": {
        "colab": {
          "base_uri": "https://localhost:8080/"
        },
        "id": "0rfAAaoxPx4F",
        "outputId": "460b76d8-969c-41d4-e43a-bfd6b5fa1975"
      },
      "outputs": [
        {
          "data": {
            "text/plain": [
              "array([ 6,  8,  3,  1, 17, 14,  2, 15,  2,  1,  5,  2, 10,  7,  0,  0,  0,\n",
              "        0,  0,  0,  0,  0,  0,  0,  0,  0,  0,  0,  0,  0,  0,  0,  0,  0,\n",
              "        0,  0,  0,  0,  0,  0,  0,  0,  0,  0,  0,  0,  0,  0,  0,  0,  0,\n",
              "        0,  0,  0,  0], dtype=int32)"
            ]
          },
          "execution_count": 11,
          "metadata": {},
          "output_type": "execute_result"
        }
      ],
      "source": [
        "decoder_input_seq[100, :]"
      ]
    },
    {
      "cell_type": "markdown",
      "metadata": {
        "id": "CgjY4hNOPx4F"
      },
      "source": [
        "## 2.2. One-hot encode\n",
        "\n",
        "- Input: A list of $n$ sentences (with max length $t$).\n",
        "- It is represented by a $n\\times t$ matrix after the tokenization and zero-padding.\n",
        "- It is represented by a $n\\times t \\times v$ tensor ($t$ is the number of unique chars) after the one-hot encoding."
      ]
    },
    {
      "cell_type": "code",
      "execution_count": 12,
      "metadata": {
        "colab": {
          "base_uri": "https://localhost:8080/"
        },
        "id": "5xlqas6tPx4F",
        "outputId": "1190f8bb-5a2f-43b1-b5ab-a926ec608679"
      },
      "outputs": [
        {
          "name": "stdout",
          "output_type": "stream",
          "text": [
            "(20000, 18, 28)\n",
            "(20000, 55, 30)\n"
          ]
        }
      ],
      "source": [
        "from tensorflow.keras.utils import to_categorical\n",
        "\n",
        "# one hot encode target sequence\n",
        "def onehot_encode(sequences, max_len, vocab_size):\n",
        "    n = len(sequences)\n",
        "    data = numpy.zeros((n, max_len, vocab_size))\n",
        "    for i in range(n):\n",
        "        data[i, :, :] = to_categorical(sequences[i], num_classes=vocab_size)\n",
        "    return data\n",
        "\n",
        "encoder_input_data = onehot_encode(encoder_input_seq, max_encoder_seq_length, num_encoder_tokens)\n",
        "decoder_input_data = onehot_encode(decoder_input_seq, max_decoder_seq_length, num_decoder_tokens)\n",
        "\n",
        "decoder_target_seq = numpy.zeros(decoder_input_seq.shape)\n",
        "decoder_target_seq[:, 0:-1] = decoder_input_seq[:, 1:]\n",
        "decoder_target_data = onehot_encode(decoder_target_seq, \n",
        "                                    max_decoder_seq_length, \n",
        "                                    num_decoder_tokens)\n",
        "\n",
        "print(encoder_input_data.shape)\n",
        "print(decoder_input_data.shape)"
      ]
    },
    {
      "cell_type": "markdown",
      "metadata": {
        "id": "M39VxH6VPx4G"
      },
      "source": [
        "## 3. Build the networks (for training) (20 points)\n",
        "\n",
        "- In this section, we have already implemented the LSTM model for you. You can run the code and see what the code is doing.  \n",
        "\n",
        "- You need to change the existing LSTM model to a Bidirectional LSTM model. Just modify the network structrue and do not change the training cell in section 3.4.\n",
        "\n",
        "- Build encoder, decoder, and connect the two modules to get \"model\". \n",
        "\n",
        "- Fit the model on the bilingual data to train the parameters in the encoder and decoder.\n",
        "\n"
      ]
    },
    {
      "cell_type": "markdown",
      "metadata": {
        "id": "IjjEvYQEPx4G"
      },
      "source": [
        "### 3.1. Encoder network\n",
        "\n",
        "- Input:  one-hot encode of the input language\n",
        "\n",
        "- Return: \n",
        "\n",
        "    -- output (all the hidden states   $h_1, \\cdots , h_t$) are always discarded\n",
        "    \n",
        "    -- the final hidden state  $h_t$\n",
        "    \n",
        "    -- the final conveyor belt $c_t$"
      ]
    },
    {
      "cell_type": "code",
      "execution_count": 13,
      "metadata": {
        "id": "ImnXYLOjPx4G"
      },
      "outputs": [],
      "source": [
        "from tensorflow.keras.layers import Input, LSTM\n",
        "from tensorflow.keras.models import Model\n",
        "from keras.layers import Bidirectional, Concatenate\n",
        "\n",
        "latent_dim = 256\n",
        "\n",
        "# inputs of the encoder network\n",
        "encoder_inputs = Input(shape=(None, num_encoder_tokens), \n",
        "                       name='encoder_inputs')\n",
        "\n",
        "# Bidirectional LSTM Model\n",
        "encoder_bilstm = Bidirectional(LSTM(latent_dim, return_state=True, \n",
        "                                  dropout=0.5, name='encoder_lstm'))\n",
        "_, forward_h, forward_c, backward_h, backward_c = encoder_bilstm(encoder_inputs)\n",
        "\n",
        "state_h = Concatenate()([forward_h, backward_h])\n",
        "state_c = Concatenate()([forward_c, backward_c])\n",
        "\n",
        "# build the encoder network model\n",
        "encoder_model = Model(inputs=encoder_inputs, \n",
        "                      outputs=[state_h, state_c],\n",
        "                      name='encoder')"
      ]
    },
    {
      "cell_type": "markdown",
      "metadata": {
        "id": "0BTe41JvPx4G"
      },
      "source": [
        "Print a summary and save the encoder network structure to \"./encoder.pdf\""
      ]
    },
    {
      "cell_type": "code",
      "execution_count": 14,
      "metadata": {
        "colab": {
          "base_uri": "https://localhost:8080/"
        },
        "id": "SbhWKBOWPx4G",
        "outputId": "50fcd010-93e2-41df-e898-a04bacd2939a"
      },
      "outputs": [
        {
          "name": "stdout",
          "output_type": "stream",
          "text": [
            "Model: \"encoder\"\n",
            "__________________________________________________________________________________________________\n",
            " Layer (type)                   Output Shape         Param #     Connected to                     \n",
            "==================================================================================================\n",
            " encoder_inputs (InputLayer)    [(None, None, 28)]   0           []                               \n",
            "                                                                                                  \n",
            " bidirectional (Bidirectional)  [(None, 512),        583680      ['encoder_inputs[0][0]']         \n",
            "                                 (None, 256),                                                     \n",
            "                                 (None, 256),                                                     \n",
            "                                 (None, 256),                                                     \n",
            "                                 (None, 256)]                                                     \n",
            "                                                                                                  \n",
            " concatenate (Concatenate)      (None, 512)          0           ['bidirectional[0][1]',          \n",
            "                                                                  'bidirectional[0][3]']          \n",
            "                                                                                                  \n",
            " concatenate_1 (Concatenate)    (None, 512)          0           ['bidirectional[0][2]',          \n",
            "                                                                  'bidirectional[0][4]']          \n",
            "                                                                                                  \n",
            "==================================================================================================\n",
            "Total params: 583,680\n",
            "Trainable params: 583,680\n",
            "Non-trainable params: 0\n",
            "__________________________________________________________________________________________________\n"
          ]
        }
      ],
      "source": [
        "from IPython.display import SVG\n",
        "from keras.utils.vis_utils import model_to_dot, plot_model\n",
        "\n",
        "SVG(model_to_dot(encoder_model, show_shapes=False).create(prog='dot', format='svg'))\n",
        "\n",
        "plot_model(\n",
        "    model=encoder_model, show_shapes=False,\n",
        "    to_file='encoder.pdf'\n",
        ")\n",
        "\n",
        "encoder_model.summary()"
      ]
    },
    {
      "cell_type": "markdown",
      "metadata": {
        "id": "hRYZomXMPx4G"
      },
      "source": [
        "### 3.2. Decoder network\n",
        "\n",
        "- Inputs:  \n",
        "\n",
        "    -- one-hot encode of the target language\n",
        "    \n",
        "    -- The initial hidden state $h_t$ \n",
        "    \n",
        "    -- The initial conveyor belt $c_t$ \n",
        "\n",
        "- Return: \n",
        "\n",
        "    -- output (all the hidden states) $h_1, \\cdots , h_t$\n",
        "\n",
        "    -- the final hidden state  $h_t$ (discarded in the training and used in the prediction)\n",
        "    \n",
        "    -- the final conveyor belt $c_t$ (discarded in the training and used in the prediction)"
      ]
    },
    {
      "cell_type": "code",
      "execution_count": 15,
      "metadata": {
        "id": "uPZ167wRPx4G"
      },
      "outputs": [],
      "source": [
        "from keras.layers import Input, LSTM, Dense\n",
        "from keras.models import Model\n",
        "\n",
        "latent_dim = 512\n",
        "\n",
        "# inputs of the decoder network\n",
        "decoder_input_h = Input(shape=(latent_dim,), name='decoder_input_h')\n",
        "decoder_input_c = Input(shape=(latent_dim,), name='decoder_input_c')\n",
        "decoder_input_x = Input(shape=(None, num_decoder_tokens), name='decoder_input_x')\n",
        "\n",
        "# set the LSTM layer\n",
        "decoder_lstm = LSTM(latent_dim, return_sequences=True, \n",
        "                    return_state=True, dropout=0.5, name='decoder_lstm')\n",
        "decoder_lstm_outputs, state_h, state_c = decoder_lstm(decoder_input_x, \n",
        "                                                      initial_state=[decoder_input_h, decoder_input_c])\n",
        "\n",
        "# set the dense layer\n",
        "decoder_dense = Dense(num_decoder_tokens, activation='softmax', name='decoder_dense')\n",
        "decoder_outputs = decoder_dense(decoder_lstm_outputs)\n",
        "\n",
        "# build the decoder network model\n",
        "decoder_model = Model(inputs=[decoder_input_x, decoder_input_h, decoder_input_c],\n",
        "                      outputs=[decoder_outputs, state_h, state_c],\n",
        "                      name='decoder')"
      ]
    },
    {
      "cell_type": "markdown",
      "metadata": {
        "id": "cBq5OV1TPx4G"
      },
      "source": [
        "Print a summary and save the encoder network structure to \"./decoder.pdf\""
      ]
    },
    {
      "cell_type": "code",
      "execution_count": 16,
      "metadata": {
        "colab": {
          "base_uri": "https://localhost:8080/"
        },
        "id": "gtCi7xgQPx4G",
        "outputId": "66d6e139-8fd9-4b0e-f942-75997b5c508e"
      },
      "outputs": [
        {
          "name": "stdout",
          "output_type": "stream",
          "text": [
            "Model: \"decoder\"\n",
            "__________________________________________________________________________________________________\n",
            " Layer (type)                   Output Shape         Param #     Connected to                     \n",
            "==================================================================================================\n",
            " decoder_input_x (InputLayer)   [(None, None, 30)]   0           []                               \n",
            "                                                                                                  \n",
            " decoder_input_h (InputLayer)   [(None, 512)]        0           []                               \n",
            "                                                                                                  \n",
            " decoder_input_c (InputLayer)   [(None, 512)]        0           []                               \n",
            "                                                                                                  \n",
            " decoder_lstm (LSTM)            [(None, None, 512),  1112064     ['decoder_input_x[0][0]',        \n",
            "                                 (None, 512),                     'decoder_input_h[0][0]',        \n",
            "                                 (None, 512)]                     'decoder_input_c[0][0]']        \n",
            "                                                                                                  \n",
            " decoder_dense (Dense)          (None, None, 30)     15390       ['decoder_lstm[0][0]']           \n",
            "                                                                                                  \n",
            "==================================================================================================\n",
            "Total params: 1,127,454\n",
            "Trainable params: 1,127,454\n",
            "Non-trainable params: 0\n",
            "__________________________________________________________________________________________________\n"
          ]
        }
      ],
      "source": [
        "from IPython.display import SVG\n",
        "from keras.utils.vis_utils import model_to_dot, plot_model\n",
        "\n",
        "SVG(model_to_dot(decoder_model, show_shapes=False).create(prog='dot', format='svg'))\n",
        "\n",
        "plot_model(\n",
        "    model=decoder_model, show_shapes=False,\n",
        "    to_file='decoder.pdf'\n",
        ")\n",
        "\n",
        "decoder_model.summary()"
      ]
    },
    {
      "cell_type": "markdown",
      "metadata": {
        "id": "e61EYvD5Px4G"
      },
      "source": [
        "### 3.3. Connect the encoder and decoder"
      ]
    },
    {
      "cell_type": "code",
      "execution_count": 17,
      "metadata": {
        "id": "s1eVciyKPx4G"
      },
      "outputs": [],
      "source": [
        "# input layers\n",
        "encoder_input_x = Input(shape=(None, num_encoder_tokens), name='encoder_input_x')\n",
        "decoder_input_x = Input(shape=(None, num_decoder_tokens), name='decoder_input_x')\n",
        "\n",
        "# connect encoder to decoder\n",
        "encoder_final_states = encoder_model([encoder_input_x])\n",
        "decoder_lstm_output, _, _ = decoder_lstm(decoder_input_x, initial_state=encoder_final_states)\n",
        "decoder_pred = decoder_dense(decoder_lstm_output)\n",
        "\n",
        "model = Model(inputs=[encoder_input_x, decoder_input_x], \n",
        "              outputs=decoder_pred, \n",
        "              name='model_training')"
      ]
    },
    {
      "cell_type": "code",
      "execution_count": 18,
      "metadata": {
        "colab": {
          "base_uri": "https://localhost:8080/"
        },
        "id": "e1V15V42Px4G",
        "outputId": "27079832-352d-48a1-f313-a363afa28192"
      },
      "outputs": [
        {
          "name": "stdout",
          "output_type": "stream",
          "text": [
            "Model: \"model_training\"\n",
            "__________________________________________________________________________________________________\n",
            " Layer (type)                   Output Shape         Param #     Connected to                     \n",
            "==================================================================================================\n",
            " encoder_input_x (InputLayer)   [(None, None, 28)]   0           []                               \n",
            "                                                                                                  \n",
            " decoder_input_x (InputLayer)   [(None, None, 30)]   0           []                               \n",
            "                                                                                                  \n",
            " encoder (Functional)           [(None, 512),        583680      ['encoder_input_x[0][0]']        \n",
            "                                 (None, 512)]                                                     \n",
            "                                                                                                  \n",
            " decoder_lstm (LSTM)            [(None, None, 512),  1112064     ['decoder_input_x[0][0]',        \n",
            "                                 (None, 512),                     'encoder[0][0]',                \n",
            "                                 (None, 512)]                     'encoder[0][1]']                \n",
            "                                                                                                  \n",
            " decoder_dense (Dense)          (None, None, 30)     15390       ['decoder_lstm[1][0]']           \n",
            "                                                                                                  \n",
            "==================================================================================================\n",
            "Total params: 1,711,134\n",
            "Trainable params: 1,711,134\n",
            "Non-trainable params: 0\n",
            "__________________________________________________________________________________________________\n"
          ]
        }
      ],
      "source": [
        "from IPython.display import SVG\n",
        "from keras.utils.vis_utils import model_to_dot, plot_model\n",
        "\n",
        "SVG(model_to_dot(model, show_shapes=False).create(prog='dot', format='svg'))\n",
        "\n",
        "plot_model(\n",
        "    model=model, show_shapes=False,\n",
        "    to_file='model_training.pdf'\n",
        ")\n",
        "\n",
        "model.summary()"
      ]
    },
    {
      "cell_type": "markdown",
      "metadata": {
        "id": "Ro82bIeqPx4G"
      },
      "source": [
        "### 3.4. Fit the model on the bilingual dataset\n",
        "\n",
        "- encoder_input_data: one-hot encode of the input language\n",
        "\n",
        "- decoder_input_data: one-hot encode of the input language\n",
        "\n",
        "- decoder_target_data: labels (left shift of decoder_input_data)\n",
        "\n",
        "- tune the hyper-parameters\n",
        "\n",
        "- stop when the validation loss stop decreasing."
      ]
    },
    {
      "cell_type": "code",
      "execution_count": 19,
      "metadata": {
        "colab": {
          "base_uri": "https://localhost:8080/"
        },
        "id": "sJZBTDOmPx4G",
        "outputId": "4e6730ec-45b2-457c-96b1-7b2904e46bce"
      },
      "outputs": [
        {
          "name": "stdout",
          "output_type": "stream",
          "text": [
            "shape of encoder_input_data(20000, 18, 28)\n",
            "shape of decoder_input_data(20000, 55, 30)\n",
            "shape of decoder_target_data(20000, 55, 30)\n"
          ]
        }
      ],
      "source": [
        "print('shape of encoder_input_data' + str(encoder_input_data.shape))\n",
        "print('shape of decoder_input_data' + str(decoder_input_data.shape))\n",
        "print('shape of decoder_target_data' + str(decoder_target_data.shape))"
      ]
    },
    {
      "cell_type": "code",
      "execution_count": 20,
      "metadata": {
        "colab": {
          "base_uri": "https://localhost:8080/"
        },
        "id": "mIRkzY_BPx4H",
        "outputId": "62e2a46d-81a5-4ca5-c21b-3de614aaa3ef"
      },
      "outputs": [
        {
          "name": "stdout",
          "output_type": "stream",
          "text": [
            "Epoch 1/50\n",
            "250/250 [==============================] - 13s 24ms/step - loss: 0.9375 - val_loss: 0.8130\n",
            "Epoch 2/50\n",
            "250/250 [==============================] - 5s 20ms/step - loss: 0.7154 - val_loss: 0.7337\n",
            "Epoch 3/50\n",
            "250/250 [==============================] - 5s 20ms/step - loss: 0.6732 - val_loss: 0.6812\n",
            "Epoch 4/50\n",
            "250/250 [==============================] - 6s 24ms/step - loss: 0.6441 - val_loss: 0.6469\n",
            "Epoch 5/50\n",
            "250/250 [==============================] - 6s 23ms/step - loss: 0.6209 - val_loss: 0.6118\n",
            "Epoch 6/50\n",
            "250/250 [==============================] - 5s 20ms/step - loss: 0.6022 - val_loss: 0.5890\n",
            "Epoch 7/50\n",
            "250/250 [==============================] - 5s 20ms/step - loss: 0.5877 - val_loss: 0.5743\n",
            "Epoch 8/50\n",
            "250/250 [==============================] - 5s 20ms/step - loss: 0.5734 - val_loss: 0.5560\n",
            "Epoch 9/50\n",
            "250/250 [==============================] - 5s 20ms/step - loss: 0.5613 - val_loss: 0.5484\n",
            "Epoch 10/50\n",
            "250/250 [==============================] - 5s 20ms/step - loss: 0.5508 - val_loss: 0.5314\n",
            "Epoch 11/50\n",
            "250/250 [==============================] - 5s 20ms/step - loss: 0.5404 - val_loss: 0.5221\n",
            "Epoch 12/50\n",
            "250/250 [==============================] - 5s 20ms/step - loss: 0.5311 - val_loss: 0.5156\n",
            "Epoch 13/50\n",
            "250/250 [==============================] - 5s 21ms/step - loss: 0.5232 - val_loss: 0.5081\n",
            "Epoch 14/50\n",
            "250/250 [==============================] - 5s 21ms/step - loss: 0.5154 - val_loss: 0.4983\n",
            "Epoch 15/50\n",
            "250/250 [==============================] - 5s 20ms/step - loss: 0.5080 - val_loss: 0.4933\n",
            "Epoch 16/50\n",
            "250/250 [==============================] - 5s 20ms/step - loss: 0.4995 - val_loss: 0.4857\n",
            "Epoch 17/50\n",
            "250/250 [==============================] - 5s 20ms/step - loss: 0.4948 - val_loss: 0.4865\n",
            "Epoch 18/50\n",
            "250/250 [==============================] - 5s 20ms/step - loss: 0.4894 - val_loss: 0.4781\n",
            "Epoch 19/50\n",
            "250/250 [==============================] - 5s 20ms/step - loss: 0.4819 - val_loss: 0.4706\n",
            "Epoch 20/50\n",
            "250/250 [==============================] - 5s 20ms/step - loss: 0.4770 - val_loss: 0.4676\n",
            "Epoch 21/50\n",
            "250/250 [==============================] - 5s 20ms/step - loss: 0.4730 - val_loss: 0.4650\n",
            "Epoch 22/50\n",
            "250/250 [==============================] - 5s 21ms/step - loss: 0.4679 - val_loss: 0.4618\n",
            "Epoch 23/50\n",
            "250/250 [==============================] - 5s 20ms/step - loss: 0.4625 - val_loss: 0.4606\n",
            "Epoch 24/50\n",
            "250/250 [==============================] - 5s 20ms/step - loss: 0.4589 - val_loss: 0.4580\n",
            "Epoch 25/50\n",
            "250/250 [==============================] - 5s 20ms/step - loss: 0.4540 - val_loss: 0.4546\n",
            "Epoch 26/50\n",
            "250/250 [==============================] - 5s 20ms/step - loss: 0.4476 - val_loss: 0.4514\n",
            "Epoch 27/50\n",
            "250/250 [==============================] - 5s 20ms/step - loss: 0.4467 - val_loss: 0.4507\n",
            "Epoch 28/50\n",
            "250/250 [==============================] - 5s 20ms/step - loss: 0.4412 - val_loss: 0.4466\n",
            "Epoch 29/50\n",
            "250/250 [==============================] - 5s 20ms/step - loss: 0.4391 - val_loss: 0.4476\n",
            "Epoch 30/50\n",
            "250/250 [==============================] - 5s 20ms/step - loss: 0.4362 - val_loss: 0.4462\n",
            "Epoch 31/50\n",
            "250/250 [==============================] - 5s 20ms/step - loss: 0.4312 - val_loss: 0.4426\n",
            "Epoch 32/50\n",
            "250/250 [==============================] - 5s 20ms/step - loss: 0.4279 - val_loss: 0.4402\n",
            "Epoch 33/50\n",
            "250/250 [==============================] - 5s 20ms/step - loss: 0.4260 - val_loss: 0.4390\n",
            "Epoch 34/50\n",
            "250/250 [==============================] - 5s 20ms/step - loss: 0.4220 - val_loss: 0.4373\n",
            "Epoch 35/50\n",
            "250/250 [==============================] - 5s 20ms/step - loss: 0.4182 - val_loss: 0.4394\n",
            "Epoch 36/50\n",
            "250/250 [==============================] - 5s 20ms/step - loss: 0.4157 - val_loss: 0.4342\n",
            "Epoch 37/50\n",
            "250/250 [==============================] - 5s 21ms/step - loss: 0.4136 - val_loss: 0.4345\n",
            "Epoch 38/50\n",
            "250/250 [==============================] - 5s 20ms/step - loss: 0.4098 - val_loss: 0.4338\n",
            "Epoch 39/50\n",
            "250/250 [==============================] - 5s 20ms/step - loss: 0.4073 - val_loss: 0.4308\n",
            "Epoch 40/50\n",
            "250/250 [==============================] - 5s 20ms/step - loss: 0.4034 - val_loss: 0.4298\n",
            "Epoch 41/50\n",
            "250/250 [==============================] - 5s 20ms/step - loss: 0.3993 - val_loss: 0.4277\n",
            "Epoch 42/50\n",
            "250/250 [==============================] - 5s 20ms/step - loss: 0.3991 - val_loss: 0.4308\n",
            "Epoch 43/50\n",
            "250/250 [==============================] - 5s 20ms/step - loss: 0.3969 - val_loss: 0.4342\n",
            "Epoch 44/50\n",
            "250/250 [==============================] - 5s 20ms/step - loss: 0.3952 - val_loss: 0.4316\n",
            "Epoch 45/50\n",
            "250/250 [==============================] - 5s 20ms/step - loss: 0.3919 - val_loss: 0.4305\n",
            "Epoch 46/50\n",
            "250/250 [==============================] - 5s 20ms/step - loss: 0.3910 - val_loss: 0.4295\n",
            "Epoch 47/50\n",
            "250/250 [==============================] - 5s 20ms/step - loss: 0.3902 - val_loss: 0.4261\n",
            "Epoch 48/50\n",
            "250/250 [==============================] - 5s 20ms/step - loss: 0.3856 - val_loss: 0.4311\n",
            "Epoch 49/50\n",
            "250/250 [==============================] - 5s 20ms/step - loss: 0.3839 - val_loss: 0.4282\n",
            "Epoch 50/50\n",
            "250/250 [==============================] - 5s 20ms/step - loss: 0.3803 - val_loss: 0.4315\n"
          ]
        }
      ],
      "source": [
        "model.compile(optimizer='rmsprop', loss='categorical_crossentropy')\n",
        "\n",
        "model.fit([encoder_input_data, decoder_input_data],  # training data\n",
        "          decoder_target_data,                       # labels (left shift of the target sequences)\n",
        "          batch_size=64, epochs=50, validation_split=0.2)\n",
        "\n",
        "model.save('seq2seq.h5')"
      ]
    },
    {
      "cell_type": "markdown",
      "metadata": {
        "id": "AK6YFD15Px4H"
      },
      "source": [
        "## 4. Make predictions\n",
        "\n",
        "- In this section, you need to complete section 4.2 to translate English to the target language.\n",
        "\n",
        "\n",
        "### 4.1. Translate English to XXX\n",
        "\n",
        "1. Encoder read a sentence (source language) and output its final states, $h_t$ and $c_t$.\n",
        "2. Take the [star] sign \"\\t\" and the final state $h_t$ and $c_t$ as input and run the decoder.\n",
        "3. Get the new states and predicted probability distribution.\n",
        "4. sample a char from the predicted probability distribution\n",
        "5. take the sampled char and the new states as input and repeat the process (stop if reach the [stop] sign \"\\n\")."
      ]
    },
    {
      "cell_type": "code",
      "execution_count": 21,
      "metadata": {
        "id": "jUiupO3KPx4H"
      },
      "outputs": [],
      "source": [
        "# Reverse-lookup token index to decode sequences back to something readable.\n",
        "reverse_input_char_index = dict((i, char) for char, i in input_token_index.items())\n",
        "reverse_target_char_index = dict((i, char) for char, i in target_token_index.items())"
      ]
    },
    {
      "cell_type": "code",
      "execution_count": 24,
      "metadata": {
        "id": "TH9tBwyjPx4H"
      },
      "outputs": [],
      "source": [
        "import keras\n",
        "\n",
        "def decode_sequence(input_seq, temperature = 0.2):\n",
        "    states_value = encoder_model.predict(input_seq)\n",
        "\n",
        "    target_seq = numpy.zeros((1, 1, num_decoder_tokens))\n",
        "    target_seq[0, 0, target_token_index['\\t']] = 1.\n",
        "\n",
        "    stop_condition = False\n",
        "    decoded_sentence = ''\n",
        "    while not stop_condition:\n",
        "        output_tokens, h, c = decoder_model.predict([target_seq] + states_value)\n",
        "\n",
        "        # this line of code is greedy selection\n",
        "        # try to use multinomial sampling instead (with temperature)\n",
        "        # sampled_token_index = numpy.argmax(output_tokens[0, -1, :])\n",
        "\n",
        "        # Multinomial sampling with temperature\n",
        "        p = output_tokens[0, -1, :]\n",
        "        p = numpy.asarray(p).astype('float64')\n",
        "        p = p ** (1 / temperature)\n",
        "        p = p / numpy.sum(p)\n",
        "\n",
        "        next_onehot = numpy.random.multinomial(1,p,1)\n",
        "        sampled_token_index = numpy.argmax(next_onehot)\n",
        "\n",
        "        # To handle the 0 index error\n",
        "        if sampled_token_index == 0:\n",
        "          break\n",
        "        \n",
        "        sampled_char = reverse_target_char_index[sampled_token_index]\n",
        "        decoded_sentence += sampled_char\n",
        "\n",
        "        if (sampled_char == '\\n' or\n",
        "           len(decoded_sentence) > max_decoder_seq_length):\n",
        "            stop_condition = True\n",
        "\n",
        "        target_seq = numpy.zeros((1, 1, num_decoder_tokens))\n",
        "        target_seq[0, 0, sampled_token_index] = 1.\n",
        "\n",
        "        states_value = [h, c]\n",
        "\n",
        "    return decoded_sentence\n"
      ]
    },
    {
      "cell_type": "code",
      "execution_count": 25,
      "metadata": {
        "colab": {
          "base_uri": "https://localhost:8080/"
        },
        "id": "uBbvx7ZoPx4H",
        "outputId": "084a2020-39fd-443b-b28f-ba1f19bf10ea"
      },
      "outputs": [
        {
          "name": "stdout",
          "output_type": "stream",
          "text": [
            "-\n",
            "English:        hes skinny\n",
            "Spanish (true):  el esta delgado\n",
            "Spanish (pred):  el es amigo\n",
            "-\n",
            "English:        hes strong\n",
            "Spanish (true):  el es fuerte\n",
            "Spanish (pred):  es a entediando\n",
            "-\n",
            "English:        hes stupid\n",
            "Spanish (true):  el es estupido\n",
            "Spanish (pred):  el es arie\n",
            "-\n",
            "English:        hes stupid\n",
            "Spanish (true):  no le llega agua al tanque\n",
            "Spanish (pred):  el es astupido\n",
            "-\n",
            "English:        hes stupid\n",
            "Spanish (true):  es un salame\n",
            "Spanish (pred):  el es adilta\n",
            "-\n",
            "English:        help me out\n",
            "Spanish (true):  ayudame\n",
            "Spanish (pred):  ayudame a tom\n",
            "-\n",
            "English:        help me out\n",
            "Spanish (true):  ayudame a salir\n",
            "Spanish (pred):  ayudame a los daros\n",
            "-\n",
            "English:        help me out\n",
            "Spanish (true):  echeme la mano\n",
            "Spanish (pred):  ayudame a tom\n",
            "-\n",
            "English:        help me out\n",
            "Spanish (true):  ayudame a salir\n",
            "Spanish (pred):  ayudame a tom\n",
            "-\n",
            "English:        here i come\n",
            "Spanish (true):  aqui vengo\n",
            "Spanish (pred):  aqui viene\n",
            "-\n",
            "English:        here i come\n",
            "Spanish (true):  ya estoy aqui\n",
            "Spanish (pred):  aqui viene\n",
            "-\n",
            "English:        here she is\n",
            "Spanish (true):  aqui esta ella\n",
            "Spanish (pred):  somo esta\n",
            "-\n",
            "English:        here we are\n",
            "Spanish (true):  aqui estamos\n",
            "Spanish (pred):  aqui estamos\n",
            "-\n",
            "English:        here we are\n",
            "Spanish (true):  aqui estamos\n",
            "Spanish (pred):  aqui estamos\n",
            "-\n",
            "English:        hi im tom\n",
            "Spanish (true):  hola soy tom\n",
            "Spanish (pred):  hola es mi tom\n",
            "-\n",
            "English:        hit it hard\n",
            "Spanish (true):  dele fuerte\n",
            "Spanish (pred):  ha elo\n",
            "-\n",
            "English:        how are you\n",
            "Spanish (true):  como estas vos\n",
            "Spanish (pred):  como estas todos\n",
            "-\n",
            "English:        how curious\n",
            "Spanish (true):  que curioso\n",
            "Spanish (pred):  que torricte\n",
            "-\n",
            "English:        how strange\n",
            "Spanish (true):  que raro\n",
            "Spanish (pred):  que rorricido\n",
            "-\n",
            "English:        how strange\n",
            "Spanish (true):  que raro\n",
            "Spanish (pred):  que rorritido\n"
          ]
        }
      ],
      "source": [
        "for seq_index in range(2100, 2120):\n",
        "    # Take one sequence (part of the training set)\n",
        "    # for trying out decoding.\n",
        "    input_seq = encoder_input_data[seq_index: seq_index + 1]\n",
        "    decoded_sentence = decode_sequence(input_seq)\n",
        "    print('-')\n",
        "    print('English:       ', input_texts[seq_index])\n",
        "    print('Spanish (true): ', target_texts[seq_index][1:-1])\n",
        "    print('Spanish (pred): ', decoded_sentence[0:-1])"
      ]
    },
    {
      "cell_type": "markdown",
      "metadata": {
        "id": "hk-h6qijPx4H"
      },
      "source": [
        "### 4.2. Translate an English sentence to the target language （20 points）\n",
        "\n",
        "1. Tokenization\n",
        "2. One-hot encode\n",
        "3. Translate"
      ]
    },
    {
      "cell_type": "code",
      "execution_count": 27,
      "metadata": {
        "colab": {
          "base_uri": "https://localhost:8080/"
        },
        "id": "J66oU0LPPx4H",
        "outputId": "8f9c5e3f-5556-4a14-a586-23421dcdd738"
      },
      "outputs": [
        {
          "name": "stdout",
          "output_type": "stream",
          "text": [
            "source sentence is: I love you\n",
            "translated sentence is: te amo\n",
            "\n"
          ]
        }
      ],
      "source": [
        "input_sentence = 'I love you'\n",
        "\n",
        "tokenizer = Tokenizer(char_level=True, filters='')\n",
        "tokenizer.word_index = input_token_index\n",
        "seqs = tokenizer.texts_to_sequences([input_sentence])\n",
        "\n",
        "input_sequence = pad_sequences(seqs, maxlen=max_encoder_seq_length, padding='post')\n",
        "\n",
        "input_x = onehot_encode(input_sequence,max_encoder_seq_length,num_encoder_tokens )\n",
        "\n",
        "translated_sentence = decode_sequence(input_x)\n",
        "\n",
        "print('source sentence is: ' + input_sentence)\n",
        "print('translated sentence is: ' + translated_sentence)"
      ]
    },
    {
      "cell_type": "markdown",
      "metadata": {
        "id": "ySkKNjS6Px4H"
      },
      "source": [
        "# 5. Evaluate the translation using BLEU score\n",
        "\n",
        "- We have already translated from English to target language, but how can we evaluate the performance of our model quantitatively? \n",
        "\n",
        "- In this section, you need to re-train the model we built in secton 3 and then evaluate the bleu score on testing dataset.\n",
        "\n",
        "Reference:\n",
        "\n",
        "https://machinelearningmastery.com/calculate-bleu-score-for-text-python/\n",
        "\n",
        "https://en.wikipedia.org/wiki/BLEU\n",
        "\n",
        "#### Hint:\n",
        "\n",
        "- Randomly partition the dataset to training, validation, and test.\n",
        "\n",
        "- Evaluate the BLEU score using the test set. Report the average.\n",
        "\n",
        "- You may use packages to calculate bleu score, e.g., sentence_bleu() from nltk package."
      ]
    },
    {
      "cell_type": "markdown",
      "metadata": {
        "id": "nkYLr3wNPx4H"
      },
      "source": [
        "### 5.1. Partition the dataset to training, validation, and test. Build new token index. (10 points)\n",
        "\n",
        "1. You may try to load more data/lines from text file.\n",
        "2. Convert text to sequences and build token index using training data.\n",
        "3. One-hot encode your training and validation text sequences."
      ]
    },
    {
      "cell_type": "code",
      "execution_count": 28,
      "metadata": {
        "colab": {
          "base_uri": "https://localhost:8080/"
        },
        "id": "1fip4Y92jR_f",
        "outputId": "1bbad881-3f60-4df7-b054-af1867f970db"
      },
      "outputs": [
        {
          "name": "stdout",
          "output_type": "stream",
          "text": [
            "Length of input_texts:  (30000,)\n",
            "Length of target_texts: (30000,)\n"
          ]
        }
      ],
      "source": [
        "# Load data\n",
        "clean_pairs = clean_data(pairs)[0:30000, :]\n",
        "input_texts = clean_pairs[:, 0]\n",
        "target_texts = ['\\t' + text + '\\n' for text in clean_pairs[:, 1]]\n",
        "\n",
        "print('Length of input_texts:  ' + str(input_texts.shape))\n",
        "print('Length of target_texts: ' + str(input_texts.shape))"
      ]
    },
    {
      "cell_type": "code",
      "execution_count": 29,
      "metadata": {
        "colab": {
          "base_uri": "https://localhost:8080/"
        },
        "id": "8_fa9I2PjeHb",
        "outputId": "4a2a3352-525c-430d-f563-d6c440eed1a4"
      },
      "outputs": [
        {
          "name": "stdout",
          "output_type": "stream",
          "text": [
            "max length of input  sentences: 20\n",
            "max length of target sentences: 68\n"
          ]
        }
      ],
      "source": [
        "max_encoder_seq_length = max(len(line) for line in input_texts)\n",
        "max_decoder_seq_length = max(len(line) for line in target_texts)\n",
        "\n",
        "print('max length of input  sentences: %d' % (max_encoder_seq_length))\n",
        "print('max length of target sentences: %d' % (max_decoder_seq_length))"
      ]
    },
    {
      "cell_type": "code",
      "execution_count": 30,
      "metadata": {
        "colab": {
          "base_uri": "https://localhost:8080/"
        },
        "id": "AdTp19RxjmyP",
        "outputId": "b85d49ab-4bd9-4e90-fab5-6848b1938fbe"
      },
      "outputs": [
        {
          "name": "stdout",
          "output_type": "stream",
          "text": [
            "shape of encoder_input_seq: (30000, 20)\n",
            "shape of input_token_index: 27\n",
            "shape of decoder_input_seq: (30000, 68)\n",
            "shape of target_token_index: 29\n"
          ]
        }
      ],
      "source": [
        "# Text 2 sequence generation\n",
        "encoder_input_seq, input_token_index = text2sequences(max_encoder_seq_length, \n",
        "                                                      input_texts)\n",
        "decoder_input_seq, target_token_index = text2sequences(max_decoder_seq_length, \n",
        "                                                       target_texts)\n",
        "\n",
        "print('shape of encoder_input_seq: ' + str(encoder_input_seq.shape))\n",
        "print('shape of input_token_index: ' + str(len(input_token_index)))\n",
        "print('shape of decoder_input_seq: ' + str(decoder_input_seq.shape))\n",
        "print('shape of target_token_index: ' + str(len(target_token_index)))"
      ]
    },
    {
      "cell_type": "code",
      "execution_count": 31,
      "metadata": {
        "colab": {
          "base_uri": "https://localhost:8080/"
        },
        "id": "4H0dsItBj2VC",
        "outputId": "a3c2f27a-4e40-454d-af09-82adc73e927b"
      },
      "outputs": [
        {
          "name": "stdout",
          "output_type": "stream",
          "text": [
            "num_encoder_tokens: 28\n",
            "num_decoder_tokens: 30\n"
          ]
        }
      ],
      "source": [
        "num_encoder_tokens = len(input_token_index) + 1\n",
        "num_decoder_tokens = len(target_token_index) + 1\n",
        "\n",
        "print('num_encoder_tokens: ' + str(num_encoder_tokens))\n",
        "print('num_decoder_tokens: ' + str(num_decoder_tokens))"
      ]
    },
    {
      "cell_type": "code",
      "execution_count": 32,
      "metadata": {
        "colab": {
          "base_uri": "https://localhost:8080/"
        },
        "id": "aVoqw5QUj-ep",
        "outputId": "1018f28f-6a81-4dfe-fb12-86d51e0e4a32"
      },
      "outputs": [
        {
          "name": "stdout",
          "output_type": "stream",
          "text": [
            "(30000, 20, 28)\n",
            "(30000, 68, 30)\n",
            "(30000, 68, 30)\n"
          ]
        }
      ],
      "source": [
        "# One hot encoding\n",
        "encoder_input_data = onehot_encode(encoder_input_seq, max_encoder_seq_length, num_encoder_tokens)\n",
        "decoder_input_data = onehot_encode(decoder_input_seq, max_decoder_seq_length, num_decoder_tokens)\n",
        "\n",
        "decoder_target_seq = numpy.zeros(decoder_input_seq.shape)\n",
        "decoder_target_seq[:, 0:-1] = decoder_input_seq[:, 1:]\n",
        "decoder_target_data = onehot_encode(decoder_target_seq, \n",
        "                                    max_decoder_seq_length, \n",
        "                                    num_decoder_tokens)\n",
        "\n",
        "print(encoder_input_data.shape)\n",
        "print(decoder_input_data.shape)\n",
        "print(decoder_target_data.shape)"
      ]
    },
    {
      "cell_type": "code",
      "execution_count": 33,
      "metadata": {
        "id": "kv0Qg9ECkrYF"
      },
      "outputs": [],
      "source": [
        "# Split into training, validation and test sets\n",
        "rand_indices = numpy.random.permutation(30000)\n",
        "train_indices = rand_indices[0:20000]\n",
        "valid_indices = rand_indices[20000:25000]\n",
        "test_indices = rand_indices[25000:30000]\n",
        "\n",
        "\n",
        "encoder_input_data_train = encoder_input_data[train_indices,:]\n",
        "encoder_input_data_valid = encoder_input_data[valid_indices,:]\n",
        "encoder_input_data_test = encoder_input_data[test_indices,:] \n",
        "\n",
        "decoder_input_data_train = decoder_input_data[train_indices,:]\n",
        "decoder_input_data_valid = decoder_input_data[valid_indices,:]\n",
        "decoder_input_data_test = decoder_input_data[test_indices,:] \n",
        "\n",
        "\n",
        "decoder_target_data_train = decoder_target_data[train_indices,:]\n",
        "decoder_target_data_valid = decoder_target_data[valid_indices,:]\n",
        "decoder_target_data_test = decoder_target_data[test_indices,:] "
      ]
    },
    {
      "cell_type": "markdown",
      "metadata": {
        "id": "NDPxb5JGPx4H"
      },
      "source": [
        "### 5.2 Retrain your previous Bidirectional LSTM model with training and validation data and tune the parameters (learning rate, optimizer, etc) based on validation score. (25 points)\n",
        "\n",
        "1. Use the model structure in section 3 to train a new model with new training and validation datasets.\n",
        "2. Based on validation BLEU score or loss to tune parameters."
      ]
    },
    {
      "cell_type": "code",
      "execution_count": 34,
      "metadata": {
        "id": "xUoi718wtoQ3"
      },
      "outputs": [],
      "source": [
        "model2 = Model(inputs=[encoder_input_x, decoder_input_x], \n",
        "              outputs=decoder_pred, \n",
        "              name='model2_training')"
      ]
    },
    {
      "cell_type": "code",
      "execution_count": 35,
      "metadata": {
        "colab": {
          "base_uri": "https://localhost:8080/"
        },
        "id": "yOREowQ1Px4H",
        "outputId": "f1bd8093-d555-46dc-e30e-509b862ff444"
      },
      "outputs": [
        {
          "name": "stdout",
          "output_type": "stream",
          "text": [
            "Epoch 1/100\n",
            "157/157 [==============================] - 9s 35ms/step - loss: 0.4958 - val_loss: 0.3147\n",
            "Epoch 2/100\n",
            "157/157 [==============================] - 5s 29ms/step - loss: 0.4482 - val_loss: 0.2961\n",
            "Epoch 3/100\n",
            "157/157 [==============================] - 5s 29ms/step - loss: 0.4307 - val_loss: 0.2897\n",
            "Epoch 4/100\n",
            "157/157 [==============================] - 5s 29ms/step - loss: 0.4219 - val_loss: 0.2833\n",
            "Epoch 5/100\n",
            "157/157 [==============================] - 5s 29ms/step - loss: 0.4134 - val_loss: 0.2790\n",
            "Epoch 6/100\n",
            "157/157 [==============================] - 5s 29ms/step - loss: 0.4087 - val_loss: 0.2752\n",
            "Epoch 7/100\n",
            "157/157 [==============================] - 5s 29ms/step - loss: 0.4031 - val_loss: 0.2735\n",
            "Epoch 8/100\n",
            "157/157 [==============================] - 5s 29ms/step - loss: 0.3985 - val_loss: 0.2708\n",
            "Epoch 9/100\n",
            "157/157 [==============================] - 5s 30ms/step - loss: 0.3939 - val_loss: 0.2679\n",
            "Epoch 10/100\n",
            "157/157 [==============================] - 5s 29ms/step - loss: 0.3904 - val_loss: 0.2671\n",
            "Epoch 11/100\n",
            "157/157 [==============================] - 5s 29ms/step - loss: 0.3880 - val_loss: 0.2654\n",
            "Epoch 12/100\n",
            "157/157 [==============================] - 5s 29ms/step - loss: 0.3847 - val_loss: 0.2649\n",
            "Epoch 13/100\n",
            "157/157 [==============================] - 5s 29ms/step - loss: 0.3823 - val_loss: 0.2636\n",
            "Epoch 14/100\n",
            "157/157 [==============================] - 5s 29ms/step - loss: 0.3787 - val_loss: 0.2626\n",
            "Epoch 15/100\n",
            "157/157 [==============================] - 5s 29ms/step - loss: 0.3775 - val_loss: 0.2619\n",
            "Epoch 16/100\n",
            "157/157 [==============================] - 5s 29ms/step - loss: 0.3751 - val_loss: 0.2625\n",
            "Epoch 17/100\n",
            "157/157 [==============================] - 5s 29ms/step - loss: 0.3720 - val_loss: 0.2602\n",
            "Epoch 18/100\n",
            "157/157 [==============================] - 5s 29ms/step - loss: 0.3702 - val_loss: 0.2596\n",
            "Epoch 19/100\n",
            "157/157 [==============================] - 5s 29ms/step - loss: 0.3675 - val_loss: 0.2600\n",
            "Epoch 20/100\n",
            "157/157 [==============================] - 5s 29ms/step - loss: 0.3666 - val_loss: 0.2592\n",
            "Epoch 21/100\n",
            "157/157 [==============================] - 5s 29ms/step - loss: 0.3640 - val_loss: 0.2570\n",
            "Epoch 22/100\n",
            "157/157 [==============================] - 5s 29ms/step - loss: 0.3625 - val_loss: 0.2579\n",
            "Epoch 23/100\n",
            "157/157 [==============================] - 5s 29ms/step - loss: 0.3610 - val_loss: 0.2576\n",
            "Epoch 24/100\n",
            "157/157 [==============================] - 5s 29ms/step - loss: 0.3588 - val_loss: 0.2555\n",
            "Epoch 25/100\n",
            "157/157 [==============================] - 5s 29ms/step - loss: 0.3576 - val_loss: 0.2550\n",
            "Epoch 26/100\n",
            "157/157 [==============================] - 5s 29ms/step - loss: 0.3564 - val_loss: 0.2558\n",
            "Epoch 27/100\n",
            "157/157 [==============================] - 5s 29ms/step - loss: 0.3535 - val_loss: 0.2563\n",
            "Epoch 28/100\n",
            "157/157 [==============================] - 5s 29ms/step - loss: 0.3521 - val_loss: 0.2548\n",
            "Epoch 29/100\n",
            "157/157 [==============================] - 5s 29ms/step - loss: 0.3515 - val_loss: 0.2561\n",
            "Epoch 30/100\n",
            "157/157 [==============================] - 5s 29ms/step - loss: 0.3496 - val_loss: 0.2535\n",
            "Epoch 31/100\n",
            "157/157 [==============================] - 5s 29ms/step - loss: 0.3489 - val_loss: 0.2545\n",
            "Epoch 32/100\n",
            "157/157 [==============================] - 5s 29ms/step - loss: 0.3470 - val_loss: 0.2549\n",
            "Epoch 33/100\n",
            "157/157 [==============================] - 5s 29ms/step - loss: 0.3464 - val_loss: 0.2551\n",
            "Epoch 34/100\n",
            "157/157 [==============================] - 5s 29ms/step - loss: 0.3438 - val_loss: 0.2555\n",
            "Epoch 35/100\n",
            "157/157 [==============================] - 5s 29ms/step - loss: 0.3421 - val_loss: 0.2556\n",
            "Epoch 36/100\n",
            "157/157 [==============================] - 5s 29ms/step - loss: 0.3405 - val_loss: 0.2538\n",
            "Epoch 37/100\n",
            "157/157 [==============================] - 5s 29ms/step - loss: 0.3405 - val_loss: 0.2536\n",
            "Epoch 38/100\n",
            "157/157 [==============================] - 5s 29ms/step - loss: 0.3394 - val_loss: 0.2522\n",
            "Epoch 39/100\n",
            "157/157 [==============================] - 5s 29ms/step - loss: 0.3383 - val_loss: 0.2529\n",
            "Epoch 40/100\n",
            "157/157 [==============================] - 5s 29ms/step - loss: 0.3371 - val_loss: 0.2541\n",
            "Epoch 41/100\n",
            "157/157 [==============================] - 5s 29ms/step - loss: 0.3351 - val_loss: 0.2538\n",
            "Epoch 42/100\n",
            "157/157 [==============================] - 5s 29ms/step - loss: 0.3350 - val_loss: 0.2540\n",
            "Epoch 43/100\n",
            "157/157 [==============================] - 4s 29ms/step - loss: 0.3329 - val_loss: 0.2527\n",
            "Epoch 44/100\n",
            "157/157 [==============================] - 5s 29ms/step - loss: 0.3329 - val_loss: 0.2537\n",
            "Epoch 45/100\n",
            "157/157 [==============================] - 5s 29ms/step - loss: 0.3314 - val_loss: 0.2528\n",
            "Epoch 46/100\n",
            "157/157 [==============================] - 5s 29ms/step - loss: 0.3286 - val_loss: 0.2527\n",
            "Epoch 47/100\n",
            "157/157 [==============================] - 5s 29ms/step - loss: 0.3291 - val_loss: 0.2508\n",
            "Epoch 48/100\n",
            "157/157 [==============================] - 5s 29ms/step - loss: 0.3297 - val_loss: 0.2520\n",
            "Epoch 49/100\n",
            "157/157 [==============================] - 5s 29ms/step - loss: 0.3268 - val_loss: 0.2534\n",
            "Epoch 50/100\n",
            "157/157 [==============================] - 5s 29ms/step - loss: 0.3236 - val_loss: 0.2530\n",
            "Epoch 51/100\n",
            "157/157 [==============================] - 5s 29ms/step - loss: 0.3244 - val_loss: 0.2533\n",
            "Epoch 52/100\n",
            "157/157 [==============================] - 5s 29ms/step - loss: 0.3240 - val_loss: 0.2529\n",
            "Epoch 53/100\n",
            "157/157 [==============================] - 5s 29ms/step - loss: 0.3234 - val_loss: 0.2513\n",
            "Epoch 54/100\n",
            "157/157 [==============================] - 5s 29ms/step - loss: 0.3225 - val_loss: 0.2511\n",
            "Epoch 55/100\n",
            "157/157 [==============================] - 5s 29ms/step - loss: 0.3218 - val_loss: 0.2517\n",
            "Epoch 56/100\n",
            "157/157 [==============================] - 5s 29ms/step - loss: 0.3208 - val_loss: 0.2513\n",
            "Epoch 57/100\n",
            "157/157 [==============================] - 5s 29ms/step - loss: 0.3193 - val_loss: 0.2513\n",
            "Epoch 58/100\n",
            "157/157 [==============================] - 5s 29ms/step - loss: 0.3187 - val_loss: 0.2526\n",
            "Epoch 59/100\n",
            "157/157 [==============================] - 5s 29ms/step - loss: 0.3177 - val_loss: 0.2510\n",
            "Epoch 60/100\n",
            "157/157 [==============================] - 5s 29ms/step - loss: 0.3164 - val_loss: 0.2510\n",
            "Epoch 61/100\n",
            "157/157 [==============================] - 5s 29ms/step - loss: 0.3156 - val_loss: 0.2524\n",
            "Epoch 62/100\n",
            "157/157 [==============================] - 5s 29ms/step - loss: 0.3157 - val_loss: 0.2530\n",
            "Epoch 63/100\n",
            "157/157 [==============================] - 5s 29ms/step - loss: 0.3144 - val_loss: 0.2517\n",
            "Epoch 64/100\n",
            "157/157 [==============================] - 5s 29ms/step - loss: 0.3129 - val_loss: 0.2528\n",
            "Epoch 65/100\n",
            "157/157 [==============================] - 4s 29ms/step - loss: 0.3123 - val_loss: 0.2511\n",
            "Epoch 66/100\n",
            "157/157 [==============================] - 5s 29ms/step - loss: 0.3113 - val_loss: 0.2522\n",
            "Epoch 67/100\n",
            "157/157 [==============================] - 5s 29ms/step - loss: 0.3107 - val_loss: 0.2538\n",
            "Epoch 68/100\n",
            "157/157 [==============================] - 5s 29ms/step - loss: 0.3108 - val_loss: 0.2519\n",
            "Epoch 69/100\n",
            "157/157 [==============================] - 5s 29ms/step - loss: 0.3094 - val_loss: 0.2515\n",
            "Epoch 70/100\n",
            "157/157 [==============================] - 5s 29ms/step - loss: 0.3097 - val_loss: 0.2526\n",
            "Epoch 71/100\n",
            "157/157 [==============================] - 5s 29ms/step - loss: 0.3088 - val_loss: 0.2516\n",
            "Epoch 72/100\n",
            "157/157 [==============================] - 5s 29ms/step - loss: 0.3063 - val_loss: 0.2526\n",
            "Epoch 73/100\n",
            "157/157 [==============================] - 5s 29ms/step - loss: 0.3065 - val_loss: 0.2526\n",
            "Epoch 74/100\n",
            "157/157 [==============================] - 5s 29ms/step - loss: 0.3045 - val_loss: 0.2520\n",
            "Epoch 75/100\n",
            "157/157 [==============================] - 5s 29ms/step - loss: 0.3042 - val_loss: 0.2529\n",
            "Epoch 76/100\n",
            "157/157 [==============================] - 5s 30ms/step - loss: 0.3041 - val_loss: 0.2539\n",
            "Epoch 77/100\n",
            "157/157 [==============================] - 5s 29ms/step - loss: 0.3046 - val_loss: 0.2539\n",
            "Epoch 78/100\n",
            "157/157 [==============================] - 5s 29ms/step - loss: 0.3030 - val_loss: 0.2528\n",
            "Epoch 79/100\n",
            "157/157 [==============================] - 5s 29ms/step - loss: 0.3024 - val_loss: 0.2539\n",
            "Epoch 80/100\n",
            "157/157 [==============================] - 5s 29ms/step - loss: 0.3005 - val_loss: 0.2553\n",
            "Epoch 81/100\n",
            "157/157 [==============================] - 5s 29ms/step - loss: 0.2999 - val_loss: 0.2547\n",
            "Epoch 82/100\n",
            "157/157 [==============================] - 5s 29ms/step - loss: 0.3009 - val_loss: 0.2537\n",
            "Epoch 83/100\n",
            "157/157 [==============================] - 4s 29ms/step - loss: 0.2983 - val_loss: 0.2549\n",
            "Epoch 84/100\n",
            "157/157 [==============================] - 5s 29ms/step - loss: 0.2991 - val_loss: 0.2552\n",
            "Epoch 85/100\n",
            "157/157 [==============================] - 4s 29ms/step - loss: 0.2977 - val_loss: 0.2529\n",
            "Epoch 86/100\n",
            "157/157 [==============================] - 5s 29ms/step - loss: 0.2989 - val_loss: 0.2534\n",
            "Epoch 87/100\n",
            "157/157 [==============================] - 5s 29ms/step - loss: 0.2972 - val_loss: 0.2536\n",
            "Epoch 88/100\n",
            "157/157 [==============================] - 5s 29ms/step - loss: 0.2961 - val_loss: 0.2550\n",
            "Epoch 89/100\n",
            "157/157 [==============================] - 5s 29ms/step - loss: 0.2976 - val_loss: 0.2539\n",
            "Epoch 90/100\n",
            "157/157 [==============================] - 5s 29ms/step - loss: 0.2964 - val_loss: 0.2546\n",
            "Epoch 91/100\n",
            "157/157 [==============================] - 5s 29ms/step - loss: 0.2943 - val_loss: 0.2536\n",
            "Epoch 92/100\n",
            "157/157 [==============================] - 5s 29ms/step - loss: 0.2938 - val_loss: 0.2534\n",
            "Epoch 93/100\n",
            "157/157 [==============================] - 5s 29ms/step - loss: 0.2928 - val_loss: 0.2526\n",
            "Epoch 94/100\n",
            "157/157 [==============================] - 5s 29ms/step - loss: 0.2923 - val_loss: 0.2560\n",
            "Epoch 95/100\n",
            "157/157 [==============================] - 5s 29ms/step - loss: 0.2924 - val_loss: 0.2547\n",
            "Epoch 96/100\n",
            "157/157 [==============================] - 5s 29ms/step - loss: 0.2900 - val_loss: 0.2554\n",
            "Epoch 97/100\n",
            "157/157 [==============================] - 5s 29ms/step - loss: 0.2901 - val_loss: 0.2542\n",
            "Epoch 98/100\n",
            "157/157 [==============================] - 5s 29ms/step - loss: 0.2909 - val_loss: 0.2548\n",
            "Epoch 99/100\n",
            "157/157 [==============================] - 5s 29ms/step - loss: 0.2903 - val_loss: 0.2543\n",
            "Epoch 100/100\n",
            "157/157 [==============================] - 5s 29ms/step - loss: 0.2895 - val_loss: 0.2543\n"
          ]
        }
      ],
      "source": [
        "from tensorflow.keras import optimizers\n",
        "\n",
        "learning_rate = 0.001\n",
        "\n",
        "model2.compile(optimizer=optimizers.Adam(), loss='categorical_crossentropy')\n",
        "\n",
        "model2.fit([encoder_input_data_train, decoder_input_data_train],  # training data\n",
        "          decoder_target_data_train,                       # labels (left shift of the target sequences)\n",
        "          batch_size=128, epochs=100, validation_data=([encoder_input_data_valid, decoder_input_data_valid], decoder_target_data_valid))\n",
        "\n",
        "model2.save('seq2seq_tuned.h5')"
      ]
    },
    {
      "cell_type": "markdown",
      "metadata": {
        "id": "y2bkQ9lIPx4H"
      },
      "source": [
        "### 5.3 Evaluate the BLEU score using the test set. (15 points)\n",
        "\n",
        "1. Use trained model above to calculate the BLEU score with testing dataset."
      ]
    },
    {
      "cell_type": "code",
      "execution_count": 36,
      "metadata": {
        "colab": {
          "base_uri": "https://localhost:8080/"
        },
        "id": "uEwLCP77Px4H",
        "outputId": "d9362cbb-8a8a-4108-cb72-2e0dd4b7f39b"
      },
      "outputs": [
        {
          "name": "stdout",
          "output_type": "stream",
          "text": [
            "-\n",
            "English:        i have a hangover\n",
            "Spanish (true):  tengo resaca\n",
            "Spanish (pred):  tenga uno camoro\n",
            "-\n",
            "English:        ill eat lunch soon\n",
            "Spanish (true):  enseguida almuerzo\n",
            "Spanish (pred):  vay o lombior par ohi\n",
            "-\n",
            "English:        im famished\n",
            "Spanish (true):  estoy muerto de hambre\n",
            "Spanish (pred):  estay san condoda\n",
            "-\n",
            "English:        am i wrong\n",
            "Spanish (true):  estoy equivocada\n",
            "Spanish (pred):  estay equivacoda\n",
            "-\n",
            "English:        i felt woozy\n",
            "Spanish (true):  me senti atontado\n",
            "Spanish (pred):  me sienta troboionte\n",
            "-\n",
            "English:        im on my way home\n",
            "Spanish (true):  voy a casa\n",
            "Spanish (pred):  estay en mi coso cantoda\n",
            "-\n",
            "English:        you look awful\n",
            "Spanish (true):  te ves horrible\n",
            "Spanish (pred):  te ves mol pelizo\n",
            "-\n",
            "English:        he asked for a beer\n",
            "Spanish (true):  el pidio una cerveza\n",
            "Spanish (pred):  le galpea un pres\n",
            "-\n",
            "English:        theyre correct\n",
            "Spanish (true):  son correctos\n",
            "Spanish (pred):  san ricas\n",
            "-\n",
            "English:        tom dozed\n",
            "Spanish (true):  tom dormito\n",
            "Spanish (pred):  tam se te\n",
            "-\n",
            "English:        is tom canadian\n",
            "Spanish (true):  tom es canadiense\n",
            "Spanish (pred):  tam es conodiense\n",
            "-\n",
            "English:        happy thanksgiving\n",
            "Spanish (true):  feliz dia de accion de gracias\n",
            "Spanish (pred):  depie este o gunte\n",
            "-\n",
            "English:        tom was helping me\n",
            "Spanish (true):  tomas me estaba ayudando\n",
            "Spanish (pred):  tam estobo metendala\n",
            "-\n",
            "English:        i often ski\n",
            "Spanish (true):  voy a esquiar con frecuencia\n",
            "Spanish (pred):  se de fue\n",
            "-\n",
            "English:        the law was changed\n",
            "Spanish (true):  la ley fue modificada\n",
            "Spanish (pred):  el cola estobo colgada\n",
            "-\n",
            "English:        i want you to stay\n",
            "Spanish (true):  quiero que te quedes\n",
            "Spanish (pred):  quiera que te gueros\n",
            "-\n",
            "English:        im very confused\n",
            "Spanish (true):  estoy muy confundida\n",
            "Spanish (pred):  estay muy consudo\n",
            "-\n",
            "English:        i must be dreaming\n",
            "Spanish (true):  debo de estar sonando\n",
            "Spanish (pred):  deba de fumor\n",
            "-\n",
            "English:        then what happened\n",
            "Spanish (true):  entonces que paso\n",
            "Spanish (pred):  ellas se fue en el perma\n",
            "-\n",
            "English:        i continued singing\n",
            "Spanish (true):  yo segui cantando\n",
            "Spanish (pred):  segui cantonda\n",
            "-\n",
            "English:        when will you start\n",
            "Spanish (true):  cuando empezaras\n",
            "Spanish (pred):  cuonda estoros salos\n",
            "-\n",
            "English:        tom got in the cab\n",
            "Spanish (true):  tom se metio en el taxi\n",
            "Spanish (pred):  tam se senta en lo comino\n",
            "-\n",
            "English:        i love my friends\n",
            "Spanish (true):  amo a mis amigos\n",
            "Spanish (pred):  quiera o mis midas\n",
            "-\n",
            "English:        tom failed\n",
            "Spanish (true):  tom reprobo\n",
            "Spanish (pred):  tam se treacupo\n",
            "-\n",
            "English:        tom picked mary up\n",
            "Spanish (true):  tom levanto a mary\n",
            "Spanish (pred):  tam pogobo mory mero\n",
            "-\n",
            "English:        call me a taxi\n",
            "Spanish (true):  llamame un taxi\n",
            "Spanish (pred):  llomo o en toxi\n",
            "-\n",
            "English:        i fled\n",
            "Spanish (true):  hui\n",
            "Spanish (pred):  me he ledona\n",
            "-\n",
            "English:        have you met tom yet\n",
            "Spanish (true):  ya conociste a tom\n",
            "Spanish (pred):  los ho hecha tona\n",
            "-\n",
            "English:        tom works here\n",
            "Spanish (true):  tom trabaja aca\n",
            "Spanish (pred):  tam trobojo olli\n",
            "-\n",
            "English:        he walked home\n",
            "Spanish (true):  el camino a casa\n",
            "Spanish (pred):  el mondano o coso\n",
            "-\n",
            "English:        tom didnt go there\n",
            "Spanish (true):  tom no fue alli\n",
            "Spanish (pred):  tam na olerta\n",
            "-\n",
            "English:        wait out front\n",
            "Spanish (true):  espera fuera\n",
            "Spanish (pred):  espero par oinas\n",
            "-\n",
            "English:        what does he do\n",
            "Spanish (true):  que hace\n",
            "Spanish (pred):  que hice es\n",
            "-\n",
            "English:        is this new\n",
            "Spanish (true):  esto es nuevo\n",
            "Spanish (pred):  esta es nueva\n",
            "-\n",
            "English:        i wish you good luck\n",
            "Spanish (true):  te deseo buena suerte\n",
            "Spanish (pred):  deseorio que tu voyos\n",
            "-\n",
            "English:        they work together\n",
            "Spanish (true):  ellos trabajan juntos\n",
            "Spanish (pred):  ellas orobojon ollo\n",
            "-\n",
            "English:        im a patient man\n",
            "Spanish (true):  soy un hombre paciente\n",
            "Spanish (pred):  say un hambre cosoda\n",
            "-\n",
            "English:        you should shower\n",
            "Spanish (true):  deberias ducharte\n",
            "Spanish (pred):  deberios hocerla oharo\n",
            "-\n",
            "English:        who won today\n",
            "Spanish (true):  quien ha ganado hoy\n",
            "Spanish (pred):  quien ho hocida\n",
            "-\n",
            "English:        it really works\n",
            "Spanish (true):  realmente funciona\n",
            "Spanish (pred):  esto muy melasa\n",
            "-\n",
            "English:        please stop singing\n",
            "Spanish (true):  deja de cantar por favor\n",
            "Spanish (pred):  par fovar hogo de gonor\n",
            "-\n",
            "English:        you are the best\n",
            "Spanish (true):  sos el mejor\n",
            "Spanish (pred):  sas lo mejar\n",
            "-\n",
            "English:        tom can help mary\n",
            "Spanish (true):  tom puede ayudar a mary\n",
            "Spanish (pred):  tam puede oyudor o mory\n",
            "-\n",
            "English:        theyre not stupid\n",
            "Spanish (true):  no son estupidos\n",
            "Spanish (pred):  na san peligrosas\n",
            "-\n",
            "English:        im running late\n",
            "Spanish (true):  voy con retraso\n",
            "Spanish (pred):  me vay de oluortor\n",
            "-\n",
            "English:        im bald\n",
            "Spanish (true):  estoy calvo\n",
            "Spanish (pred):  estay libia\n",
            "-\n",
            "English:        do you get the idea\n",
            "Spanish (true):  lo comprende usted\n",
            "Spanish (pred):  camis el concela\n",
            "-\n",
            "English:        go and wake mary up\n",
            "Spanish (true):  vete a despertar a mary\n",
            "Spanish (pred):  vete o despertor o mory\n",
            "-\n",
            "English:        toms mothers dead\n",
            "Spanish (true):  la madre de tomas esta muerta\n",
            "Spanish (pred):  tam se queda sen ruena\n",
            "-\n",
            "English:        everybody wanted one\n",
            "Spanish (true):  todos querian una\n",
            "Spanish (pred):  tadas se quedieran\n",
            "-\n",
            "English:        the partys over\n",
            "Spanish (true):  se acabo la fiesta\n",
            "Spanish (pred):  el juega esto oqui\n",
            "-\n",
            "English:        no one answered\n",
            "Spanish (true):  nadie respondio\n",
            "Spanish (pred):  nodie estobo otropoda\n",
            "-\n",
            "English:        we were both drunk\n",
            "Spanish (true):  los dos estabamos borrachos\n",
            "Spanish (pred):  eromas encantrodas\n",
            "-\n",
            "English:        tom wants results\n",
            "Spanish (true):  tom quiere resultados\n",
            "Spanish (pred):  tam quiere premis\n",
            "-\n",
            "English:        tom is relaxed\n",
            "Spanish (true):  tom esta relajado\n",
            "Spanish (pred):  tam esto resostoda\n",
            "-\n",
            "English:        ill be around\n",
            "Spanish (true):  estare por ahi\n",
            "Spanish (pred):  vay o estor par ohi\n",
            "-\n",
            "English:        turn off the radio\n",
            "Spanish (true):  apaga la radio\n",
            "Spanish (pred):  opogo lo luz\n",
            "-\n",
            "English:        i washed the windows\n",
            "Spanish (true):  lave las ventanas\n",
            "Spanish (pred):  le desperta ol penial\n",
            "-\n",
            "English:        we were relaxing\n",
            "Spanish (true):  estabamos relajandonos\n",
            "Spanish (pred):  estobomas curienda\n",
            "-\n",
            "English:        that was ours\n",
            "Spanish (true):  eso era nuestro\n",
            "Spanish (pred):  esa fue divertida\n",
            "-\n",
            "English:        that sounds amazing\n",
            "Spanish (true):  eso suena alucinante\n",
            "Spanish (pred):  esa sucede saler\n",
            "-\n",
            "English:        now try again\n",
            "Spanish (true):  prueba de nuevo\n",
            "Spanish (pred):  oharo pan otencian\n",
            "-\n",
            "English:        bring a shovel\n",
            "Spanish (true):  trae una pala\n",
            "Spanish (pred):  troe el sambrera\n",
            "-\n",
            "English:        tom is cruel\n",
            "Spanish (true):  tom es cruel\n",
            "Spanish (pred):  tam es oria\n",
            "-\n",
            "English:        get tom away from me\n",
            "Spanish (true):  aleja a tom de mi\n",
            "Spanish (pred):  llomo de o mo yomo\n",
            "-\n",
            "English:        did i miss something\n",
            "Spanish (true):  me perdi de algo\n",
            "Spanish (pred):  me he perdida poso\n",
            "-\n",
            "English:        he has brown hair\n",
            "Spanish (true):  tiene el pelo castano\n",
            "Spanish (pred):  el tiene el pela lorga\n",
            "-\n",
            "English:        this is my cousin\n",
            "Spanish (true):  esta es mi prima\n",
            "Spanish (pred):  este es mi prigo\n",
            "-\n",
            "English:        calm down\n",
            "Spanish (true):  tomatelo con soda\n",
            "Spanish (pred):  bojo un paca\n",
            "-\n",
            "English:        tom lives abroad\n",
            "Spanish (true):  tom vive en el extranjero\n",
            "Spanish (pred):  o tam le guston las cobollas\n",
            "-\n",
            "English:        you lost the game\n",
            "Spanish (true):  perdiste el juego\n",
            "Spanish (pred):  pordies lo menar\n",
            "-\n",
            "English:        tom also dances\n",
            "Spanish (true):  tom tambien baila\n",
            "Spanish (pred):  tam comino mos olines\n",
            "-\n",
            "English:        id like a daiquiri\n",
            "Spanish (true):  quisiera un daiquiri\n",
            "Spanish (pred):  quisiero un tolo inteligente\n",
            "-\n",
            "English:        you owe me a favor\n",
            "Spanish (true):  me debes un favor\n",
            "Spanish (pred):  te dien mucha\n",
            "-\n",
            "English:        nobody went there\n",
            "Spanish (true):  nadie fue ahi\n",
            "Spanish (pred):  nodie oqui ve oqui\n",
            "-\n",
            "English:        do come in\n",
            "Spanish (true):  entra de una vez\n",
            "Spanish (pred):  vete en cunlo\n",
            "-\n",
            "English:        im eating\n",
            "Spanish (true):  estoy comiendo\n",
            "Spanish (pred):  estay escandida\n",
            "-\n",
            "English:        well cook\n",
            "Spanish (true):  haremos la comida\n",
            "Spanish (pred):  brimas\n",
            "-\n",
            "English:        i like to draw\n",
            "Spanish (true):  me gusta dibujar\n",
            "Spanish (pred):  me gusto caminor\n",
            "-\n",
            "English:        tom cant do that\n",
            "Spanish (true):  tom no puede hacer eso\n",
            "Spanish (pred):  tam na puede hocer cuolquiero\n",
            "-\n",
            "English:        the night is young\n",
            "Spanish (true):  la noche es joven\n",
            "Spanish (pred):  el perra esto curienda\n",
            "-\n",
            "English:        am i disturbing you\n",
            "Spanish (true):  os estoy molestando\n",
            "Spanish (pred):  te estay melestonda\n",
            "-\n",
            "English:        i never get mad\n",
            "Spanish (true):  nunca me enfado\n",
            "Spanish (pred):  nunco me deda\n",
            "-\n",
            "English:        lets go inside\n",
            "Spanish (true):  vamos para adentro\n",
            "Spanish (pred):  voyomas o contor\n",
            "-\n",
            "English:        i got into trouble\n",
            "Spanish (true):  me meti en problemas\n",
            "Spanish (pred):  me desente o lo colecio\n",
            "-\n",
            "English:        she came to my aid\n",
            "Spanish (true):  ha venido en mi ayuda\n",
            "Spanish (pred):  ello hiza de mi como\n",
            "-\n",
            "English:        tom has lost weight\n",
            "Spanish (true):  tom ha perdido peso\n",
            "Spanish (pred):  tam tiene pela gerta\n",
            "-\n",
            "English:        what could go wrong\n",
            "Spanish (true):  que podria salir mal\n",
            "Spanish (pred):  que pedrio tamor bien\n",
            "-\n",
            "English:        are they japanese\n",
            "Spanish (true):  son japoneses\n",
            "Spanish (pred):  san jopones\n",
            "-\n",
            "English:        i play baseball\n",
            "Spanish (true):  juego al beisbol\n",
            "Spanish (pred):  taca el bulcalia\n",
            "-\n",
            "English:        face facts\n",
            "Spanish (true):  enfrentaos a los hechos\n",
            "Spanish (pred):  enfrentese o las hechas\n",
            "-\n",
            "English:        im not a baby\n",
            "Spanish (true):  ya no soy un bebe\n",
            "Spanish (pred):  na say un nina\n",
            "-\n",
            "English:        youre like tom\n",
            "Spanish (true):  eres como tom\n",
            "Spanish (pred):  oharo te cama tam\n",
            "-\n",
            "English:        have a nice time\n",
            "Spanish (true):  pasenla bien\n",
            "Spanish (pred):  tamo un buen oua\n",
            "-\n",
            "English:        the books are dusty\n",
            "Spanish (true):  los libros estan polvorientos\n",
            "Spanish (pred):  el perra estobo culga\n",
            "-\n",
            "English:        tom isnt my cousin\n",
            "Spanish (true):  tom no es mi primo\n",
            "Spanish (pred):  tam na es mi prima\n",
            "-\n",
            "English:        please be patient\n",
            "Spanish (true):  por favor tene paciencia\n",
            "Spanish (pred):  par fovar camino esta\n",
            "-\n",
            "English:        were not like you\n",
            "Spanish (true):  no somos como tu\n",
            "Spanish (pred):  na tenemas tada ti\n",
            "-\n",
            "English:        the market rallied\n",
            "Spanish (true):  el mercado repunto al alza\n",
            "Spanish (pred):  el porra estobo crega\n",
            "-\n",
            "English:        the world is small\n",
            "Spanish (true):  el mundo es pequeno\n",
            "Spanish (pred):  lo comido esto solo\n",
            "-\n",
            "English:        do you live here\n",
            "Spanish (true):  ustedes viven aqui\n",
            "Spanish (pred):  vives oqui\n",
            "-\n",
            "English:        let tom speak\n",
            "Spanish (true):  deja hablar a tom\n",
            "Spanish (pred):  dejo que tam se quedo\n",
            "-\n",
            "English:        i like this city\n",
            "Spanish (true):  me gusta esta ciudad\n",
            "Spanish (pred):  me gusto esto coto\n",
            "-\n",
            "English:        were not perfect\n",
            "Spanish (true):  no somos perfectos\n",
            "Spanish (pred):  na samas pibasfronas\n",
            "-\n",
            "English:        hand me a towel\n",
            "Spanish (true):  alcanzame una toalla\n",
            "Spanish (pred):  entregueme un oumenta\n",
            "-\n",
            "English:        that cant be right\n",
            "Spanish (true):  eso no puede ser correcto\n",
            "Spanish (pred):  esa na puede ser verded\n",
            "-\n",
            "English:        i dont buy it\n",
            "Spanish (true):  no pico\n",
            "Spanish (pred):  na la campre\n",
            "-\n",
            "English:        that is intriguing\n",
            "Spanish (true):  eso es intrigante\n",
            "Spanish (pred):  esa es estupica\n",
            "-\n",
            "English:        is it windy\n",
            "Spanish (true):  esta ventoso\n",
            "Spanish (pred):  esto lien\n",
            "-\n",
            "English:        i used to smoke\n",
            "Spanish (true):  yo fumaba\n",
            "Spanish (pred):  salio bielor\n",
            "-\n",
            "English:        i made a mistake\n",
            "Spanish (true):  cometi un error\n",
            "Spanish (pred):  hice un dalarrida\n",
            "-\n",
            "English:        you may look\n",
            "Spanish (true):  podeis mirar\n",
            "Spanish (pred):  puedes miror\n",
            "-\n",
            "English:        im from singapore\n",
            "Spanish (true):  soy de singapur\n",
            "Spanish (pred):  estay dispanible\n",
            "-\n",
            "English:        its really stinky\n",
            "Spanish (true):  es realmente apestoso\n",
            "Spanish (pred):  es reolmente estupenda\n",
            "-\n",
            "English:        tom betrayed mary\n",
            "Spanish (true):  tom traiciono a mary\n",
            "Spanish (pred):  tam respitobo o mory\n",
            "-\n",
            "English:        all is well\n",
            "Spanish (true):  todo esta correcto\n",
            "Spanish (pred):  tada esto en el mole\n",
            "-\n",
            "English:        what a concept\n",
            "Spanish (true):  que concepto\n",
            "Spanish (pred):  que calicio\n",
            "-\n",
            "English:        tom watched mary\n",
            "Spanish (true):  tom observo a mary\n",
            "Spanish (pred):  tam engona o mory\n",
            "-\n",
            "English:        its very cheap\n",
            "Spanish (true):  es muy barato\n",
            "Spanish (pred):  es muy tepde\n",
            "-\n",
            "English:        its a hard question\n",
            "Spanish (true):  es una pregunta dificil\n",
            "Spanish (pred):  es uno poso surio\n",
            "-\n",
            "English:        are you guys free\n",
            "Spanish (true):  estais libres\n",
            "Spanish (pred):  estos oburrido\n",
            "-\n",
            "English:        i found it by chance\n",
            "Spanish (true):  la encontre por casualidad\n",
            "Spanish (pred):  la deje uno onto\n",
            "-\n",
            "English:        we have everything\n",
            "Spanish (true):  lo tenemos todo\n",
            "Spanish (pred):  tenemas tada\n",
            "-\n",
            "English:        we lost the game\n",
            "Spanish (true):  perdimos la partida\n",
            "Spanish (pred):  debemas el portida\n",
            "-\n",
            "English:        i hate milk\n",
            "Spanish (true):  odio la leche\n",
            "Spanish (pred):  adia lo futbol\n",
            "-\n",
            "English:        i know why that is\n",
            "Spanish (true):  se por que es asi\n",
            "Spanish (pred):  se la que si\n",
            "-\n",
            "English:        were very pleased\n",
            "Spanish (true):  estamos muy contentos\n",
            "Spanish (pred):  estobos muy ferios\n",
            "-\n",
            "English:        how many were there\n",
            "Spanish (true):  cuantos habia\n",
            "Spanish (pred):  cuonta puede hober mos teros\n",
            "-\n",
            "English:        we arent alone\n",
            "Spanish (true):  no estamos solos\n",
            "Spanish (pred):  na estomas salas\n",
            "-\n",
            "English:        i majored in history\n",
            "Spanish (true):  me gradue en historia\n",
            "Spanish (pred):  la dispirte la esperonzo\n",
            "-\n",
            "English:        say it in english\n",
            "Spanish (true):  dilo en ingles\n",
            "Spanish (pred):  digola se esturo\n",
            "-\n",
            "English:        give him my regards\n",
            "Spanish (true):  dale mis saludos\n",
            "Spanish (pred):  dole mi camero\n",
            "-\n",
            "English:        hang on\n",
            "Spanish (true):  agarra fuertemente\n",
            "Spanish (pred):  espero\n",
            "-\n",
            "English:        tom got annoyed\n",
            "Spanish (true):  tom se aburrio\n",
            "Spanish (pred):  tam se enfaga\n",
            "-\n",
            "English:        leave it\n",
            "Spanish (true):  dejalo\n",
            "Spanish (pred):  dejola\n",
            "-\n",
            "English:        theyre in the car\n",
            "Spanish (true):  estan en el auto\n",
            "Spanish (pred):  na hoy en cache\n",
            "-\n",
            "English:        i will go on foot\n",
            "Spanish (true):  ire andando\n",
            "Spanish (pred):  vay o drrmir pranta\n",
            "-\n",
            "English:        i just might do that\n",
            "Spanish (true):  puede que lo haga\n",
            "Spanish (pred):  me ocoba de hocer esa\n",
            "-\n",
            "English:        hows this possible\n",
            "Spanish (true):  como es posible eso\n",
            "Spanish (pred):  cama es este pasible\n",
            "-\n",
            "English:        look at that\n",
            "Spanish (true):  miralo\n",
            "Spanish (pred):  miro esa\n",
            "-\n",
            "English:        we should call tom\n",
            "Spanish (true):  deberiamos llamar a tom\n",
            "Spanish (pred):  deberiomas hyudor o tam\n",
            "-\n",
            "English:        tom hates running\n",
            "Spanish (true):  tom odia correr\n",
            "Spanish (pred):  tam adio lo leovio\n",
            "-\n",
            "English:        i can speak french\n",
            "Spanish (true):  puedo hablar frances\n",
            "Spanish (pred):  se lagor fronces\n",
            "-\n",
            "English:        thats true too\n",
            "Spanish (true):  tambien es verdad\n",
            "Spanish (pred):  esa es el troboja de tam\n",
            "-\n",
            "English:        what is this letter\n",
            "Spanish (true):  cual es esta letra\n",
            "Spanish (pred):  que es esta es el oseona\n",
            "-\n",
            "English:        why are you so sad\n",
            "Spanish (true):  por que estas tan triste\n",
            "Spanish (pred):  par que estois ton tristes\n",
            "-\n",
            "English:        she got angry\n",
            "Spanish (true):  ella se cabreo\n",
            "Spanish (pred):  ello se enfoda\n",
            "-\n",
            "English:        whats done is done\n",
            "Spanish (true):  lo que esta hecho no se puede deshacer\n",
            "Spanish (pred):  que hoy hose hocer\n",
            "-\n",
            "English:        my lungs hurt\n",
            "Spanish (true):  me duelen los pulmones\n",
            "Spanish (pred):  me duele el broza\n",
            "-\n",
            "English:        weve got a problem\n",
            "Spanish (true):  tenemos un problema\n",
            "Spanish (pred):  tenemas un prablemo\n",
            "-\n",
            "English:        i want to be here\n",
            "Spanish (true):  quiero estar aqui\n",
            "Spanish (pred):  quiera ven olli\n",
            "-\n",
            "English:        its unbearably hot\n",
            "Spanish (true):  hace un calor insoportable\n",
            "Spanish (pred):  es uno bueno calico\n",
            "-\n",
            "English:        run\n",
            "Spanish (true):  corred\n",
            "Spanish (pred):  carrod\n",
            "-\n",
            "English:        i am sure of success\n",
            "Spanish (true):  estoy seguro de triunfar\n",
            "Spanish (pred):  estay cansoda de mos hefes\n",
            "-\n",
            "English:        he often watches tv\n",
            "Spanish (true):  ve television a menudo\n",
            "Spanish (pred):  el se queda o lo coro\n",
            "-\n",
            "English:        his hands were empty\n",
            "Spanish (true):  sus manos estaban vacias\n",
            "Spanish (pred):  sus podres me dueron\n",
            "-\n",
            "English:        im from the city\n",
            "Spanish (true):  soy de la ciudad\n",
            "Spanish (pred):  estay en lo coso de tam\n",
            "-\n",
            "English:        its too loud\n",
            "Spanish (true):  esta demasiado alto\n",
            "Spanish (pred):  es demosioda pranta\n",
            "-\n",
            "English:        tom stutters\n",
            "Spanish (true):  tom tartamudea\n",
            "Spanish (pred):  tam se despera\n",
            "-\n",
            "English:        i went home\n",
            "Spanish (true):  me fui a casa\n",
            "Spanish (pred):  me duspore\n",
            "-\n",
            "English:        you look happy\n",
            "Spanish (true):  te ves contento\n",
            "Spanish (pred):  porece  spenferlo\n",
            "-\n",
            "English:        i was deeply moved\n",
            "Spanish (true):  estaba profundamente emocionado\n",
            "Spanish (pred):  estobo reolmente omacianodo\n",
            "-\n",
            "English:        stop correcting me\n",
            "Spanish (true):  deja de corregirme\n",
            "Spanish (pred):  dejo de ser mol gotelo\n",
            "-\n",
            "English:        is this toms\n",
            "Spanish (true):  esto es de tom\n",
            "Spanish (pred):  esta es tuya\n",
            "-\n",
            "English:        im trapped\n",
            "Spanish (true):  estoy atrapado\n",
            "Spanish (pred):  estay preporodo\n",
            "-\n",
            "English:        dont use the hammer\n",
            "Spanish (true):  no uses el martillo\n",
            "Spanish (pred):  na camore lo mistario\n",
            "-\n",
            "English:        he closed his eyes\n",
            "Spanish (true):  el cerro los ojos\n",
            "Spanish (pred):  el rina las ajas\n",
            "-\n",
            "English:        we depend on you\n",
            "Spanish (true):  dependemos de usted\n",
            "Spanish (pred):  nasatras condimas can tam\n",
            "-\n",
            "English:        she is from france\n",
            "Spanish (true):  es francesa\n",
            "Spanish (pred):  ello es hontonte herilera\n",
            "-\n",
            "English:        control yourself\n",
            "Spanish (true):  controlate\n",
            "Spanish (pred):  pante lo biso\n",
            "-\n",
            "English:        well certainly try\n",
            "Spanish (true):  lo intentaremos eso seguro\n",
            "Spanish (pred):  brenes sa decertoromas\n",
            "-\n",
            "English:        i had an idea\n",
            "Spanish (true):  tuve una idea\n",
            "Spanish (pred):  ya tenio uno risian\n",
            "-\n",
            "English:        i dont mince words\n",
            "Spanish (true):  no mido mis palabras\n",
            "Spanish (pred):  na me gaston los monos\n",
            "-\n",
            "English:        judge for yourself\n",
            "Spanish (true):  juzgalo tu mismo\n",
            "Spanish (pred):  juzlo par ti misma\n",
            "-\n",
            "English:        i want an player\n",
            "Spanish (true):  quiero un\n",
            "Spanish (pred):  quiera un obagoda\n",
            "-\n",
            "English:        stay\n",
            "Spanish (true):  quedate\n",
            "Spanish (pred):  poro\n",
            "-\n",
            "English:        im teaching basque\n",
            "Spanish (true):  estoy ensenando euskera\n",
            "Spanish (pred):  estay olenonda en los\n",
            "-\n",
            "English:        go meet tom\n",
            "Spanish (true):  ve a ver a tom\n",
            "Spanish (pred):  vete o casor o tam\n",
            "-\n",
            "English:        you might get shot\n",
            "Spanish (true):  tu podrias recibir un disparo\n",
            "Spanish (pred):  puede que te escuentros oqui\n",
            "-\n",
            "English:        they may go\n",
            "Spanish (true):  quiza vayan\n",
            "Spanish (pred):  pueden irse\n",
            "-\n",
            "English:        toms not home yet\n",
            "Spanish (true):  tom aun no esta en casa\n",
            "Spanish (pred):  tam na tiene cambre\n",
            "-\n",
            "English:        how arrogant\n",
            "Spanish (true):  que arrogante\n",
            "Spanish (pred):  que rora\n",
            "-\n",
            "English:        give me a hug\n",
            "Spanish (true):  dame un abrazo\n",
            "Spanish (pred):  dome uno mona\n",
            "-\n",
            "English:        isnt it beautiful\n",
            "Spanish (true):  no es hermoso\n",
            "Spanish (pred):  na es braveslana\n",
            "-\n",
            "English:        take her to the or\n",
            "Spanish (true):  llevela al quirofano\n",
            "Spanish (pred):  llevola ol quilafune\n",
            "-\n",
            "English:        i blacked out\n",
            "Spanish (true):  perdi la consciencia\n",
            "Spanish (pred):  he lemida o tam\n",
            "-\n",
            "English:        i fired tom\n",
            "Spanish (true):  despedi a tom\n",
            "Spanish (pred):  ya ontontre o tam\n",
            "-\n",
            "English:        is tom still playing\n",
            "Spanish (true):  tom sigue jugando\n",
            "Spanish (pred):  tam sigue probojonda\n",
            "-\n",
            "English:        please go\n",
            "Spanish (true):  por favor ve\n",
            "Spanish (pred):  par fovar votese\n",
            "-\n",
            "English:        thats hogwash\n",
            "Spanish (true):  eso es una tonteria\n",
            "Spanish (pred):  esa es uno lono\n",
            "-\n",
            "English:        read this\n",
            "Spanish (true):  lean esto\n",
            "Spanish (pred):  lee esta\n",
            "-\n",
            "English:        read after me\n",
            "Spanish (true):  lee despues de mi\n",
            "Spanish (pred):  lee despues de mi\n",
            "-\n",
            "English:        i bear him no malice\n",
            "Spanish (true):  no tengo malicia hacia el\n",
            "Spanish (pred):  la dida cama un manega\n",
            "-\n",
            "English:        youre not stupid\n",
            "Spanish (true):  no eres estupida\n",
            "Spanish (pred):  na eres perfecta\n",
            "-\n",
            "English:        bring the key\n",
            "Spanish (true):  trae la llave\n",
            "Spanish (pred):  troe el pila\n",
            "-\n",
            "English:        that dog jumped\n",
            "Spanish (true):  ese perro brinco\n",
            "Spanish (pred):  esa perro suenta\n",
            "-\n",
            "English:        i want my mother\n",
            "Spanish (true):  quiero a mi madre\n",
            "Spanish (pred):  quiera mi porte\n",
            "-\n",
            "English:        check around\n",
            "Spanish (true):  revisa en los alrededores\n",
            "Spanish (pred):  reviso en biel\n",
            "-\n",
            "English:        go up these stairs\n",
            "Spanish (true):  sube estas escaleras\n",
            "Spanish (pred):  ve o lo pilleto o lo puerto\n",
            "-\n",
            "English:        stay here with us\n",
            "Spanish (true):  quedate aqui con nosotros\n",
            "Spanish (pred):  quedense oqui can nasatros\n"
          ]
        }
      ],
      "source": [
        "input_test_texts = input_texts[test_indices]\n",
        "target_texts = numpy.array(target_texts)\n",
        "target_test_texts = target_texts[test_indices]\n",
        "\n",
        "predicted_sentences = []\n",
        "\n",
        "for seq_index in range(2100, 2300):\n",
        "    # Take one sequence (part of the training set)\n",
        "    # for trying out decoding.\n",
        "    input_seq = encoder_input_data_test[seq_index: seq_index + 1]\n",
        "    decoded_sentence = decode_sequence(input_seq)\n",
        "    predicted_sentences.append(decoded_sentence[0:-1])\n",
        "    print('-')\n",
        "    print('English:       ', input_test_texts[seq_index])\n",
        "    print('Spanish (true): ', target_test_texts[seq_index][1:-1])\n",
        "    print('Spanish (pred): ', decoded_sentence[0:-1])"
      ]
    },
    {
      "cell_type": "code",
      "execution_count": 38,
      "metadata": {
        "id": "YJDtz7Bv-4cP"
      },
      "outputs": [],
      "source": [
        "target_list = [sentence.split() for sentence in target_test_texts[2100: 2300]]\n",
        "predicted_list = [sentence.split() for sentence in predicted_sentences]"
      ]
    },
    {
      "cell_type": "code",
      "execution_count": 39,
      "metadata": {
        "colab": {
          "base_uri": "https://localhost:8080/"
        },
        "id": "veewf2KPCycw",
        "outputId": "8dcbf2ee-bf3c-4047-d873-c40c8022752d"
      },
      "outputs": [
        {
          "name": "stdout",
          "output_type": "stream",
          "text": [
            "0.38412643137394564\n"
          ]
        },
        {
          "name": "stderr",
          "output_type": "stream",
          "text": [
            "/usr/local/lib/python3.7/dist-packages/nltk/translate/bleu_score.py:490: UserWarning: \n",
            "Corpus/Sentence contains 0 counts of 2-gram overlaps.\n",
            "BLEU scores might be undesirable; use SmoothingFunction().\n",
            "  warnings.warn(_msg)\n"
          ]
        }
      ],
      "source": [
        "# Compute the BLEU score\n",
        "from nltk.translate.bleu_score import corpus_bleu\n",
        "\n",
        "references = target_list\n",
        "candidates = predicted_list\n",
        "score = corpus_bleu(references, candidates)\n",
        "print(score)"
      ]
    },
    {
      "cell_type": "code",
      "execution_count": null,
      "metadata": {
        "id": "exH6kU10Oq7I"
      },
      "outputs": [],
      "source": []
    }
  ],
  "metadata": {
    "accelerator": "GPU",
    "colab": {
      "collapsed_sections": [],
      "name": "DL_Assignment3.ipynb",
      "provenance": []
    },
    "kernelspec": {
      "display_name": "Python 3",
      "language": "python",
      "name": "python3"
    },
    "language_info": {
      "codemirror_mode": {
        "name": "ipython",
        "version": 3
      },
      "file_extension": ".py",
      "mimetype": "text/x-python",
      "name": "python",
      "nbconvert_exporter": "python",
      "pygments_lexer": "ipython3",
      "version": "3.8.8"
    }
  },
  "nbformat": 4,
  "nbformat_minor": 0
}
