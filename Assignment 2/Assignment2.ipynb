{
  "cells": [
    {
      "cell_type": "markdown",
      "metadata": {
        "id": "Xo8YTEGjnA97"
      },
      "source": [
        "# Assignment 2: Build a CNN for image recognition.\n",
        "\n",
        "## Due Date:  March 29, 11:59PM\n",
        "\n",
        "### Name: [Hamza Shabir]\n"
      ]
    },
    {
      "cell_type": "markdown",
      "metadata": {
        "id": "o2wATJv8nA98"
      },
      "source": [
        "## Introduction:\n",
        "\n",
        "1. In this assignment, you will build Convolutional Neural Network to classify CIFAR-10 Images.\n",
        "2. You can directly load dataset from many deep learning packages.\n",
        "3. You can use any deep learning packages such as pytorch, keras or tensorflow for this assignment."
      ]
    },
    {
      "cell_type": "markdown",
      "metadata": {
        "id": "bNQ6sOaAnA99"
      },
      "source": [
        "## Requirements:\n",
        "\n",
        "1. You need to load cifar 10 data and split the entire training dataset into training and validation.\n",
        "2. You will implement a CNN model to classify cifar 10 images with provided structure.\n",
        "3. You need to plot the training and validation accuracy or loss obtained from above step.\n",
        "4. Then you can use tuned parameters to train using the entire training dataset.\n",
        "5. You should report the testing accuracy using the model with complete data.\n",
        "6. You may try to change the structure (e.g, add BN layer or dropout layer,...) and analyze your findings.\n",
        "\n",
        "## Google Colab\n",
        "\n",
        "- If you do not have GPU, the training of a CNN can be slow. Google Colab is a good option."
      ]
    },
    {
      "cell_type": "markdown",
      "metadata": {
        "id": "kXwowKiKnA99"
      },
      "source": [
        "## Batch Normalization (BN)"
      ]
    },
    {
      "cell_type": "markdown",
      "metadata": {
        "id": "tbhNr-3hnA99"
      },
      "source": [
        "### Background:"
      ]
    },
    {
      "cell_type": "markdown",
      "metadata": {
        "id": "4dtsmaIonA9-"
      },
      "source": [
        "- Batch Normalization is a technique to speed up training and help make the model more stable.\n",
        "- In simple words, batch normalization is just another network layer that gets inserted between a hidden layer and the next hidden layer. Its job is to take the outputs from the first hidden layer and normalize them before passing them on as the input of the next hidden layer.\n",
        "\n",
        "- For more detailed information, you may refer to the original paper: https://arxiv.org/pdf/1502.03167.pdf."
      ]
    },
    {
      "cell_type": "markdown",
      "metadata": {
        "id": "Fqxz1SMZnA9-"
      },
      "source": [
        "### BN Algorithm:"
      ]
    },
    {
      "cell_type": "markdown",
      "metadata": {
        "id": "GdaW1dRxnA9-"
      },
      "source": [
        "- Input: Values of $x$ over a mini-batch: $\\mathbf{B}$ = $\\{x_1,..., x_m\\};$\n",
        "- Output: $\\{y_i = BN_{\\gamma,\\beta}(x_i)\\}$, $\\gamma, \\beta$ are learnable parameters\n",
        "\n",
        "Normalization of the Input:\n",
        "$$\\mu_{\\mathbf{B}} = \\frac{1}{m}\\sum_{i=1}^m x_i$$\n",
        "$$\\sigma_{\\mathbf{B}}^2 = \\frac{1}{m}\\sum_{i=1}^m (x_i - \\mu_{\\mathbf{B}})^2$$\n",
        "$$\\hat{x_i} = \\frac{x_i - \\mu_{\\mathbf{B}}}{\\sqrt{\\sigma_{\\mathbf{B}}}^2 + \\epsilon}$$\n",
        "Re-scaling and Offsetting:\n",
        "$$y_i = \\gamma \\hat{x_i} + \\beta = BN_{\\gamma,\\beta}(x_i)$$\n"
      ]
    },
    {
      "cell_type": "markdown",
      "metadata": {
        "id": "kgXmE3LEnA9_"
      },
      "source": [
        "### Advantages of BN:\n",
        "1. Improves gradient flow through the network.\n",
        "2. Allows use of saturating nonlinearities and higher learning rates.\n",
        "3. Makes weights easier to initialize.\n",
        "4. Act as a form of regularization and may reduce the need for dropout."
      ]
    },
    {
      "cell_type": "markdown",
      "metadata": {
        "id": "KJ1BP4nfnA9_"
      },
      "source": [
        "### Implementation:"
      ]
    },
    {
      "cell_type": "markdown",
      "metadata": {
        "id": "CLHSMxjrnA9_"
      },
      "source": [
        "- The batch normalization layer has already been implemented in many packages. You may simply call the function to build the layer. For example: torch.nn.BatchNorm2d() using pytroch package, keras.layers.BatchNormalization() using keras package.\n",
        "- The location of BN layer: Please make sure ```BatchNormalization``` is between a ```Conv```/```Dense``` layer and an ```activation``` layer."
      ]
    },
    {
      "cell_type": "markdown",
      "metadata": {
        "id": "CpRCmq1DnA9_"
      },
      "source": [
        "## 1. Data preparation"
      ]
    },
    {
      "cell_type": "markdown",
      "metadata": {
        "id": "8bebeJbtnA-A"
      },
      "source": [
        "### 1.1. Load data\n"
      ]
    },
    {
      "cell_type": "code",
      "execution_count": 1,
      "metadata": {
        "colab": {
          "base_uri": "https://localhost:8080/"
        },
        "id": "zZLkdmD2nA-A",
        "outputId": "99ba4202-1111-4c2f-89d5-95a3821359cc"
      },
      "outputs": [
        {
          "name": "stdout",
          "output_type": "stream",
          "text": [
            "shape of x_train: (50000, 32, 32, 3)\n",
            "shape of y_train: (50000, 1)\n",
            "shape of x_test: (10000, 32, 32, 3)\n",
            "shape of y_test: (10000, 1)\n",
            "number of classes: 10\n"
          ]
        }
      ],
      "source": [
        "# Load Cifar-10 Data\n",
        "# This is just an example, you may load dataset from other packages.\n",
        "import keras\n",
        "import numpy as np\n",
        "import tensorflow\n",
        "\n",
        "### If you can not load keras dataset, un-comment these two lines.\n",
        "#import ssl\n",
        "#ssl._create_default_https_context = ssl._create_unverified_context\n",
        "\n",
        "(x_train, y_train), (x_test, y_test) = tensorflow.keras.datasets.cifar10.load_data()\n",
        "\n",
        "print('shape of x_train: ' + str(x_train.shape))\n",
        "print('shape of y_train: ' + str(y_train.shape))\n",
        "print('shape of x_test: ' + str(x_test.shape))\n",
        "print('shape of y_test: ' + str(y_test.shape))\n",
        "print('number of classes: ' + str(np.max(y_train) - np.min(y_train) + 1))"
      ]
    },
    {
      "cell_type": "markdown",
      "metadata": {
        "id": "6SwNs8xpnA-B"
      },
      "source": [
        "### 1.2. One-hot encode the labels (5 points)\n",
        "\n",
        "In the input, a label is a scalar in $\\{0, 1, \\cdots , 9\\}$. One-hot encode transform such a scalar to a $10$-dim vector. E.g., a scalar ```y_train[j]=3``` is transformed to the vector ```y_train_vec[j]=[0, 0, 0, 1, 0, 0, 0, 0, 0, 0]```.\n",
        "\n",
        "1. Implement a function ```to_one_hot``` that transforms an $n\\times 1$ array to a $n\\times 10$ matrix.\n",
        "\n",
        "2. Apply the function to ```y_train``` and ```y_test```."
      ]
    },
    {
      "cell_type": "code",
      "execution_count": 2,
      "metadata": {
        "colab": {
          "base_uri": "https://localhost:8080/"
        },
        "id": "OFTLhAMonA-B",
        "outputId": "d3d576e6-93ca-4123-f3e5-565988dac13d"
      },
      "outputs": [
        {
          "name": "stdout",
          "output_type": "stream",
          "text": [
            "Shape of y_train_vec: (50000, 10)\n",
            "Shape of y_test_vec: (10000, 10)\n",
            "[6]\n",
            "[0. 0. 0. 0. 0. 0. 1. 0. 0. 0.]\n"
          ]
        }
      ],
      "source": [
        "def to_one_hot(y, num_class=10):\n",
        "    results = np.zeros((len(y), num_class))\n",
        "    for i, label in enumerate(y):\n",
        "        results[i, label] = 1\n",
        "    return results\n",
        "\n",
        "y_train_vec = to_one_hot(y_train)\n",
        "y_test_vec = to_one_hot(y_test)\n",
        "\n",
        "print('Shape of y_train_vec: ' + str(y_train_vec.shape))\n",
        "print('Shape of y_test_vec: ' + str(y_test_vec.shape))\n",
        "\n",
        "print(y_train[0])\n",
        "print(y_train_vec[0])"
      ]
    },
    {
      "cell_type": "markdown",
      "metadata": {
        "id": "i3cCKlYenA-B"
      },
      "source": [
        "#### Remark: the outputs should be\n",
        "* Shape of y_train_vec: (50000, 10)\n",
        "* Shape of y_test_vec: (10000, 10)\n",
        "* [6]\n",
        "* [0. 0. 0. 0. 0. 0. 1. 0. 0. 0.]"
      ]
    },
    {
      "cell_type": "markdown",
      "metadata": {
        "id": "txa5emr8nA-B"
      },
      "source": [
        "### 1.3. Randomly partition the training set to training and validation sets (5 points)\n",
        "\n",
        "Randomly partition the 50K training samples to 2 sets: \n",
        "* a training set containing 40K samples: x_tr, y_tr\n",
        "* a validation set containing 10K samples: x_val, y_val\n"
      ]
    },
    {
      "cell_type": "code",
      "execution_count": 3,
      "metadata": {
        "colab": {
          "base_uri": "https://localhost:8080/"
        },
        "id": "hgjNw1YPnA-B",
        "outputId": "3182552a-2fc1-43e1-b5ce-b781a1b57cd4"
      },
      "outputs": [
        {
          "name": "stdout",
          "output_type": "stream",
          "text": [
            "Shape of x_tr: (40000, 32, 32, 3)\n",
            "Shape of y_tr: (40000, 10)\n",
            "Shape of x_val: (10000, 32, 32, 3)\n",
            "Shape of y_val: (10000, 10)\n"
          ]
        }
      ],
      "source": [
        "rand_indices = np.random.permutation(50000)\n",
        "train_indices = rand_indices[0:40000]\n",
        "valid_indices = rand_indices[40000:50000]\n",
        "\n",
        "x_val = x_train[valid_indices, :]\n",
        "y_val = y_train_vec[valid_indices, :]\n",
        "\n",
        "x_tr = x_train[train_indices, :]\n",
        "y_tr = y_train_vec[train_indices, :]\n",
        "\n",
        "print('Shape of x_tr: ' + str(x_tr.shape))\n",
        "print('Shape of y_tr: ' + str(y_tr.shape))\n",
        "print('Shape of x_val: ' + str(x_val.shape))\n",
        "print('Shape of y_val: ' + str(y_val.shape))"
      ]
    },
    {
      "cell_type": "markdown",
      "metadata": {
        "id": "-kukI_5XnA-B"
      },
      "source": [
        "<img src=\"network.PNG\"/>"
      ]
    },
    {
      "cell_type": "markdown",
      "metadata": {
        "id": "TUs8VHyJnA-B"
      },
      "source": [
        "- You may use the validation data to tune the hyper-parameters (e.g., learning rate, and optimization algorithm)\n",
        "- Do NOT use test data for hyper-parameter tuning!!!\n",
        "- Try to achieve a validation accuracy as high as possible."
      ]
    },
    {
      "cell_type": "code",
      "execution_count": 4,
      "metadata": {
        "colab": {
          "base_uri": "https://localhost:8080/"
        },
        "id": "LR8yDe9pnA-B",
        "outputId": "72a46dce-588e-4d7c-bc3b-44fd3a37976e"
      },
      "outputs": [
        {
          "name": "stdout",
          "output_type": "stream",
          "text": [
            "Model: \"sequential\"\n",
            "_________________________________________________________________\n",
            " Layer (type)                Output Shape              Param #   \n",
            "=================================================================\n",
            " conv2d (Conv2D)             (None, 30, 30, 32)        896       \n",
            "                                                                 \n",
            " max_pooling2d (MaxPooling2D  (None, 15, 15, 32)       0         \n",
            " )                                                               \n",
            "                                                                 \n",
            " conv2d_1 (Conv2D)           (None, 13, 13, 64)        18496     \n",
            "                                                                 \n",
            " max_pooling2d_1 (MaxPooling  (None, 6, 6, 64)         0         \n",
            " 2D)                                                             \n",
            "                                                                 \n",
            " flatten (Flatten)           (None, 2304)              0         \n",
            "                                                                 \n",
            " dense (Dense)               (None, 256)               590080    \n",
            "                                                                 \n",
            " dense_1 (Dense)             (None, 10)                2570      \n",
            "                                                                 \n",
            "=================================================================\n",
            "Total params: 612,042\n",
            "Trainable params: 612,042\n",
            "Non-trainable params: 0\n",
            "_________________________________________________________________\n"
          ]
        }
      ],
      "source": [
        "# Build the model\n",
        "from keras import models\n",
        "from keras import layers\n",
        "\n",
        "model1 = models.Sequential()\n",
        "model1.add(layers.Conv2D(32, (3, 3), activation='relu', padding=\"valid\" ,input_shape=(32, 32, 3)))\n",
        "model1.add(layers.MaxPooling2D((2, 2)))\n",
        "model1.add(layers.Conv2D(64, (3, 3), activation='relu', padding=\"valid\"))\n",
        "model1.add(layers.MaxPooling2D((2, 2)))\n",
        "model1.add(layers.Flatten())\n",
        "model1.add(layers.Dense(256, activation='relu'))\n",
        "model1.add(layers.Dense(10, activation='softmax'))\n",
        "\n",
        "model1.summary()\n"
      ]
    },
    {
      "cell_type": "code",
      "execution_count": 5,
      "metadata": {
        "id": "vGHzXPpknA-C"
      },
      "outputs": [],
      "source": [
        "# Define model optimizer and loss function\n",
        "from tensorflow.keras import optimizers\n",
        "\n",
        "learning_rate1 = 1e-3 # to be tuned!\n",
        "\n",
        "model1.compile(loss='categorical_crossentropy',\n",
        "              optimizer= optimizers.Adagrad(learning_rate=learning_rate1),\n",
        "              metrics=['acc'])\n"
      ]
    },
    {
      "cell_type": "code",
      "execution_count": null,
      "metadata": {
        "colab": {
          "base_uri": "https://localhost:8080/"
        },
        "id": "OrrZadYnnA-C",
        "outputId": "7f3e59c6-60f8-40f4-b52c-93e693b80d0f"
      },
      "outputs": [
        {
          "name": "stdout",
          "output_type": "stream",
          "text": [
            "Epoch 1/100\n",
            "157/157 [==============================] - 8s 18ms/step - loss: 5.6346 - acc: 0.2297 - val_loss: 2.9180 - val_acc: 0.2680\n",
            "Epoch 2/100\n",
            "157/157 [==============================] - 2s 14ms/step - loss: 2.4145 - acc: 0.3057 - val_loss: 2.3323 - val_acc: 0.3118\n",
            "Epoch 3/100\n",
            "157/157 [==============================] - 2s 12ms/step - loss: 2.0822 - acc: 0.3459 - val_loss: 2.1145 - val_acc: 0.3437\n",
            "Epoch 4/100\n",
            "157/157 [==============================] - 2s 10ms/step - loss: 1.9215 - acc: 0.3695 - val_loss: 1.9770 - val_acc: 0.3575\n",
            "Epoch 5/100\n",
            "157/157 [==============================] - 2s 10ms/step - loss: 1.8179 - acc: 0.3916 - val_loss: 1.9125 - val_acc: 0.3654\n",
            "Epoch 6/100\n",
            "157/157 [==============================] - 1s 9ms/step - loss: 1.7460 - acc: 0.4083 - val_loss: 1.8383 - val_acc: 0.3848\n",
            "Epoch 7/100\n",
            "157/157 [==============================] - 2s 10ms/step - loss: 1.6899 - acc: 0.4217 - val_loss: 1.7957 - val_acc: 0.3960\n",
            "Epoch 8/100\n",
            "157/157 [==============================] - 2s 10ms/step - loss: 1.6434 - acc: 0.4365 - val_loss: 1.7623 - val_acc: 0.4000\n",
            "Epoch 9/100\n",
            "157/157 [==============================] - 2s 10ms/step - loss: 1.6044 - acc: 0.4457 - val_loss: 1.7222 - val_acc: 0.4111\n",
            "Epoch 10/100\n",
            "157/157 [==============================] - 2s 10ms/step - loss: 1.5696 - acc: 0.4557 - val_loss: 1.6870 - val_acc: 0.4218\n",
            "Epoch 11/100\n",
            "157/157 [==============================] - 2s 11ms/step - loss: 1.5397 - acc: 0.4660 - val_loss: 1.6853 - val_acc: 0.4280\n",
            "Epoch 12/100\n",
            "157/157 [==============================] - 2s 11ms/step - loss: 1.5140 - acc: 0.4749 - val_loss: 1.6616 - val_acc: 0.4312\n",
            "Epoch 13/100\n",
            "157/157 [==============================] - 2s 11ms/step - loss: 1.4891 - acc: 0.4812 - val_loss: 1.6292 - val_acc: 0.4406\n",
            "Epoch 14/100\n",
            "157/157 [==============================] - 2s 11ms/step - loss: 1.4686 - acc: 0.4880 - val_loss: 1.6073 - val_acc: 0.4444\n",
            "Epoch 15/100\n",
            "157/157 [==============================] - 2s 10ms/step - loss: 1.4480 - acc: 0.4947 - val_loss: 1.6032 - val_acc: 0.4487\n",
            "Epoch 16/100\n",
            "157/157 [==============================] - 2s 10ms/step - loss: 1.4293 - acc: 0.5001 - val_loss: 1.5838 - val_acc: 0.4509\n",
            "Epoch 17/100\n",
            "157/157 [==============================] - 2s 10ms/step - loss: 1.4123 - acc: 0.5056 - val_loss: 1.5691 - val_acc: 0.4585\n",
            "Epoch 18/100\n",
            "157/157 [==============================] - 2s 11ms/step - loss: 1.3958 - acc: 0.5111 - val_loss: 1.5722 - val_acc: 0.4555\n",
            "Epoch 19/100\n",
            "157/157 [==============================] - 2s 10ms/step - loss: 1.3809 - acc: 0.5156 - val_loss: 1.5474 - val_acc: 0.4676\n",
            "Epoch 20/100\n",
            "157/157 [==============================] - 2s 10ms/step - loss: 1.3658 - acc: 0.5216 - val_loss: 1.5417 - val_acc: 0.4654\n",
            "Epoch 21/100\n",
            "157/157 [==============================] - 2s 10ms/step - loss: 1.3523 - acc: 0.5262 - val_loss: 1.5247 - val_acc: 0.4752\n",
            "Epoch 22/100\n",
            "157/157 [==============================] - 2s 10ms/step - loss: 1.3386 - acc: 0.5317 - val_loss: 1.5207 - val_acc: 0.4781\n",
            "Epoch 23/100\n",
            "157/157 [==============================] - 2s 11ms/step - loss: 1.3263 - acc: 0.5352 - val_loss: 1.5116 - val_acc: 0.4778\n",
            "Epoch 24/100\n",
            "157/157 [==============================] - 2s 11ms/step - loss: 1.3138 - acc: 0.5406 - val_loss: 1.5005 - val_acc: 0.4821\n",
            "Epoch 25/100\n",
            "157/157 [==============================] - 2s 11ms/step - loss: 1.3025 - acc: 0.5455 - val_loss: 1.4938 - val_acc: 0.4869\n",
            "Epoch 26/100\n",
            "157/157 [==============================] - 2s 11ms/step - loss: 1.2912 - acc: 0.5490 - val_loss: 1.4938 - val_acc: 0.4884\n",
            "Epoch 27/100\n",
            "157/157 [==============================] - 2s 10ms/step - loss: 1.2808 - acc: 0.5519 - val_loss: 1.4804 - val_acc: 0.4898\n",
            "Epoch 28/100\n",
            "157/157 [==============================] - 2s 10ms/step - loss: 1.2704 - acc: 0.5560 - val_loss: 1.4738 - val_acc: 0.4927\n",
            "Epoch 29/100\n",
            "157/157 [==============================] - 2s 10ms/step - loss: 1.2601 - acc: 0.5591 - val_loss: 1.4637 - val_acc: 0.4980\n",
            "Epoch 30/100\n",
            "157/157 [==============================] - 2s 10ms/step - loss: 1.2503 - acc: 0.5647 - val_loss: 1.4609 - val_acc: 0.4973\n",
            "Epoch 31/100\n",
            "157/157 [==============================] - 2s 11ms/step - loss: 1.2411 - acc: 0.5670 - val_loss: 1.4566 - val_acc: 0.4982\n",
            "Epoch 32/100\n",
            "157/157 [==============================] - 2s 10ms/step - loss: 1.2315 - acc: 0.5705 - val_loss: 1.4537 - val_acc: 0.5008\n",
            "Epoch 33/100\n",
            "157/157 [==============================] - 2s 11ms/step - loss: 1.2234 - acc: 0.5740 - val_loss: 1.4464 - val_acc: 0.5031\n",
            "Epoch 34/100\n",
            "157/157 [==============================] - 2s 10ms/step - loss: 1.2143 - acc: 0.5772 - val_loss: 1.4354 - val_acc: 0.5071\n",
            "Epoch 35/100\n",
            "157/157 [==============================] - 2s 10ms/step - loss: 1.2061 - acc: 0.5803 - val_loss: 1.4355 - val_acc: 0.5048\n",
            "Epoch 36/100\n",
            "157/157 [==============================] - 2s 10ms/step - loss: 1.1983 - acc: 0.5823 - val_loss: 1.4303 - val_acc: 0.5092\n",
            "Epoch 37/100\n",
            "157/157 [==============================] - 2s 10ms/step - loss: 1.1901 - acc: 0.5862 - val_loss: 1.4236 - val_acc: 0.5097\n",
            "Epoch 38/100\n",
            "157/157 [==============================] - 2s 10ms/step - loss: 1.1826 - acc: 0.5881 - val_loss: 1.4174 - val_acc: 0.5135\n",
            "Epoch 39/100\n",
            "157/157 [==============================] - 2s 10ms/step - loss: 1.1748 - acc: 0.5914 - val_loss: 1.4147 - val_acc: 0.5145\n",
            "Epoch 40/100\n",
            "157/157 [==============================] - 2s 10ms/step - loss: 1.1668 - acc: 0.5946 - val_loss: 1.4132 - val_acc: 0.5143\n",
            "Epoch 41/100\n",
            "157/157 [==============================] - 2s 10ms/step - loss: 1.1599 - acc: 0.5965 - val_loss: 1.4080 - val_acc: 0.5155\n",
            "Epoch 42/100\n",
            "157/157 [==============================] - 1s 10ms/step - loss: 1.1529 - acc: 0.6000 - val_loss: 1.4066 - val_acc: 0.5185\n",
            "Epoch 43/100\n",
            "157/157 [==============================] - 2s 10ms/step - loss: 1.1458 - acc: 0.6024 - val_loss: 1.4015 - val_acc: 0.5177\n",
            "Epoch 44/100\n",
            "157/157 [==============================] - 2s 10ms/step - loss: 1.1391 - acc: 0.6046 - val_loss: 1.3946 - val_acc: 0.5226\n",
            "Epoch 45/100\n",
            "157/157 [==============================] - 2s 10ms/step - loss: 1.1321 - acc: 0.6061 - val_loss: 1.3892 - val_acc: 0.5224\n",
            "Epoch 46/100\n",
            "157/157 [==============================] - 2s 10ms/step - loss: 1.1260 - acc: 0.6100 - val_loss: 1.3898 - val_acc: 0.5251\n",
            "Epoch 47/100\n",
            "157/157 [==============================] - 2s 10ms/step - loss: 1.1193 - acc: 0.6122 - val_loss: 1.3827 - val_acc: 0.5285\n",
            "Epoch 48/100\n",
            "157/157 [==============================] - 2s 10ms/step - loss: 1.1131 - acc: 0.6145 - val_loss: 1.3777 - val_acc: 0.5282\n",
            "Epoch 49/100\n",
            "157/157 [==============================] - 2s 10ms/step - loss: 1.1065 - acc: 0.6173 - val_loss: 1.3805 - val_acc: 0.5284\n",
            "Epoch 50/100\n",
            "157/157 [==============================] - 2s 10ms/step - loss: 1.1005 - acc: 0.6180 - val_loss: 1.3817 - val_acc: 0.5277\n",
            "Epoch 51/100\n",
            "157/157 [==============================] - 2s 10ms/step - loss: 1.0942 - acc: 0.6207 - val_loss: 1.3708 - val_acc: 0.5295\n",
            "Epoch 52/100\n",
            "157/157 [==============================] - 2s 10ms/step - loss: 1.0887 - acc: 0.6230 - val_loss: 1.3678 - val_acc: 0.5324\n",
            "Epoch 53/100\n",
            "157/157 [==============================] - 2s 10ms/step - loss: 1.0825 - acc: 0.6249 - val_loss: 1.3652 - val_acc: 0.5341\n",
            "Epoch 54/100\n",
            "157/157 [==============================] - 2s 12ms/step - loss: 1.0766 - acc: 0.6267 - val_loss: 1.3635 - val_acc: 0.5334\n",
            "Epoch 55/100\n",
            "157/157 [==============================] - 2s 12ms/step - loss: 1.0711 - acc: 0.6291 - val_loss: 1.3658 - val_acc: 0.5335\n",
            "Epoch 56/100\n",
            "157/157 [==============================] - 2s 10ms/step - loss: 1.0661 - acc: 0.6320 - val_loss: 1.3586 - val_acc: 0.5356\n",
            "Epoch 57/100\n",
            "157/157 [==============================] - 2s 10ms/step - loss: 1.0601 - acc: 0.6337 - val_loss: 1.3536 - val_acc: 0.5383\n",
            "Epoch 58/100\n",
            "157/157 [==============================] - 2s 10ms/step - loss: 1.0546 - acc: 0.6367 - val_loss: 1.3513 - val_acc: 0.5385\n",
            "Epoch 59/100\n",
            "157/157 [==============================] - 2s 10ms/step - loss: 1.0489 - acc: 0.6379 - val_loss: 1.3565 - val_acc: 0.5366\n",
            "Epoch 60/100\n",
            "157/157 [==============================] - 2s 11ms/step - loss: 1.0440 - acc: 0.6405 - val_loss: 1.3482 - val_acc: 0.5390\n",
            "Epoch 61/100\n",
            "157/157 [==============================] - 2s 10ms/step - loss: 1.0382 - acc: 0.6408 - val_loss: 1.3476 - val_acc: 0.5394\n",
            "Epoch 62/100\n",
            "157/157 [==============================] - 2s 10ms/step - loss: 1.0336 - acc: 0.6436 - val_loss: 1.3414 - val_acc: 0.5410\n",
            "Epoch 63/100\n",
            "157/157 [==============================] - 2s 10ms/step - loss: 1.0280 - acc: 0.6450 - val_loss: 1.3441 - val_acc: 0.5395\n",
            "Epoch 64/100\n",
            "157/157 [==============================] - 2s 11ms/step - loss: 1.0233 - acc: 0.6477 - val_loss: 1.3380 - val_acc: 0.5414\n",
            "Epoch 65/100\n",
            "157/157 [==============================] - 2s 10ms/step - loss: 1.0182 - acc: 0.6496 - val_loss: 1.3386 - val_acc: 0.5450\n",
            "Epoch 66/100\n",
            "157/157 [==============================] - 2s 10ms/step - loss: 1.0133 - acc: 0.6513 - val_loss: 1.3348 - val_acc: 0.5467\n",
            "Epoch 67/100\n",
            "157/157 [==============================] - 2s 11ms/step - loss: 1.0084 - acc: 0.6533 - val_loss: 1.3336 - val_acc: 0.5452\n",
            "Epoch 68/100\n",
            "157/157 [==============================] - 2s 10ms/step - loss: 1.0037 - acc: 0.6547 - val_loss: 1.3352 - val_acc: 0.5481\n",
            "Epoch 69/100\n",
            "157/157 [==============================] - 2s 11ms/step - loss: 0.9988 - acc: 0.6563 - val_loss: 1.3300 - val_acc: 0.5454\n",
            "Epoch 70/100\n",
            "157/157 [==============================] - 2s 11ms/step - loss: 0.9938 - acc: 0.6582 - val_loss: 1.3293 - val_acc: 0.5508\n",
            "Epoch 71/100\n",
            "157/157 [==============================] - 2s 10ms/step - loss: 0.9892 - acc: 0.6598 - val_loss: 1.3257 - val_acc: 0.5493\n",
            "Epoch 72/100\n",
            "157/157 [==============================] - 2s 10ms/step - loss: 0.9843 - acc: 0.6613 - val_loss: 1.3236 - val_acc: 0.5494\n",
            "Epoch 73/100\n",
            "157/157 [==============================] - 2s 11ms/step - loss: 0.9800 - acc: 0.6639 - val_loss: 1.3245 - val_acc: 0.5499\n",
            "Epoch 74/100\n",
            "157/157 [==============================] - 2s 11ms/step - loss: 0.9756 - acc: 0.6652 - val_loss: 1.3186 - val_acc: 0.5508\n",
            "Epoch 75/100\n",
            "157/157 [==============================] - 2s 10ms/step - loss: 0.9712 - acc: 0.6672 - val_loss: 1.3196 - val_acc: 0.5530\n",
            "Epoch 76/100\n",
            "157/157 [==============================] - 2s 10ms/step - loss: 0.9670 - acc: 0.6683 - val_loss: 1.3158 - val_acc: 0.5535\n",
            "Epoch 77/100\n",
            "157/157 [==============================] - 2s 10ms/step - loss: 0.9625 - acc: 0.6683 - val_loss: 1.3161 - val_acc: 0.5579\n",
            "Epoch 78/100\n",
            "157/157 [==============================] - 2s 10ms/step - loss: 0.9579 - acc: 0.6695 - val_loss: 1.3183 - val_acc: 0.5573\n",
            "Epoch 79/100\n",
            "157/157 [==============================] - 2s 10ms/step - loss: 0.9536 - acc: 0.6727 - val_loss: 1.3135 - val_acc: 0.5543\n",
            "Epoch 80/100\n",
            "157/157 [==============================] - 2s 10ms/step - loss: 0.9491 - acc: 0.6737 - val_loss: 1.3092 - val_acc: 0.5570\n",
            "Epoch 81/100\n",
            "157/157 [==============================] - 2s 11ms/step - loss: 0.9449 - acc: 0.6752 - val_loss: 1.3091 - val_acc: 0.5581\n",
            "Epoch 82/100\n",
            "157/157 [==============================] - 2s 10ms/step - loss: 0.9406 - acc: 0.6773 - val_loss: 1.3079 - val_acc: 0.5600\n",
            "Epoch 83/100\n",
            "157/157 [==============================] - 2s 11ms/step - loss: 0.9366 - acc: 0.6791 - val_loss: 1.3082 - val_acc: 0.5579\n",
            "Epoch 84/100\n",
            "157/157 [==============================] - 2s 10ms/step - loss: 0.9326 - acc: 0.6797 - val_loss: 1.3060 - val_acc: 0.5596\n",
            "Epoch 85/100\n",
            "157/157 [==============================] - 2s 10ms/step - loss: 0.9283 - acc: 0.6827 - val_loss: 1.3047 - val_acc: 0.5602\n",
            "Epoch 86/100\n",
            "157/157 [==============================] - 2s 10ms/step - loss: 0.9243 - acc: 0.6834 - val_loss: 1.3072 - val_acc: 0.5601\n",
            "Epoch 87/100\n",
            "157/157 [==============================] - 2s 10ms/step - loss: 0.9204 - acc: 0.6852 - val_loss: 1.3015 - val_acc: 0.5613\n",
            "Epoch 88/100\n",
            "157/157 [==============================] - 2s 11ms/step - loss: 0.9162 - acc: 0.6865 - val_loss: 1.3028 - val_acc: 0.5637\n",
            "Epoch 89/100\n",
            "157/157 [==============================] - 2s 10ms/step - loss: 0.9124 - acc: 0.6876 - val_loss: 1.3010 - val_acc: 0.5629\n",
            "Epoch 90/100\n",
            "157/157 [==============================] - 2s 10ms/step - loss: 0.9083 - acc: 0.6893 - val_loss: 1.3002 - val_acc: 0.5634\n",
            "Epoch 91/100\n",
            "157/157 [==============================] - 2s 11ms/step - loss: 0.9044 - acc: 0.6913 - val_loss: 1.2972 - val_acc: 0.5626\n",
            "Epoch 92/100\n",
            "157/157 [==============================] - 2s 11ms/step - loss: 0.9005 - acc: 0.6925 - val_loss: 1.2991 - val_acc: 0.5644\n",
            "Epoch 93/100\n",
            "157/157 [==============================] - 2s 11ms/step - loss: 0.8970 - acc: 0.6922 - val_loss: 1.2945 - val_acc: 0.5634\n",
            "Epoch 94/100\n",
            "157/157 [==============================] - 2s 10ms/step - loss: 0.8933 - acc: 0.6953 - val_loss: 1.2957 - val_acc: 0.5638\n",
            "Epoch 95/100\n",
            "157/157 [==============================] - 2s 11ms/step - loss: 0.8893 - acc: 0.6965 - val_loss: 1.2928 - val_acc: 0.5649\n",
            "Epoch 96/100\n",
            "157/157 [==============================] - 2s 11ms/step - loss: 0.8853 - acc: 0.6983 - val_loss: 1.2906 - val_acc: 0.5675\n",
            "Epoch 97/100\n",
            "157/157 [==============================] - 2s 10ms/step - loss: 0.8814 - acc: 0.6996 - val_loss: 1.2964 - val_acc: 0.5648\n",
            "Epoch 98/100\n",
            "157/157 [==============================] - 2s 11ms/step - loss: 0.8783 - acc: 0.7010 - val_loss: 1.2909 - val_acc: 0.5678\n",
            "Epoch 99/100\n",
            "157/157 [==============================] - 2s 10ms/step - loss: 0.8749 - acc: 0.7018 - val_loss: 1.2923 - val_acc: 0.5687\n",
            "Epoch 100/100\n",
            "157/157 [==============================] - 2s 11ms/step - loss: 0.8710 - acc: 0.7026 - val_loss: 1.2895 - val_acc: 0.5680\n"
          ]
        }
      ],
      "source": [
        "# Train the model and store model parameters/loss values\n",
        "history1 = model1.fit(x_tr, y_tr, batch_size=256, epochs=100, validation_data=(x_val, y_val))"
      ]
    },
    {
      "cell_type": "markdown",
      "metadata": {
        "id": "Fm8xbuJCnA-C"
      },
      "source": [
        "## 3. Plot the training and validation loss curve versus epochs. (5 points)"
      ]
    },
    {
      "cell_type": "code",
      "execution_count": 7,
      "metadata": {
        "colab": {
          "base_uri": "https://localhost:8080/",
          "height": 279
        },
        "id": "aAHkly4NnA-C",
        "outputId": "58cea2e5-0439-459e-f4ea-591d6059bee8"
      },
      "outputs": [
        {
          "data": {
            "image/png": "[encoded data removed]",
            "text/plain": [
              "<Figure size 432x288 with 1 Axes>"
            ]
          },
          "metadata": {
            "needs_background": "light"
          },
          "output_type": "display_data"
        }
      ],
      "source": [
        "# Plot the accuracy curve\n",
        "import matplotlib.pyplot as plt\n",
        "%matplotlib inline\n",
        "\n",
        "acc = history1.history['acc']\n",
        "val_acc = history1.history['val_acc']\n",
        "\n",
        "epochs = range(len(acc))\n",
        "\n",
        "plt.plot(epochs, acc, 'bo', label='Training acc')\n",
        "plt.plot(epochs, val_acc, 'r', label='Validation acc')\n",
        "plt.xlabel('Epochs')\n",
        "plt.ylabel('Accuracy')\n",
        "plt.legend()\n",
        "plt.show()\n"
      ]
    },
    {
      "cell_type": "code",
      "execution_count": 8,
      "metadata": {
        "colab": {
          "base_uri": "https://localhost:8080/",
          "height": 279
        },
        "id": "PTpFaImOr_SR",
        "outputId": "80dc1f9c-f25d-469a-a2b0-34b155f021f7"
      },
      "outputs": [
        {
          "data": {
            "image/png": "[encoded data removed]",
            "text/plain": [
              "<Figure size 432x288 with 1 Axes>"
            ]
          },
          "metadata": {
            "needs_background": "light"
          },
          "output_type": "display_data"
        }
      ],
      "source": [
        "# Plot the loss curve\n",
        "import matplotlib.pyplot as plt\n",
        "%matplotlib inline\n",
        "\n",
        "loss = history1.history['loss']\n",
        "val_loss = history1.history['val_loss']\n",
        "\n",
        "epochs = range(len(loss))\n",
        "\n",
        "plt.plot(epochs, loss, 'bo', label='Training loss')\n",
        "plt.plot(epochs, val_loss, 'r', label='Validation loss')\n",
        "plt.xlabel('Epochs')\n",
        "plt.ylabel('Loss')\n",
        "plt.legend()\n",
        "plt.show()\n"
      ]
    },
    {
      "cell_type": "code",
      "execution_count": 9,
      "metadata": {
        "colab": {
          "base_uri": "https://localhost:8080/"
        },
        "id": "u41jtN1GgW_K",
        "outputId": "86e2ae38-32ec-4972-d9b4-9e1cc72234ff"
      },
      "outputs": [
        {
          "name": "stdout",
          "output_type": "stream",
          "text": [
            "313/313 [==============================] - 1s 3ms/step - loss: 1.2795 - acc: 0.5705\n",
            "loss = 1.2794575691223145\n",
            "accuracy = 0.5705000162124634\n"
          ]
        }
      ],
      "source": [
        "# Evaluate your model performance (testing accuracy) on testing data.\n",
        "loss_and_acc = model1.evaluate(x_test, y_test_vec)\n",
        "print('loss = ' + str(loss_and_acc[0]))\n",
        "print('accuracy = ' + str(loss_and_acc[1]))"
      ]
    },
    {
      "cell_type": "markdown",
      "metadata": {
        "id": "p2iNzyFxnA-C"
      },
      "source": [
        "## 4. Train (again) and evaluate the model (5 points)\n",
        "\n",
        "- To this end, you have found the \"best\" hyper-parameters. \n",
        "- Now, fix the hyper-parameters and train the network on the entire training set (all the 50K training samples)\n",
        "- Evaluate your model on the test set."
      ]
    },
    {
      "cell_type": "markdown",
      "metadata": {
        "id": "Ybx1d9NlnA-C"
      },
      "source": [
        "### Train the model on the entire training set\n",
        "\n",
        "Why? Previously, you used 40K samples for training; you wasted 10K samples for the sake of hyper-parameter tuning. Now you already know the hyper-parameters, so why not using all the 50K samples for training?"
      ]
    },
    {
      "cell_type": "code",
      "execution_count": 10,
      "metadata": {
        "id": "jQahURMAnA-C"
      },
      "outputs": [],
      "source": [
        "#<Compile your model again (using the same hyper-parameters you tuned above)>\n",
        "learning_rate2 = 1e-3 # to be tuned!\n",
        "\n",
        "model1.compile(loss='categorical_crossentropy',\n",
        "              optimizer= optimizers.Adagrad(learning_rate=learning_rate2),\n",
        "              metrics=['acc'])\n"
      ]
    },
    {
      "cell_type": "code",
      "execution_count": 11,
      "metadata": {
        "colab": {
          "base_uri": "https://localhost:8080/"
        },
        "id": "Dvx2zrJZnA-C",
        "outputId": "b35fe5c7-205f-4e25-98ce-4b0f2a23b964"
      },
      "outputs": [
        {
          "name": "stdout",
          "output_type": "stream",
          "text": [
            "Epoch 1/100\n",
            "196/196 [==============================] - 2s 9ms/step - loss: 1.0634 - acc: 0.6448\n",
            "Epoch 2/100\n",
            "196/196 [==============================] - 2s 8ms/step - loss: 0.9572 - acc: 0.6719\n",
            "Epoch 3/100\n",
            "196/196 [==============================] - 2s 8ms/step - loss: 0.9352 - acc: 0.6810\n",
            "Epoch 4/100\n",
            "196/196 [==============================] - 2s 8ms/step - loss: 0.9180 - acc: 0.6866\n",
            "Epoch 5/100\n",
            "196/196 [==============================] - 2s 8ms/step - loss: 0.9015 - acc: 0.6910\n",
            "Epoch 6/100\n",
            "196/196 [==============================] - 2s 8ms/step - loss: 0.8894 - acc: 0.6964\n",
            "Epoch 7/100\n",
            "196/196 [==============================] - 2s 8ms/step - loss: 0.8772 - acc: 0.6999\n",
            "Epoch 8/100\n",
            "196/196 [==============================] - 2s 8ms/step - loss: 0.8656 - acc: 0.7062\n",
            "Epoch 9/100\n",
            "196/196 [==============================] - 2s 8ms/step - loss: 0.8546 - acc: 0.7085\n",
            "Epoch 10/100\n",
            "196/196 [==============================] - 2s 8ms/step - loss: 0.8439 - acc: 0.7128\n",
            "Epoch 11/100\n",
            "196/196 [==============================] - 2s 8ms/step - loss: 0.8350 - acc: 0.7161\n",
            "Epoch 12/100\n",
            "196/196 [==============================] - 2s 8ms/step - loss: 0.8249 - acc: 0.7196\n",
            "Epoch 13/100\n",
            "196/196 [==============================] - 2s 8ms/step - loss: 0.8173 - acc: 0.7236\n",
            "Epoch 14/100\n",
            "196/196 [==============================] - 2s 8ms/step - loss: 0.8078 - acc: 0.7264\n",
            "Epoch 15/100\n",
            "196/196 [==============================] - 2s 8ms/step - loss: 0.8001 - acc: 0.7297\n",
            "Epoch 16/100\n",
            "196/196 [==============================] - 2s 8ms/step - loss: 0.7924 - acc: 0.7331\n",
            "Epoch 17/100\n",
            "196/196 [==============================] - 2s 8ms/step - loss: 0.7839 - acc: 0.7363\n",
            "Epoch 18/100\n",
            "196/196 [==============================] - 2s 8ms/step - loss: 0.7764 - acc: 0.7384\n",
            "Epoch 19/100\n",
            "196/196 [==============================] - 2s 8ms/step - loss: 0.7695 - acc: 0.7411\n",
            "Epoch 20/100\n",
            "196/196 [==============================] - 2s 8ms/step - loss: 0.7625 - acc: 0.7442\n",
            "Epoch 21/100\n",
            "196/196 [==============================] - 2s 8ms/step - loss: 0.7560 - acc: 0.7456\n",
            "Epoch 22/100\n",
            "196/196 [==============================] - 2s 8ms/step - loss: 0.7496 - acc: 0.7494\n",
            "Epoch 23/100\n",
            "196/196 [==============================] - 2s 8ms/step - loss: 0.7422 - acc: 0.7523\n",
            "Epoch 24/100\n",
            "196/196 [==============================] - 2s 8ms/step - loss: 0.7363 - acc: 0.7536\n",
            "Epoch 25/100\n",
            "196/196 [==============================] - 2s 8ms/step - loss: 0.7298 - acc: 0.7566\n",
            "Epoch 26/100\n",
            "196/196 [==============================] - 2s 8ms/step - loss: 0.7242 - acc: 0.7592\n",
            "Epoch 27/100\n",
            "196/196 [==============================] - 2s 8ms/step - loss: 0.7180 - acc: 0.7608\n",
            "Epoch 28/100\n",
            "196/196 [==============================] - 2s 8ms/step - loss: 0.7125 - acc: 0.7635\n",
            "Epoch 29/100\n",
            "196/196 [==============================] - 2s 8ms/step - loss: 0.7066 - acc: 0.7649\n",
            "Epoch 30/100\n",
            "196/196 [==============================] - 2s 8ms/step - loss: 0.7010 - acc: 0.7666\n",
            "Epoch 31/100\n",
            "196/196 [==============================] - 2s 8ms/step - loss: 0.6952 - acc: 0.7686\n",
            "Epoch 32/100\n",
            "196/196 [==============================] - 2s 8ms/step - loss: 0.6900 - acc: 0.7707\n",
            "Epoch 33/100\n",
            "196/196 [==============================] - 2s 8ms/step - loss: 0.6850 - acc: 0.7734\n",
            "Epoch 34/100\n",
            "196/196 [==============================] - 2s 8ms/step - loss: 0.6799 - acc: 0.7750\n",
            "Epoch 35/100\n",
            "196/196 [==============================] - 2s 8ms/step - loss: 0.6740 - acc: 0.7781\n",
            "Epoch 36/100\n",
            "196/196 [==============================] - 2s 8ms/step - loss: 0.6700 - acc: 0.7799\n",
            "Epoch 37/100\n",
            "196/196 [==============================] - 2s 8ms/step - loss: 0.6648 - acc: 0.7817\n",
            "Epoch 38/100\n",
            "196/196 [==============================] - 2s 8ms/step - loss: 0.6594 - acc: 0.7832\n",
            "Epoch 39/100\n",
            "196/196 [==============================] - 2s 8ms/step - loss: 0.6547 - acc: 0.7860\n",
            "Epoch 40/100\n",
            "196/196 [==============================] - 2s 8ms/step - loss: 0.6504 - acc: 0.7873\n",
            "Epoch 41/100\n",
            "196/196 [==============================] - 2s 8ms/step - loss: 0.6451 - acc: 0.7885\n",
            "Epoch 42/100\n",
            "196/196 [==============================] - 2s 8ms/step - loss: 0.6404 - acc: 0.7905\n",
            "Epoch 43/100\n",
            "196/196 [==============================] - 2s 8ms/step - loss: 0.6364 - acc: 0.7923\n",
            "Epoch 44/100\n",
            "196/196 [==============================] - 2s 8ms/step - loss: 0.6317 - acc: 0.7951\n",
            "Epoch 45/100\n",
            "196/196 [==============================] - 2s 9ms/step - loss: 0.6276 - acc: 0.7958\n",
            "Epoch 46/100\n",
            "196/196 [==============================] - 2s 8ms/step - loss: 0.6231 - acc: 0.7972\n",
            "Epoch 47/100\n",
            "196/196 [==============================] - 2s 8ms/step - loss: 0.6186 - acc: 0.7993\n",
            "Epoch 48/100\n",
            "196/196 [==============================] - 2s 8ms/step - loss: 0.6145 - acc: 0.8016\n",
            "Epoch 49/100\n",
            "196/196 [==============================] - 2s 8ms/step - loss: 0.6104 - acc: 0.8034\n",
            "Epoch 50/100\n",
            "196/196 [==============================] - 2s 8ms/step - loss: 0.6062 - acc: 0.8049\n",
            "Epoch 51/100\n",
            "196/196 [==============================] - 2s 8ms/step - loss: 0.6021 - acc: 0.8068\n",
            "Epoch 52/100\n",
            "196/196 [==============================] - 2s 8ms/step - loss: 0.5980 - acc: 0.8073\n",
            "Epoch 53/100\n",
            "196/196 [==============================] - 2s 8ms/step - loss: 0.5937 - acc: 0.8101\n",
            "Epoch 54/100\n",
            "196/196 [==============================] - 2s 8ms/step - loss: 0.5904 - acc: 0.8112\n",
            "Epoch 55/100\n",
            "196/196 [==============================] - 2s 8ms/step - loss: 0.5862 - acc: 0.8128\n",
            "Epoch 56/100\n",
            "196/196 [==============================] - 2s 8ms/step - loss: 0.5821 - acc: 0.8135\n",
            "Epoch 57/100\n",
            "196/196 [==============================] - 2s 8ms/step - loss: 0.5784 - acc: 0.8155\n",
            "Epoch 58/100\n",
            "196/196 [==============================] - 2s 8ms/step - loss: 0.5746 - acc: 0.8164\n",
            "Epoch 59/100\n",
            "196/196 [==============================] - 2s 8ms/step - loss: 0.5710 - acc: 0.8186\n",
            "Epoch 60/100\n",
            "196/196 [==============================] - 2s 9ms/step - loss: 0.5671 - acc: 0.8210\n",
            "Epoch 61/100\n",
            "196/196 [==============================] - 2s 8ms/step - loss: 0.5637 - acc: 0.8219\n",
            "Epoch 62/100\n",
            "196/196 [==============================] - 2s 9ms/step - loss: 0.5604 - acc: 0.8231\n",
            "Epoch 63/100\n",
            "196/196 [==============================] - 2s 8ms/step - loss: 0.5570 - acc: 0.8247\n",
            "Epoch 64/100\n",
            "196/196 [==============================] - 2s 8ms/step - loss: 0.5531 - acc: 0.8264\n",
            "Epoch 65/100\n",
            "196/196 [==============================] - 2s 8ms/step - loss: 0.5496 - acc: 0.8273\n",
            "Epoch 66/100\n",
            "196/196 [==============================] - 2s 8ms/step - loss: 0.5457 - acc: 0.8285\n",
            "Epoch 67/100\n",
            "196/196 [==============================] - 2s 8ms/step - loss: 0.5424 - acc: 0.8297\n",
            "Epoch 68/100\n",
            "196/196 [==============================] - 2s 8ms/step - loss: 0.5392 - acc: 0.8313\n",
            "Epoch 69/100\n",
            "196/196 [==============================] - 2s 9ms/step - loss: 0.5359 - acc: 0.8337\n",
            "Epoch 70/100\n",
            "196/196 [==============================] - 2s 9ms/step - loss: 0.5329 - acc: 0.8341\n",
            "Epoch 71/100\n",
            "196/196 [==============================] - 2s 8ms/step - loss: 0.5293 - acc: 0.8352\n",
            "Epoch 72/100\n",
            "196/196 [==============================] - 2s 8ms/step - loss: 0.5258 - acc: 0.8372\n",
            "Epoch 73/100\n",
            "196/196 [==============================] - 2s 9ms/step - loss: 0.5229 - acc: 0.8374\n",
            "Epoch 74/100\n",
            "196/196 [==============================] - 2s 8ms/step - loss: 0.5196 - acc: 0.8385\n",
            "Epoch 75/100\n",
            "196/196 [==============================] - 2s 8ms/step - loss: 0.5164 - acc: 0.8402\n",
            "Epoch 76/100\n",
            "196/196 [==============================] - 2s 8ms/step - loss: 0.5134 - acc: 0.8408\n",
            "Epoch 77/100\n",
            "196/196 [==============================] - 2s 9ms/step - loss: 0.5102 - acc: 0.8420\n",
            "Epoch 78/100\n",
            "196/196 [==============================] - 2s 8ms/step - loss: 0.5071 - acc: 0.8437\n",
            "Epoch 79/100\n",
            "196/196 [==============================] - 2s 8ms/step - loss: 0.5043 - acc: 0.8445\n",
            "Epoch 80/100\n",
            "196/196 [==============================] - 2s 8ms/step - loss: 0.5011 - acc: 0.8466\n",
            "Epoch 81/100\n",
            "196/196 [==============================] - 2s 8ms/step - loss: 0.4982 - acc: 0.8472\n",
            "Epoch 82/100\n",
            "196/196 [==============================] - 2s 8ms/step - loss: 0.4952 - acc: 0.8482\n",
            "Epoch 83/100\n",
            "196/196 [==============================] - 2s 8ms/step - loss: 0.4921 - acc: 0.8486\n",
            "Epoch 84/100\n",
            "196/196 [==============================] - 2s 9ms/step - loss: 0.4893 - acc: 0.8504\n",
            "Epoch 85/100\n",
            "196/196 [==============================] - 2s 8ms/step - loss: 0.4863 - acc: 0.8515\n",
            "Epoch 86/100\n",
            "196/196 [==============================] - 2s 8ms/step - loss: 0.4835 - acc: 0.8533\n",
            "Epoch 87/100\n",
            "196/196 [==============================] - 2s 9ms/step - loss: 0.4805 - acc: 0.8546\n",
            "Epoch 88/100\n",
            "196/196 [==============================] - 2s 8ms/step - loss: 0.4779 - acc: 0.8548\n",
            "Epoch 89/100\n",
            "196/196 [==============================] - 2s 8ms/step - loss: 0.4751 - acc: 0.8570\n",
            "Epoch 90/100\n",
            "196/196 [==============================] - 2s 9ms/step - loss: 0.4720 - acc: 0.8572\n",
            "Epoch 91/100\n",
            "196/196 [==============================] - 2s 8ms/step - loss: 0.4692 - acc: 0.8580\n",
            "Epoch 92/100\n",
            "196/196 [==============================] - 2s 8ms/step - loss: 0.4665 - acc: 0.8596\n",
            "Epoch 93/100\n",
            "196/196 [==============================] - 2s 8ms/step - loss: 0.4639 - acc: 0.8603\n",
            "Epoch 94/100\n",
            "196/196 [==============================] - 2s 9ms/step - loss: 0.4613 - acc: 0.8616\n",
            "Epoch 95/100\n",
            "196/196 [==============================] - 2s 9ms/step - loss: 0.4585 - acc: 0.8617\n",
            "Epoch 96/100\n",
            "196/196 [==============================] - 2s 9ms/step - loss: 0.4560 - acc: 0.8634\n",
            "Epoch 97/100\n",
            "196/196 [==============================] - 2s 8ms/step - loss: 0.4532 - acc: 0.8646\n",
            "Epoch 98/100\n",
            "196/196 [==============================] - 2s 8ms/step - loss: 0.4506 - acc: 0.8661\n",
            "Epoch 99/100\n",
            "196/196 [==============================] - 2s 9ms/step - loss: 0.4479 - acc: 0.8664\n",
            "Epoch 100/100\n",
            "196/196 [==============================] - 2s 9ms/step - loss: 0.4455 - acc: 0.8683\n"
          ]
        }
      ],
      "source": [
        "#<Train your model on the entire training set (50K samples)>\n",
        "history2 = model1.fit(x_train, y_train_vec, batch_size=256, epochs=100)\n"
      ]
    },
    {
      "cell_type": "markdown",
      "metadata": {
        "id": "vN_nydZInA-C"
      },
      "source": [
        "## 5. Evaluate the model on the test set (5 points)\n",
        "\n",
        "Do NOT used the test set until now. Make sure that your model parameters and hyper-parameters are independent of the test set."
      ]
    },
    {
      "cell_type": "code",
      "execution_count": 12,
      "metadata": {
        "colab": {
          "base_uri": "https://localhost:8080/"
        },
        "id": "lVmNYcP3nA-C",
        "outputId": "2f88f65f-6243-4b86-fa9d-7d5e6499eae2"
      },
      "outputs": [
        {
          "name": "stdout",
          "output_type": "stream",
          "text": [
            "313/313 [==============================] - 1s 3ms/step - loss: 1.2628 - acc: 0.6244\n",
            "loss = 1.2627838850021362\n",
            "accuracy = 0.6244000196456909\n"
          ]
        }
      ],
      "source": [
        "# Evaluate your model performance (testing accuracy) on testing data.\n",
        "loss_and_acc = model1.evaluate(x_test, y_test_vec)\n",
        "print('loss = ' + str(loss_and_acc[0]))\n",
        "print('accuracy = ' + str(loss_and_acc[1]))"
      ]
    },
    {
      "cell_type": "markdown",
      "metadata": {
        "id": "Z5DJzgIZnA-C"
      },
      "source": [
        "## 6. Building model with new structure (25 points)\n",
        "- In this section, you can build your model with adding new layers (e.g, BN layer or dropout layer, ...).\n",
        "- If you want to regularize a ```Conv/Dense layer```, you should place a ```Dropout layer``` before the ```Conv/Dense layer```.\n",
        "- You can try to compare their loss curve and testing accuracy and analyze your findings.\n",
        "- You need to try at lease two different model structures."
      ]
    },
    {
      "cell_type": "markdown",
      "metadata": {
        "id": "vCHAp8eekUgc"
      },
      "source": [
        "Model 1"
      ]
    },
    {
      "cell_type": "code",
      "execution_count": 13,
      "metadata": {
        "colab": {
          "base_uri": "https://localhost:8080/"
        },
        "id": "r8Jfkna3nA-D",
        "outputId": "14b9c72c-6a55-466e-e078-98f3b1df195f"
      },
      "outputs": [
        {
          "name": "stdout",
          "output_type": "stream",
          "text": [
            "Model: \"sequential_1\"\n",
            "_________________________________________________________________\n",
            " Layer (type)                Output Shape              Param #   \n",
            "=================================================================\n",
            " conv2d_2 (Conv2D)           (None, 30, 30, 32)        896       \n",
            "                                                                 \n",
            " batch_normalization (BatchN  (None, 30, 30, 32)       128       \n",
            " ormalization)                                                   \n",
            "                                                                 \n",
            " max_pooling2d_2 (MaxPooling  (None, 15, 15, 32)       0         \n",
            " 2D)                                                             \n",
            "                                                                 \n",
            " conv2d_3 (Conv2D)           (None, 13, 13, 64)        18496     \n",
            "                                                                 \n",
            " batch_normalization_1 (Batc  (None, 13, 13, 64)       256       \n",
            " hNormalization)                                                 \n",
            "                                                                 \n",
            " max_pooling2d_3 (MaxPooling  (None, 6, 6, 64)         0         \n",
            " 2D)                                                             \n",
            "                                                                 \n",
            " conv2d_4 (Conv2D)           (None, 4, 4, 128)         73856     \n",
            "                                                                 \n",
            " batch_normalization_2 (Batc  (None, 4, 4, 128)        512       \n",
            " hNormalization)                                                 \n",
            "                                                                 \n",
            " max_pooling2d_4 (MaxPooling  (None, 2, 2, 128)        0         \n",
            " 2D)                                                             \n",
            "                                                                 \n",
            " flatten_1 (Flatten)         (None, 512)               0         \n",
            "                                                                 \n",
            " dropout (Dropout)           (None, 512)               0         \n",
            "                                                                 \n",
            " dense_2 (Dense)             (None, 128)               65664     \n",
            "                                                                 \n",
            " dense_3 (Dense)             (None, 256)               33024     \n",
            "                                                                 \n",
            " dense_4 (Dense)             (None, 512)               131584    \n",
            "                                                                 \n",
            " dense_5 (Dense)             (None, 10)                5130      \n",
            "                                                                 \n",
            "=================================================================\n",
            "Total params: 329,546\n",
            "Trainable params: 329,098\n",
            "Non-trainable params: 448\n",
            "_________________________________________________________________\n"
          ]
        }
      ],
      "source": [
        "# Build the model\n",
        "from keras import models\n",
        "from keras import layers\n",
        "\n",
        "model3 = models.Sequential()\n",
        "model3.add(layers.Conv2D(32, (3, 3), activation='relu', padding='valid', input_shape=(32, 32, 3)))\n",
        "model3.add(layers.BatchNormalization())\n",
        "model3.add(layers.MaxPooling2D((2, 2)))\n",
        "model3.add(layers.Conv2D(64, (3, 3), activation='relu', padding='valid'))\n",
        "model3.add(layers.BatchNormalization())\n",
        "model3.add(layers.MaxPooling2D((2, 2)))\n",
        "model3.add(layers.Conv2D(128, (3, 3), activation='relu', padding='valid'))\n",
        "model3.add(layers.BatchNormalization())\n",
        "model3.add(layers.MaxPooling2D((2, 2)))\n",
        "model3.add(layers.Flatten())\n",
        "model3.add(layers.Dropout(0.5))\n",
        "model3.add(layers.Dense(128, activation='relu'))\n",
        "model3.add(layers.Dense(256, activation='relu'))\n",
        "model3.add(layers.Dense(512, activation='relu'))\n",
        "model3.add(layers.Dense(10, activation='softmax'))\n",
        "\n",
        "model3.summary()\n"
      ]
    },
    {
      "cell_type": "code",
      "execution_count": 14,
      "metadata": {
        "id": "crVBLy4yrcBk"
      },
      "outputs": [],
      "source": [
        "# Define model optimizer and loss function\n",
        "from tensorflow.keras import optimizers\n",
        "learning_rate3 = 1e-4 # to be tuned!\n",
        "\n",
        "model3.compile(loss='categorical_crossentropy',\n",
        "              optimizer=optimizers.Adam(learning_rate=learning_rate3),\n",
        "              metrics=['acc'])\n"
      ]
    },
    {
      "cell_type": "code",
      "execution_count": 15,
      "metadata": {
        "colab": {
          "base_uri": "https://localhost:8080/"
        },
        "id": "Jhv9uEUZrhJ6",
        "outputId": "b29aa74d-e0b9-467d-8fd8-15a54b43149b"
      },
      "outputs": [
        {
          "name": "stdout",
          "output_type": "stream",
          "text": [
            "Epoch 1/100\n",
            "157/157 [==============================] - 3s 16ms/step - loss: 1.9871 - acc: 0.2701 - val_loss: 1.8389 - val_acc: 0.3378\n",
            "Epoch 2/100\n",
            "157/157 [==============================] - 2s 14ms/step - loss: 1.6601 - acc: 0.3889 - val_loss: 1.5621 - val_acc: 0.4363\n",
            "Epoch 3/100\n",
            "157/157 [==============================] - 2s 13ms/step - loss: 1.5237 - acc: 0.4424 - val_loss: 1.4286 - val_acc: 0.4795\n",
            "Epoch 4/100\n",
            "157/157 [==============================] - 2s 13ms/step - loss: 1.4284 - acc: 0.4792 - val_loss: 1.3417 - val_acc: 0.5187\n",
            "Epoch 5/100\n",
            "157/157 [==============================] - 2s 13ms/step - loss: 1.3506 - acc: 0.5105 - val_loss: 1.3103 - val_acc: 0.5306\n",
            "Epoch 6/100\n",
            "157/157 [==============================] - 2s 14ms/step - loss: 1.2987 - acc: 0.5292 - val_loss: 1.2418 - val_acc: 0.5553\n",
            "Epoch 7/100\n",
            "157/157 [==============================] - 2s 13ms/step - loss: 1.2448 - acc: 0.5507 - val_loss: 1.1981 - val_acc: 0.5739\n",
            "Epoch 8/100\n",
            "157/157 [==============================] - 2s 14ms/step - loss: 1.2107 - acc: 0.5650 - val_loss: 1.1620 - val_acc: 0.5824\n",
            "Epoch 9/100\n",
            "157/157 [==============================] - 2s 13ms/step - loss: 1.1699 - acc: 0.5781 - val_loss: 1.1773 - val_acc: 0.5819\n",
            "Epoch 10/100\n",
            "157/157 [==============================] - 2s 13ms/step - loss: 1.1399 - acc: 0.5877 - val_loss: 1.1098 - val_acc: 0.6057\n",
            "Epoch 11/100\n",
            "157/157 [==============================] - 2s 13ms/step - loss: 1.1091 - acc: 0.6039 - val_loss: 1.0889 - val_acc: 0.6144\n",
            "Epoch 12/100\n",
            "157/157 [==============================] - 2s 14ms/step - loss: 1.0806 - acc: 0.6128 - val_loss: 1.0921 - val_acc: 0.6120\n",
            "Epoch 13/100\n",
            "157/157 [==============================] - 2s 14ms/step - loss: 1.0533 - acc: 0.6219 - val_loss: 1.0646 - val_acc: 0.6275\n",
            "Epoch 14/100\n",
            "157/157 [==============================] - 2s 13ms/step - loss: 1.0379 - acc: 0.6294 - val_loss: 1.0714 - val_acc: 0.6182\n",
            "Epoch 15/100\n",
            "157/157 [==============================] - 2s 14ms/step - loss: 1.0111 - acc: 0.6381 - val_loss: 1.0243 - val_acc: 0.6403\n",
            "Epoch 16/100\n",
            "157/157 [==============================] - 2s 13ms/step - loss: 0.9950 - acc: 0.6444 - val_loss: 1.0048 - val_acc: 0.6479\n",
            "Epoch 17/100\n",
            "157/157 [==============================] - 2s 14ms/step - loss: 0.9733 - acc: 0.6513 - val_loss: 1.0058 - val_acc: 0.6382\n",
            "Epoch 18/100\n",
            "157/157 [==============================] - 2s 13ms/step - loss: 0.9506 - acc: 0.6630 - val_loss: 0.9891 - val_acc: 0.6506\n",
            "Epoch 19/100\n",
            "157/157 [==============================] - 2s 13ms/step - loss: 0.9340 - acc: 0.6685 - val_loss: 0.9880 - val_acc: 0.6594\n",
            "Epoch 20/100\n",
            "157/157 [==============================] - 2s 14ms/step - loss: 0.9235 - acc: 0.6708 - val_loss: 0.9943 - val_acc: 0.6513\n",
            "Epoch 21/100\n",
            "157/157 [==============================] - 2s 14ms/step - loss: 0.9080 - acc: 0.6766 - val_loss: 0.9498 - val_acc: 0.6666\n",
            "Epoch 22/100\n",
            "157/157 [==============================] - 2s 14ms/step - loss: 0.8875 - acc: 0.6848 - val_loss: 0.9733 - val_acc: 0.6569\n",
            "Epoch 23/100\n",
            "157/157 [==============================] - 2s 14ms/step - loss: 0.8740 - acc: 0.6905 - val_loss: 0.9524 - val_acc: 0.6669\n",
            "Epoch 24/100\n",
            "157/157 [==============================] - 2s 13ms/step - loss: 0.8587 - acc: 0.6939 - val_loss: 0.9652 - val_acc: 0.6671\n",
            "Epoch 25/100\n",
            "157/157 [==============================] - 2s 13ms/step - loss: 0.8566 - acc: 0.6970 - val_loss: 0.9358 - val_acc: 0.6732\n",
            "Epoch 26/100\n",
            "157/157 [==============================] - 2s 14ms/step - loss: 0.8354 - acc: 0.7017 - val_loss: 0.9389 - val_acc: 0.6719\n",
            "Epoch 27/100\n",
            "157/157 [==============================] - 2s 13ms/step - loss: 0.8302 - acc: 0.7048 - val_loss: 0.9277 - val_acc: 0.6782\n",
            "Epoch 28/100\n",
            "157/157 [==============================] - 2s 13ms/step - loss: 0.8137 - acc: 0.7121 - val_loss: 0.9269 - val_acc: 0.6768\n",
            "Epoch 29/100\n",
            "157/157 [==============================] - 2s 13ms/step - loss: 0.8067 - acc: 0.7128 - val_loss: 0.9017 - val_acc: 0.6895\n",
            "Epoch 30/100\n",
            "157/157 [==============================] - 2s 14ms/step - loss: 0.7854 - acc: 0.7195 - val_loss: 0.9006 - val_acc: 0.6874\n",
            "Epoch 31/100\n",
            "157/157 [==============================] - 2s 14ms/step - loss: 0.7852 - acc: 0.7201 - val_loss: 0.8936 - val_acc: 0.6896\n",
            "Epoch 32/100\n",
            "157/157 [==============================] - 2s 14ms/step - loss: 0.7701 - acc: 0.7264 - val_loss: 0.8985 - val_acc: 0.6900\n",
            "Epoch 33/100\n",
            "157/157 [==============================] - 2s 14ms/step - loss: 0.7547 - acc: 0.7332 - val_loss: 0.9209 - val_acc: 0.6836\n",
            "Epoch 34/100\n",
            "157/157 [==============================] - 2s 13ms/step - loss: 0.7479 - acc: 0.7337 - val_loss: 0.8785 - val_acc: 0.6987\n",
            "Epoch 35/100\n",
            "157/157 [==============================] - 2s 13ms/step - loss: 0.7435 - acc: 0.7356 - val_loss: 0.8846 - val_acc: 0.6946\n",
            "Epoch 36/100\n",
            "157/157 [==============================] - 2s 14ms/step - loss: 0.7301 - acc: 0.7395 - val_loss: 0.9043 - val_acc: 0.6895\n",
            "Epoch 37/100\n",
            "157/157 [==============================] - 2s 14ms/step - loss: 0.7240 - acc: 0.7412 - val_loss: 0.8793 - val_acc: 0.6971\n",
            "Epoch 38/100\n",
            "157/157 [==============================] - 2s 14ms/step - loss: 0.7107 - acc: 0.7468 - val_loss: 0.9074 - val_acc: 0.6853\n",
            "Epoch 39/100\n",
            "157/157 [==============================] - 2s 14ms/step - loss: 0.7060 - acc: 0.7477 - val_loss: 0.8701 - val_acc: 0.7009\n",
            "Epoch 40/100\n",
            "157/157 [==============================] - 2s 14ms/step - loss: 0.6914 - acc: 0.7530 - val_loss: 0.8595 - val_acc: 0.6997\n",
            "Epoch 41/100\n",
            "157/157 [==============================] - 2s 13ms/step - loss: 0.6808 - acc: 0.7566 - val_loss: 0.9168 - val_acc: 0.6916\n",
            "Epoch 42/100\n",
            "157/157 [==============================] - 2s 14ms/step - loss: 0.6817 - acc: 0.7587 - val_loss: 0.8656 - val_acc: 0.7038\n",
            "Epoch 43/100\n",
            "157/157 [==============================] - 2s 13ms/step - loss: 0.6704 - acc: 0.7620 - val_loss: 0.8806 - val_acc: 0.6995\n",
            "Epoch 44/100\n",
            "157/157 [==============================] - 2s 14ms/step - loss: 0.6634 - acc: 0.7621 - val_loss: 0.8461 - val_acc: 0.7119\n",
            "Epoch 45/100\n",
            "157/157 [==============================] - 2s 14ms/step - loss: 0.6570 - acc: 0.7660 - val_loss: 0.8815 - val_acc: 0.6944\n",
            "Epoch 46/100\n",
            "157/157 [==============================] - 2s 13ms/step - loss: 0.6500 - acc: 0.7696 - val_loss: 0.9021 - val_acc: 0.6908\n",
            "Epoch 47/100\n",
            "157/157 [==============================] - 2s 13ms/step - loss: 0.6397 - acc: 0.7729 - val_loss: 0.8562 - val_acc: 0.7066\n",
            "Epoch 48/100\n",
            "157/157 [==============================] - 2s 13ms/step - loss: 0.6393 - acc: 0.7728 - val_loss: 0.8776 - val_acc: 0.7024\n",
            "Epoch 49/100\n",
            "157/157 [==============================] - 2s 13ms/step - loss: 0.6263 - acc: 0.7764 - val_loss: 0.9005 - val_acc: 0.6967\n",
            "Epoch 50/100\n",
            "157/157 [==============================] - 2s 14ms/step - loss: 0.6203 - acc: 0.7784 - val_loss: 0.8409 - val_acc: 0.7143\n",
            "Epoch 51/100\n",
            "157/157 [==============================] - 2s 13ms/step - loss: 0.6128 - acc: 0.7807 - val_loss: 0.8682 - val_acc: 0.7043\n",
            "Epoch 52/100\n",
            "157/157 [==============================] - 2s 14ms/step - loss: 0.6096 - acc: 0.7828 - val_loss: 0.8549 - val_acc: 0.7123\n",
            "Epoch 53/100\n",
            "157/157 [==============================] - 2s 13ms/step - loss: 0.5960 - acc: 0.7872 - val_loss: 0.8909 - val_acc: 0.6980\n",
            "Epoch 54/100\n",
            "157/157 [==============================] - 2s 14ms/step - loss: 0.5973 - acc: 0.7866 - val_loss: 0.8783 - val_acc: 0.7069\n",
            "Epoch 55/100\n",
            "157/157 [==============================] - 2s 13ms/step - loss: 0.5854 - acc: 0.7906 - val_loss: 0.8575 - val_acc: 0.7115\n",
            "Epoch 56/100\n",
            "157/157 [==============================] - 2s 13ms/step - loss: 0.5840 - acc: 0.7899 - val_loss: 0.8815 - val_acc: 0.7064\n",
            "Epoch 57/100\n",
            "157/157 [==============================] - 2s 14ms/step - loss: 0.5767 - acc: 0.7954 - val_loss: 0.8560 - val_acc: 0.7124\n",
            "Epoch 58/100\n",
            "157/157 [==============================] - 2s 13ms/step - loss: 0.5751 - acc: 0.7948 - val_loss: 0.8704 - val_acc: 0.7113\n",
            "Epoch 59/100\n",
            "157/157 [==============================] - 2s 13ms/step - loss: 0.5663 - acc: 0.7992 - val_loss: 0.8698 - val_acc: 0.7115\n",
            "Epoch 60/100\n",
            "157/157 [==============================] - 2s 14ms/step - loss: 0.5600 - acc: 0.7998 - val_loss: 0.8674 - val_acc: 0.7087\n",
            "Epoch 61/100\n",
            "157/157 [==============================] - 2s 13ms/step - loss: 0.5549 - acc: 0.8025 - val_loss: 0.8442 - val_acc: 0.7191\n",
            "Epoch 62/100\n",
            "157/157 [==============================] - 2s 14ms/step - loss: 0.5501 - acc: 0.8045 - val_loss: 0.8693 - val_acc: 0.7071\n",
            "Epoch 63/100\n",
            "157/157 [==============================] - 2s 13ms/step - loss: 0.5406 - acc: 0.8067 - val_loss: 0.8502 - val_acc: 0.7155\n",
            "Epoch 64/100\n",
            "157/157 [==============================] - 2s 13ms/step - loss: 0.5368 - acc: 0.8073 - val_loss: 0.8542 - val_acc: 0.7154\n",
            "Epoch 65/100\n",
            "157/157 [==============================] - 2s 14ms/step - loss: 0.5276 - acc: 0.8122 - val_loss: 0.8782 - val_acc: 0.7125\n",
            "Epoch 66/100\n",
            "157/157 [==============================] - 2s 13ms/step - loss: 0.5261 - acc: 0.8099 - val_loss: 0.8630 - val_acc: 0.7159\n",
            "Epoch 67/100\n",
            "157/157 [==============================] - 2s 13ms/step - loss: 0.5288 - acc: 0.8110 - val_loss: 0.8437 - val_acc: 0.7254\n",
            "Epoch 68/100\n",
            "157/157 [==============================] - 2s 13ms/step - loss: 0.5167 - acc: 0.8165 - val_loss: 0.8564 - val_acc: 0.7217\n",
            "Epoch 69/100\n",
            "157/157 [==============================] - 2s 14ms/step - loss: 0.5140 - acc: 0.8159 - val_loss: 0.8375 - val_acc: 0.7226\n",
            "Epoch 70/100\n",
            "157/157 [==============================] - 2s 14ms/step - loss: 0.5114 - acc: 0.8170 - val_loss: 0.8789 - val_acc: 0.7197\n",
            "Epoch 71/100\n",
            "157/157 [==============================] - 2s 13ms/step - loss: 0.5020 - acc: 0.8187 - val_loss: 0.8629 - val_acc: 0.7135\n",
            "Epoch 72/100\n",
            "157/157 [==============================] - 2s 14ms/step - loss: 0.4967 - acc: 0.8214 - val_loss: 0.8605 - val_acc: 0.7178\n",
            "Epoch 73/100\n",
            "157/157 [==============================] - 2s 13ms/step - loss: 0.4942 - acc: 0.8243 - val_loss: 0.8897 - val_acc: 0.7076\n",
            "Epoch 74/100\n",
            "157/157 [==============================] - 2s 13ms/step - loss: 0.4940 - acc: 0.8241 - val_loss: 0.8587 - val_acc: 0.7210\n",
            "Epoch 75/100\n",
            "157/157 [==============================] - 2s 13ms/step - loss: 0.4847 - acc: 0.8249 - val_loss: 0.8557 - val_acc: 0.7221\n",
            "Epoch 76/100\n",
            "157/157 [==============================] - 2s 13ms/step - loss: 0.4783 - acc: 0.8284 - val_loss: 0.8695 - val_acc: 0.7233\n",
            "Epoch 77/100\n",
            "157/157 [==============================] - 2s 13ms/step - loss: 0.4772 - acc: 0.8277 - val_loss: 0.8872 - val_acc: 0.7176\n",
            "Epoch 78/100\n",
            "157/157 [==============================] - 2s 14ms/step - loss: 0.4686 - acc: 0.8317 - val_loss: 0.9066 - val_acc: 0.7089\n",
            "Epoch 79/100\n",
            "157/157 [==============================] - 2s 13ms/step - loss: 0.4750 - acc: 0.8297 - val_loss: 0.8738 - val_acc: 0.7173\n",
            "Epoch 80/100\n",
            "157/157 [==============================] - 2s 13ms/step - loss: 0.4667 - acc: 0.8332 - val_loss: 0.8508 - val_acc: 0.7268\n",
            "Epoch 81/100\n",
            "157/157 [==============================] - 2s 13ms/step - loss: 0.4569 - acc: 0.8354 - val_loss: 0.8586 - val_acc: 0.7274\n",
            "Epoch 82/100\n",
            "157/157 [==============================] - 2s 13ms/step - loss: 0.4613 - acc: 0.8342 - val_loss: 0.8876 - val_acc: 0.7176\n",
            "Epoch 83/100\n",
            "157/157 [==============================] - 2s 13ms/step - loss: 0.4513 - acc: 0.8382 - val_loss: 0.8670 - val_acc: 0.7261\n",
            "Epoch 84/100\n",
            "157/157 [==============================] - 2s 13ms/step - loss: 0.4514 - acc: 0.8381 - val_loss: 0.9688 - val_acc: 0.7019\n",
            "Epoch 85/100\n",
            "157/157 [==============================] - 2s 14ms/step - loss: 0.4447 - acc: 0.8385 - val_loss: 0.8524 - val_acc: 0.7276\n",
            "Epoch 86/100\n",
            "157/157 [==============================] - 2s 14ms/step - loss: 0.4429 - acc: 0.8418 - val_loss: 0.8916 - val_acc: 0.7179\n",
            "Epoch 87/100\n",
            "157/157 [==============================] - 2s 14ms/step - loss: 0.4414 - acc: 0.8414 - val_loss: 0.9356 - val_acc: 0.7040\n",
            "Epoch 88/100\n",
            "157/157 [==============================] - 2s 13ms/step - loss: 0.4332 - acc: 0.8450 - val_loss: 0.8732 - val_acc: 0.7247\n",
            "Epoch 89/100\n",
            "157/157 [==============================] - 2s 13ms/step - loss: 0.4319 - acc: 0.8432 - val_loss: 0.8696 - val_acc: 0.7234\n",
            "Epoch 90/100\n",
            "157/157 [==============================] - 2s 13ms/step - loss: 0.4254 - acc: 0.8460 - val_loss: 0.8592 - val_acc: 0.7281\n",
            "Epoch 91/100\n",
            "157/157 [==============================] - 2s 14ms/step - loss: 0.4289 - acc: 0.8441 - val_loss: 0.8719 - val_acc: 0.7242\n",
            "Epoch 92/100\n",
            "157/157 [==============================] - 2s 13ms/step - loss: 0.4211 - acc: 0.8487 - val_loss: 0.8737 - val_acc: 0.7255\n",
            "Epoch 93/100\n",
            "157/157 [==============================] - 2s 13ms/step - loss: 0.4173 - acc: 0.8497 - val_loss: 0.8768 - val_acc: 0.7261\n",
            "Epoch 94/100\n",
            "157/157 [==============================] - 2s 13ms/step - loss: 0.4136 - acc: 0.8498 - val_loss: 0.8812 - val_acc: 0.7270\n",
            "Epoch 95/100\n",
            "157/157 [==============================] - 2s 14ms/step - loss: 0.4082 - acc: 0.8533 - val_loss: 0.8861 - val_acc: 0.7222\n",
            "Epoch 96/100\n",
            "157/157 [==============================] - 2s 14ms/step - loss: 0.4093 - acc: 0.8521 - val_loss: 0.8733 - val_acc: 0.7289\n",
            "Epoch 97/100\n",
            "157/157 [==============================] - 2s 14ms/step - loss: 0.4062 - acc: 0.8558 - val_loss: 0.8790 - val_acc: 0.7278\n",
            "Epoch 98/100\n",
            "157/157 [==============================] - 2s 13ms/step - loss: 0.4013 - acc: 0.8543 - val_loss: 0.8998 - val_acc: 0.7232\n",
            "Epoch 99/100\n",
            "157/157 [==============================] - 2s 13ms/step - loss: 0.4014 - acc: 0.8557 - val_loss: 0.9038 - val_acc: 0.7268\n",
            "Epoch 100/100\n",
            "157/157 [==============================] - 2s 13ms/step - loss: 0.3929 - acc: 0.8587 - val_loss: 0.9063 - val_acc: 0.7193\n"
          ]
        }
      ],
      "source": [
        "# Train the model and store model parameters/loss values\n",
        "history3 = model3.fit(x_tr, y_tr, batch_size=256, epochs=100, validation_data=(x_val, y_val))"
      ]
    },
    {
      "cell_type": "code",
      "execution_count": 16,
      "metadata": {
        "colab": {
          "base_uri": "https://localhost:8080/",
          "height": 279
        },
        "id": "Pij01YCMwKV8",
        "outputId": "71504e41-a393-4403-efd9-917433127c08"
      },
      "outputs": [
        {
          "data": {
            "image/png": "[encoded data removed]",
            "text/plain": [
              "<Figure size 432x288 with 1 Axes>"
            ]
          },
          "metadata": {
            "needs_background": "light"
          },
          "output_type": "display_data"
        }
      ],
      "source": [
        "# Plot the accuracy curve\n",
        "import matplotlib.pyplot as plt\n",
        "%matplotlib inline\n",
        "\n",
        "acc = history3.history['acc']\n",
        "val_acc = history3.history['val_acc']\n",
        "\n",
        "epochs = range(len(acc))\n",
        "\n",
        "plt.plot(epochs, acc, 'bo', label='Training acc')\n",
        "plt.plot(epochs, val_acc, 'r', label='Validation acc')\n",
        "plt.xlabel('Epochs')\n",
        "plt.ylabel('Accuracy')\n",
        "plt.legend()\n",
        "plt.show()\n"
      ]
    },
    {
      "cell_type": "code",
      "execution_count": 17,
      "metadata": {
        "colab": {
          "base_uri": "https://localhost:8080/",
          "height": 279
        },
        "id": "-lkkOK5MwM_c",
        "outputId": "012f3230-11b2-458b-c6d1-4aff8f6541b5"
      },
      "outputs": [
        {
          "data": {
            "image/png": "[encoded data removed]",
            "text/plain": [
              "<Figure size 432x288 with 1 Axes>"
            ]
          },
          "metadata": {
            "needs_background": "light"
          },
          "output_type": "display_data"
        }
      ],
      "source": [
        "# Plot the loss curve\n",
        "import matplotlib.pyplot as plt\n",
        "%matplotlib inline\n",
        "\n",
        "loss = history3.history['loss']\n",
        "val_loss = history3.history['val_loss']\n",
        "\n",
        "epochs = range(len(loss))\n",
        "\n",
        "plt.plot(epochs, loss, 'bo', label='Training loss')\n",
        "plt.plot(epochs, val_loss, 'r', label='Validation loss')\n",
        "plt.xlabel('Epochs')\n",
        "plt.ylabel('Loss')\n",
        "plt.legend()\n",
        "plt.show()"
      ]
    },
    {
      "cell_type": "code",
      "execution_count": 18,
      "metadata": {
        "colab": {
          "base_uri": "https://localhost:8080/"
        },
        "id": "n7HB7vgJriRS",
        "outputId": "dd7865f1-03d3-44b8-e391-aec5210f4363"
      },
      "outputs": [
        {
          "name": "stdout",
          "output_type": "stream",
          "text": [
            "313/313 [==============================] - 1s 3ms/step - loss: 0.9030 - acc: 0.7273\n",
            "loss = 0.9030411243438721\n",
            "accuracy = 0.7272999882698059\n"
          ]
        }
      ],
      "source": [
        "# Evaluate your model performance (testing accuracy) on testing data.\n",
        "loss_and_acc = model3.evaluate(x_test, y_test_vec)\n",
        "print('loss = ' + str(loss_and_acc[0]))\n",
        "print('accuracy = ' + str(loss_and_acc[1]))"
      ]
    },
    {
      "cell_type": "markdown",
      "metadata": {
        "id": "m4KIenVHj7V_"
      },
      "source": [
        "Model 2"
      ]
    },
    {
      "cell_type": "code",
      "execution_count": 19,
      "metadata": {
        "colab": {
          "base_uri": "https://localhost:8080/"
        },
        "id": "3Ak5exNvj3dU",
        "outputId": "8158d4c6-afba-42b6-99f8-4db2b30fca50"
      },
      "outputs": [
        {
          "name": "stdout",
          "output_type": "stream",
          "text": [
            "Model: \"sequential_2\"\n",
            "_________________________________________________________________\n",
            " Layer (type)                Output Shape              Param #   \n",
            "=================================================================\n",
            " conv2d_5 (Conv2D)           (None, 30, 30, 32)        896       \n",
            "                                                                 \n",
            " max_pooling2d_5 (MaxPooling  (None, 15, 15, 32)       0         \n",
            " 2D)                                                             \n",
            "                                                                 \n",
            " conv2d_6 (Conv2D)           (None, 13, 13, 64)        18496     \n",
            "                                                                 \n",
            " max_pooling2d_6 (MaxPooling  (None, 6, 6, 64)         0         \n",
            " 2D)                                                             \n",
            "                                                                 \n",
            " conv2d_7 (Conv2D)           (None, 4, 4, 128)         73856     \n",
            "                                                                 \n",
            " max_pooling2d_7 (MaxPooling  (None, 2, 2, 128)        0         \n",
            " 2D)                                                             \n",
            "                                                                 \n",
            " flatten_2 (Flatten)         (None, 512)               0         \n",
            "                                                                 \n",
            " dropout_1 (Dropout)         (None, 512)               0         \n",
            "                                                                 \n",
            " dense_6 (Dense)             (None, 128)               65664     \n",
            "                                                                 \n",
            " batch_normalization_3 (Batc  (None, 128)              512       \n",
            " hNormalization)                                                 \n",
            "                                                                 \n",
            " dense_7 (Dense)             (None, 256)               33024     \n",
            "                                                                 \n",
            " batch_normalization_4 (Batc  (None, 256)              1024      \n",
            " hNormalization)                                                 \n",
            "                                                                 \n",
            " dense_8 (Dense)             (None, 512)               131584    \n",
            "                                                                 \n",
            " batch_normalization_5 (Batc  (None, 512)              2048      \n",
            " hNormalization)                                                 \n",
            "                                                                 \n",
            " dense_9 (Dense)             (None, 10)                5130      \n",
            "                                                                 \n",
            "=================================================================\n",
            "Total params: 332,234\n",
            "Trainable params: 330,442\n",
            "Non-trainable params: 1,792\n",
            "_________________________________________________________________\n"
          ]
        }
      ],
      "source": [
        "# Build the model\n",
        "from keras import models\n",
        "from keras import layers\n",
        "\n",
        "model4 = models.Sequential()\n",
        "model4.add(layers.Conv2D(32, (3, 3), activation='relu', padding='valid', input_shape=(32, 32, 3)))\n",
        "model4.add(layers.MaxPooling2D((2, 2)))\n",
        "model4.add(layers.Conv2D(64, (3, 3), activation='relu', padding='valid'))\n",
        "model4.add(layers.MaxPooling2D((2, 2)))\n",
        "model4.add(layers.Conv2D(128, (3, 3), activation='relu', padding='valid'))\n",
        "model4.add(layers.MaxPooling2D((2, 2)))\n",
        "model4.add(layers.Flatten())\n",
        "model4.add(layers.Dropout(0.5))\n",
        "model4.add(layers.Dense(128, activation='relu'))\n",
        "model4.add(layers.BatchNormalization())\n",
        "model4.add(layers.Dense(256, activation='relu'))\n",
        "model4.add(layers.BatchNormalization())\n",
        "model4.add(layers.Dense(512, activation='relu'))\n",
        "model4.add(layers.BatchNormalization())\n",
        "model4.add(layers.Dense(10, activation='softmax'))\n",
        "\n",
        "model4.summary()\n"
      ]
    },
    {
      "cell_type": "code",
      "execution_count": 20,
      "metadata": {
        "id": "rdMXELaIj3lG"
      },
      "outputs": [],
      "source": [
        "# Define model optimizer and loss function\n",
        "from tensorflow.keras import optimizers\n",
        "learning_rate4 = 1e-4 # to be tuned!\n",
        "\n",
        "model4.compile(loss='categorical_crossentropy',\n",
        "              optimizer=optimizers.Adam(learning_rate=learning_rate4),\n",
        "              metrics=['acc'])\n"
      ]
    },
    {
      "cell_type": "code",
      "execution_count": 21,
      "metadata": {
        "colab": {
          "base_uri": "https://localhost:8080/"
        },
        "id": "FNsSjWjgj3ts",
        "outputId": "bf6ba614-5187-48e9-a17a-332dba670799"
      },
      "outputs": [
        {
          "name": "stdout",
          "output_type": "stream",
          "text": [
            "Epoch 1/100\n",
            "79/79 [==============================] - 3s 23ms/step - loss: 2.6174 - acc: 0.1472 - val_loss: 2.1622 - val_acc: 0.2235\n",
            "Epoch 2/100\n",
            "79/79 [==============================] - 1s 18ms/step - loss: 2.2280 - acc: 0.2140 - val_loss: 2.0156 - val_acc: 0.2410\n",
            "Epoch 3/100\n",
            "79/79 [==============================] - 1s 18ms/step - loss: 2.0287 - acc: 0.2717 - val_loss: 1.8611 - val_acc: 0.2968\n",
            "Epoch 4/100\n",
            "79/79 [==============================] - 1s 18ms/step - loss: 1.9011 - acc: 0.3079 - val_loss: 1.8025 - val_acc: 0.3305\n",
            "Epoch 5/100\n",
            "79/79 [==============================] - 1s 18ms/step - loss: 1.7974 - acc: 0.3421 - val_loss: 1.7120 - val_acc: 0.3731\n",
            "Epoch 6/100\n",
            "79/79 [==============================] - 1s 18ms/step - loss: 1.7346 - acc: 0.3652 - val_loss: 1.6607 - val_acc: 0.3959\n",
            "Epoch 7/100\n",
            "79/79 [==============================] - 1s 18ms/step - loss: 1.6659 - acc: 0.3917 - val_loss: 1.5673 - val_acc: 0.4307\n",
            "Epoch 8/100\n",
            "79/79 [==============================] - 1s 18ms/step - loss: 1.6131 - acc: 0.4081 - val_loss: 1.4997 - val_acc: 0.4527\n",
            "Epoch 9/100\n",
            "79/79 [==============================] - 1s 18ms/step - loss: 1.5755 - acc: 0.4184 - val_loss: 1.5766 - val_acc: 0.4413\n",
            "Epoch 10/100\n",
            "79/79 [==============================] - 1s 18ms/step - loss: 1.5357 - acc: 0.4378 - val_loss: 1.5021 - val_acc: 0.4636\n",
            "Epoch 11/100\n",
            "79/79 [==============================] - 1s 18ms/step - loss: 1.5002 - acc: 0.4496 - val_loss: 1.4068 - val_acc: 0.4885\n",
            "Epoch 12/100\n",
            "79/79 [==============================] - 1s 18ms/step - loss: 1.4676 - acc: 0.4622 - val_loss: 1.4118 - val_acc: 0.4914\n",
            "Epoch 13/100\n",
            "79/79 [==============================] - 1s 18ms/step - loss: 1.4349 - acc: 0.4769 - val_loss: 1.3552 - val_acc: 0.5042\n",
            "Epoch 14/100\n",
            "79/79 [==============================] - 1s 18ms/step - loss: 1.4038 - acc: 0.4895 - val_loss: 1.3187 - val_acc: 0.5238\n",
            "Epoch 15/100\n",
            "79/79 [==============================] - 1s 18ms/step - loss: 1.3795 - acc: 0.4974 - val_loss: 1.3483 - val_acc: 0.5177\n",
            "Epoch 16/100\n",
            "79/79 [==============================] - 1s 18ms/step - loss: 1.3594 - acc: 0.5055 - val_loss: 1.2720 - val_acc: 0.5429\n",
            "Epoch 17/100\n",
            "79/79 [==============================] - 1s 18ms/step - loss: 1.3316 - acc: 0.5163 - val_loss: 1.2477 - val_acc: 0.5514\n",
            "Epoch 18/100\n",
            "79/79 [==============================] - 1s 18ms/step - loss: 1.3204 - acc: 0.5226 - val_loss: 1.2344 - val_acc: 0.5580\n",
            "Epoch 19/100\n",
            "79/79 [==============================] - 1s 18ms/step - loss: 1.2901 - acc: 0.5339 - val_loss: 1.2118 - val_acc: 0.5664\n",
            "Epoch 20/100\n",
            "79/79 [==============================] - 1s 18ms/step - loss: 1.2687 - acc: 0.5428 - val_loss: 1.2353 - val_acc: 0.5640\n",
            "Epoch 21/100\n",
            "79/79 [==============================] - 1s 18ms/step - loss: 1.2520 - acc: 0.5482 - val_loss: 1.1809 - val_acc: 0.5774\n",
            "Epoch 22/100\n",
            "79/79 [==============================] - 1s 18ms/step - loss: 1.2339 - acc: 0.5543 - val_loss: 1.1744 - val_acc: 0.5803\n",
            "Epoch 23/100\n",
            "79/79 [==============================] - 1s 18ms/step - loss: 1.2206 - acc: 0.5591 - val_loss: 1.1551 - val_acc: 0.5862\n",
            "Epoch 24/100\n",
            "79/79 [==============================] - 1s 18ms/step - loss: 1.2009 - acc: 0.5696 - val_loss: 1.1425 - val_acc: 0.5909\n",
            "Epoch 25/100\n",
            "79/79 [==============================] - 1s 18ms/step - loss: 1.1832 - acc: 0.5759 - val_loss: 1.1327 - val_acc: 0.5963\n",
            "Epoch 26/100\n",
            "79/79 [==============================] - 1s 18ms/step - loss: 1.1712 - acc: 0.5799 - val_loss: 1.1250 - val_acc: 0.5962\n",
            "Epoch 27/100\n",
            "79/79 [==============================] - 1s 18ms/step - loss: 1.1521 - acc: 0.5859 - val_loss: 1.1138 - val_acc: 0.6022\n",
            "Epoch 28/100\n",
            "79/79 [==============================] - 1s 18ms/step - loss: 1.1450 - acc: 0.5872 - val_loss: 1.1008 - val_acc: 0.6078\n",
            "Epoch 29/100\n",
            "79/79 [==============================] - 1s 18ms/step - loss: 1.1254 - acc: 0.5949 - val_loss: 1.0840 - val_acc: 0.6157\n",
            "Epoch 30/100\n",
            "79/79 [==============================] - 1s 18ms/step - loss: 1.1123 - acc: 0.5991 - val_loss: 1.0921 - val_acc: 0.6087\n",
            "Epoch 31/100\n",
            "79/79 [==============================] - 1s 18ms/step - loss: 1.1027 - acc: 0.6093 - val_loss: 1.1179 - val_acc: 0.6070\n",
            "Epoch 32/100\n",
            "79/79 [==============================] - 1s 18ms/step - loss: 1.0919 - acc: 0.6102 - val_loss: 1.0764 - val_acc: 0.6184\n",
            "Epoch 33/100\n",
            "79/79 [==============================] - 1s 18ms/step - loss: 1.0796 - acc: 0.6130 - val_loss: 1.0551 - val_acc: 0.6246\n",
            "Epoch 34/100\n",
            "79/79 [==============================] - 1s 18ms/step - loss: 1.0632 - acc: 0.6199 - val_loss: 1.0608 - val_acc: 0.6257\n",
            "Epoch 35/100\n",
            "79/79 [==============================] - 1s 18ms/step - loss: 1.0579 - acc: 0.6187 - val_loss: 1.0476 - val_acc: 0.6311\n",
            "Epoch 36/100\n",
            "79/79 [==============================] - 1s 18ms/step - loss: 1.0457 - acc: 0.6262 - val_loss: 1.0737 - val_acc: 0.6257\n",
            "Epoch 37/100\n",
            "79/79 [==============================] - 1s 18ms/step - loss: 1.0376 - acc: 0.6311 - val_loss: 1.0433 - val_acc: 0.6268\n",
            "Epoch 38/100\n",
            "79/79 [==============================] - 1s 18ms/step - loss: 1.0268 - acc: 0.6320 - val_loss: 1.0672 - val_acc: 0.6289\n",
            "Epoch 39/100\n",
            "79/79 [==============================] - 1s 18ms/step - loss: 1.0146 - acc: 0.6368 - val_loss: 1.0752 - val_acc: 0.6241\n",
            "Epoch 40/100\n",
            "79/79 [==============================] - 1s 18ms/step - loss: 1.0105 - acc: 0.6380 - val_loss: 1.0160 - val_acc: 0.6431\n",
            "Epoch 41/100\n",
            "79/79 [==============================] - 1s 18ms/step - loss: 0.9972 - acc: 0.6438 - val_loss: 1.0435 - val_acc: 0.6399\n",
            "Epoch 42/100\n",
            "79/79 [==============================] - 1s 18ms/step - loss: 0.9864 - acc: 0.6456 - val_loss: 1.0178 - val_acc: 0.6417\n",
            "Epoch 43/100\n",
            "79/79 [==============================] - 2s 20ms/step - loss: 0.9840 - acc: 0.6464 - val_loss: 0.9830 - val_acc: 0.6543\n",
            "Epoch 44/100\n",
            "79/79 [==============================] - 1s 18ms/step - loss: 0.9720 - acc: 0.6525 - val_loss: 1.0088 - val_acc: 0.6487\n",
            "Epoch 45/100\n",
            "79/79 [==============================] - 1s 18ms/step - loss: 0.9580 - acc: 0.6581 - val_loss: 0.9924 - val_acc: 0.6553\n",
            "Epoch 46/100\n",
            "79/79 [==============================] - 1s 18ms/step - loss: 0.9586 - acc: 0.6594 - val_loss: 1.0009 - val_acc: 0.6493\n",
            "Epoch 47/100\n",
            "79/79 [==============================] - 1s 18ms/step - loss: 0.9431 - acc: 0.6656 - val_loss: 0.9747 - val_acc: 0.6555\n",
            "Epoch 48/100\n",
            "79/79 [==============================] - 1s 18ms/step - loss: 0.9384 - acc: 0.6624 - val_loss: 0.9858 - val_acc: 0.6561\n",
            "Epoch 49/100\n",
            "79/79 [==============================] - 1s 18ms/step - loss: 0.9305 - acc: 0.6679 - val_loss: 0.9789 - val_acc: 0.6566\n",
            "Epoch 50/100\n",
            "79/79 [==============================] - 1s 18ms/step - loss: 0.9234 - acc: 0.6700 - val_loss: 0.9585 - val_acc: 0.6629\n",
            "Epoch 51/100\n",
            "79/79 [==============================] - 1s 18ms/step - loss: 0.9122 - acc: 0.6747 - val_loss: 0.9596 - val_acc: 0.6658\n",
            "Epoch 52/100\n",
            "79/79 [==============================] - 1s 18ms/step - loss: 0.9107 - acc: 0.6779 - val_loss: 0.9863 - val_acc: 0.6550\n",
            "Epoch 53/100\n",
            "79/79 [==============================] - 1s 18ms/step - loss: 0.8994 - acc: 0.6788 - val_loss: 0.9577 - val_acc: 0.6647\n",
            "Epoch 54/100\n",
            "79/79 [==============================] - 1s 18ms/step - loss: 0.8950 - acc: 0.6812 - val_loss: 0.9729 - val_acc: 0.6635\n",
            "Epoch 55/100\n",
            "79/79 [==============================] - 1s 18ms/step - loss: 0.8887 - acc: 0.6818 - val_loss: 0.9352 - val_acc: 0.6776\n",
            "Epoch 56/100\n",
            "79/79 [==============================] - 1s 18ms/step - loss: 0.8758 - acc: 0.6836 - val_loss: 0.9286 - val_acc: 0.6762\n",
            "Epoch 57/100\n",
            "79/79 [==============================] - 1s 18ms/step - loss: 0.8743 - acc: 0.6869 - val_loss: 0.9346 - val_acc: 0.6754\n",
            "Epoch 58/100\n",
            "79/79 [==============================] - 1s 19ms/step - loss: 0.8618 - acc: 0.6926 - val_loss: 0.9470 - val_acc: 0.6702\n",
            "Epoch 59/100\n",
            "79/79 [==============================] - 1s 18ms/step - loss: 0.8544 - acc: 0.6948 - val_loss: 0.9343 - val_acc: 0.6732\n",
            "Epoch 60/100\n",
            "79/79 [==============================] - 1s 18ms/step - loss: 0.8524 - acc: 0.6964 - val_loss: 0.9437 - val_acc: 0.6738\n",
            "Epoch 61/100\n",
            "79/79 [==============================] - 1s 18ms/step - loss: 0.8490 - acc: 0.6962 - val_loss: 0.9186 - val_acc: 0.6811\n",
            "Epoch 62/100\n",
            "79/79 [==============================] - 1s 18ms/step - loss: 0.8429 - acc: 0.6991 - val_loss: 0.9405 - val_acc: 0.6725\n",
            "Epoch 63/100\n",
            "79/79 [==============================] - 1s 18ms/step - loss: 0.8363 - acc: 0.7027 - val_loss: 0.9147 - val_acc: 0.6831\n",
            "Epoch 64/100\n",
            "79/79 [==============================] - 1s 18ms/step - loss: 0.8318 - acc: 0.7020 - val_loss: 0.9424 - val_acc: 0.6752\n",
            "Epoch 65/100\n",
            "79/79 [==============================] - 1s 18ms/step - loss: 0.8239 - acc: 0.7046 - val_loss: 0.9900 - val_acc: 0.6595\n",
            "Epoch 66/100\n",
            "79/79 [==============================] - 1s 18ms/step - loss: 0.8205 - acc: 0.7081 - val_loss: 0.9160 - val_acc: 0.6812\n",
            "Epoch 67/100\n",
            "79/79 [==============================] - 1s 18ms/step - loss: 0.8079 - acc: 0.7100 - val_loss: 0.9109 - val_acc: 0.6840\n",
            "Epoch 68/100\n",
            "79/79 [==============================] - 1s 18ms/step - loss: 0.8094 - acc: 0.7103 - val_loss: 0.9059 - val_acc: 0.6878\n",
            "Epoch 69/100\n",
            "79/79 [==============================] - 1s 18ms/step - loss: 0.7931 - acc: 0.7168 - val_loss: 0.9104 - val_acc: 0.6854\n",
            "Epoch 70/100\n",
            "79/79 [==============================] - 1s 18ms/step - loss: 0.7983 - acc: 0.7158 - val_loss: 0.8914 - val_acc: 0.6919\n",
            "Epoch 71/100\n",
            "79/79 [==============================] - 1s 18ms/step - loss: 0.7943 - acc: 0.7144 - val_loss: 0.9149 - val_acc: 0.6844\n",
            "Epoch 72/100\n",
            "79/79 [==============================] - 1s 18ms/step - loss: 0.7852 - acc: 0.7186 - val_loss: 0.9052 - val_acc: 0.6889\n",
            "Epoch 73/100\n",
            "79/79 [==============================] - 1s 18ms/step - loss: 0.7824 - acc: 0.7173 - val_loss: 0.8941 - val_acc: 0.6923\n",
            "Epoch 74/100\n",
            "79/79 [==============================] - 1s 18ms/step - loss: 0.7711 - acc: 0.7229 - val_loss: 0.9052 - val_acc: 0.6872\n",
            "Epoch 75/100\n",
            "79/79 [==============================] - 1s 18ms/step - loss: 0.7716 - acc: 0.7235 - val_loss: 0.8925 - val_acc: 0.6930\n",
            "Epoch 76/100\n",
            "79/79 [==============================] - 1s 18ms/step - loss: 0.7693 - acc: 0.7257 - val_loss: 0.8933 - val_acc: 0.6951\n",
            "Epoch 77/100\n",
            "79/79 [==============================] - 1s 18ms/step - loss: 0.7578 - acc: 0.7311 - val_loss: 0.9459 - val_acc: 0.6809\n",
            "Epoch 78/100\n",
            "79/79 [==============================] - 2s 20ms/step - loss: 0.7519 - acc: 0.7331 - val_loss: 0.8917 - val_acc: 0.6941\n",
            "Epoch 79/100\n",
            "79/79 [==============================] - 1s 18ms/step - loss: 0.7524 - acc: 0.7290 - val_loss: 0.8796 - val_acc: 0.6974\n",
            "Epoch 80/100\n",
            "79/79 [==============================] - 1s 19ms/step - loss: 0.7396 - acc: 0.7368 - val_loss: 0.9080 - val_acc: 0.6930\n",
            "Epoch 81/100\n",
            "79/79 [==============================] - 1s 18ms/step - loss: 0.7400 - acc: 0.7347 - val_loss: 0.9029 - val_acc: 0.6899\n",
            "Epoch 82/100\n",
            "79/79 [==============================] - 1s 18ms/step - loss: 0.7363 - acc: 0.7378 - val_loss: 0.8906 - val_acc: 0.6971\n",
            "Epoch 83/100\n",
            "79/79 [==============================] - 1s 18ms/step - loss: 0.7386 - acc: 0.7349 - val_loss: 0.9017 - val_acc: 0.6903\n",
            "Epoch 84/100\n",
            "79/79 [==============================] - 1s 18ms/step - loss: 0.7245 - acc: 0.7412 - val_loss: 0.8851 - val_acc: 0.6989\n",
            "Epoch 85/100\n",
            "79/79 [==============================] - 1s 19ms/step - loss: 0.7255 - acc: 0.7417 - val_loss: 0.8814 - val_acc: 0.6993\n",
            "Epoch 86/100\n",
            "79/79 [==============================] - 1s 18ms/step - loss: 0.7166 - acc: 0.7417 - val_loss: 0.8768 - val_acc: 0.7010\n",
            "Epoch 87/100\n",
            "79/79 [==============================] - 1s 19ms/step - loss: 0.7094 - acc: 0.7452 - val_loss: 0.8720 - val_acc: 0.7034\n",
            "Epoch 88/100\n",
            "79/79 [==============================] - 1s 19ms/step - loss: 0.7058 - acc: 0.7469 - val_loss: 0.8738 - val_acc: 0.7009\n",
            "Epoch 89/100\n",
            "79/79 [==============================] - 1s 18ms/step - loss: 0.7029 - acc: 0.7495 - val_loss: 0.8719 - val_acc: 0.6992\n",
            "Epoch 90/100\n",
            "79/79 [==============================] - 1s 19ms/step - loss: 0.7004 - acc: 0.7505 - val_loss: 0.9256 - val_acc: 0.6875\n",
            "Epoch 91/100\n",
            "79/79 [==============================] - 1s 18ms/step - loss: 0.6939 - acc: 0.7533 - val_loss: 0.8740 - val_acc: 0.7021\n",
            "Epoch 92/100\n",
            "79/79 [==============================] - 1s 18ms/step - loss: 0.6938 - acc: 0.7516 - val_loss: 0.8863 - val_acc: 0.7007\n",
            "Epoch 93/100\n",
            "79/79 [==============================] - 1s 19ms/step - loss: 0.6939 - acc: 0.7527 - val_loss: 0.8887 - val_acc: 0.6992\n",
            "Epoch 94/100\n",
            "79/79 [==============================] - 1s 18ms/step - loss: 0.6829 - acc: 0.7536 - val_loss: 0.8916 - val_acc: 0.7026\n",
            "Epoch 95/100\n",
            "79/79 [==============================] - 1s 18ms/step - loss: 0.6840 - acc: 0.7559 - val_loss: 0.8711 - val_acc: 0.7024\n",
            "Epoch 96/100\n",
            "79/79 [==============================] - 1s 18ms/step - loss: 0.6784 - acc: 0.7574 - val_loss: 0.8813 - val_acc: 0.7012\n",
            "Epoch 97/100\n",
            "79/79 [==============================] - 1s 18ms/step - loss: 0.6652 - acc: 0.7599 - val_loss: 0.8702 - val_acc: 0.7032\n",
            "Epoch 98/100\n",
            "79/79 [==============================] - 1s 18ms/step - loss: 0.6703 - acc: 0.7611 - val_loss: 0.8688 - val_acc: 0.7079\n",
            "Epoch 99/100\n",
            "79/79 [==============================] - 1s 18ms/step - loss: 0.6626 - acc: 0.7621 - val_loss: 0.8767 - val_acc: 0.7028\n",
            "Epoch 100/100\n",
            "79/79 [==============================] - 1s 18ms/step - loss: 0.6654 - acc: 0.7595 - val_loss: 0.8651 - val_acc: 0.7055\n"
          ]
        }
      ],
      "source": [
        "# Train the model and store model parameters/loss values\n",
        "history4 = model4.fit(x_tr, y_tr, batch_size=512, epochs=100, validation_data=(x_val, y_val))"
      ]
    },
    {
      "cell_type": "code",
      "execution_count": 22,
      "metadata": {
        "colab": {
          "base_uri": "https://localhost:8080/",
          "height": 279
        },
        "id": "s63ieDwUj31Q",
        "outputId": "83b78426-6987-45e4-cad1-05e94dae384d"
      },
      "outputs": [
        {
          "data": {
            "image/png": "[encoded data removed]",
            "text/plain": [
              "<Figure size 432x288 with 1 Axes>"
            ]
          },
          "metadata": {
            "needs_background": "light"
          },
          "output_type": "display_data"
        }
      ],
      "source": [
        "# Plot the accuracy curve\n",
        "import matplotlib.pyplot as plt\n",
        "%matplotlib inline\n",
        "\n",
        "acc = history4.history['acc']\n",
        "val_acc = history4.history['val_acc']\n",
        "\n",
        "epochs = range(len(acc))\n",
        "\n",
        "plt.plot(epochs, acc, 'bo', label='Training acc')\n",
        "plt.plot(epochs, val_acc, 'r', label='Validation acc')\n",
        "plt.xlabel('Epochs')\n",
        "plt.ylabel('Accuracy')\n",
        "plt.legend()\n",
        "plt.show()"
      ]
    },
    {
      "cell_type": "code",
      "execution_count": 23,
      "metadata": {
        "colab": {
          "base_uri": "https://localhost:8080/",
          "height": 279
        },
        "id": "DGANdenWkO-B",
        "outputId": "51245a66-9109-444d-84e1-6bee48046fb7"
      },
      "outputs": [
        {
          "data": {
            "image/png": "[encoded data removed]",
            "text/plain": [
              "<Figure size 432x288 with 1 Axes>"
            ]
          },
          "metadata": {
            "needs_background": "light"
          },
          "output_type": "display_data"
        }
      ],
      "source": [
        "# Plot the loss curve\n",
        "import matplotlib.pyplot as plt\n",
        "%matplotlib inline\n",
        "\n",
        "loss = history4.history['loss']\n",
        "val_loss = history4.history['val_loss']\n",
        "\n",
        "epochs = range(len(loss))\n",
        "\n",
        "plt.plot(epochs, loss, 'bo', label='Training loss')\n",
        "plt.plot(epochs, val_loss, 'r', label='Validation loss')\n",
        "plt.xlabel('Epochs')\n",
        "plt.ylabel('Loss')\n",
        "plt.legend()\n",
        "plt.show()"
      ]
    },
    {
      "cell_type": "code",
      "execution_count": 24,
      "metadata": {
        "colab": {
          "base_uri": "https://localhost:8080/"
        },
        "id": "bZHkx5qdkPHW",
        "outputId": "44142219-989a-4bdb-c7df-b36479f8dd27"
      },
      "outputs": [
        {
          "name": "stdout",
          "output_type": "stream",
          "text": [
            "313/313 [==============================] - 1s 4ms/step - loss: 0.8508 - acc: 0.7090\n",
            "loss = 0.850807785987854\n",
            "accuracy = 0.7089999914169312\n"
          ]
        }
      ],
      "source": [
        "# Evaluate your model performance (testing accuracy) on testing data.\n",
        "loss_and_acc = model4.evaluate(x_test, y_test_vec)\n",
        "print('loss = ' + str(loss_and_acc[0]))\n",
        "print('accuracy = ' + str(loss_and_acc[1]))"
      ]
    },
    {
      "cell_type": "markdown",
      "metadata": {
        "id": "tqc1Q_saJrlG"
      },
      "source": [
        "Model 3"
      ]
    },
    {
      "cell_type": "code",
      "execution_count": 25,
      "metadata": {
        "colab": {
          "base_uri": "https://localhost:8080/"
        },
        "id": "Kw0h9_LMJq0c",
        "outputId": "77b4939a-016f-4d99-ac15-5451071d956b"
      },
      "outputs": [
        {
          "name": "stdout",
          "output_type": "stream",
          "text": [
            "Model: \"sequential_3\"\n",
            "_________________________________________________________________\n",
            " Layer (type)                Output Shape              Param #   \n",
            "=================================================================\n",
            " conv2d_8 (Conv2D)           (None, 30, 30, 32)        896       \n",
            "                                                                 \n",
            " batch_normalization_6 (Batc  (None, 30, 30, 32)       128       \n",
            " hNormalization)                                                 \n",
            "                                                                 \n",
            " max_pooling2d_8 (MaxPooling  (None, 15, 15, 32)       0         \n",
            " 2D)                                                             \n",
            "                                                                 \n",
            " conv2d_9 (Conv2D)           (None, 13, 13, 64)        18496     \n",
            "                                                                 \n",
            " batch_normalization_7 (Batc  (None, 13, 13, 64)       256       \n",
            " hNormalization)                                                 \n",
            "                                                                 \n",
            " max_pooling2d_9 (MaxPooling  (None, 6, 6, 64)         0         \n",
            " 2D)                                                             \n",
            "                                                                 \n",
            " conv2d_10 (Conv2D)          (None, 4, 4, 128)         73856     \n",
            "                                                                 \n",
            " batch_normalization_8 (Batc  (None, 4, 4, 128)        512       \n",
            " hNormalization)                                                 \n",
            "                                                                 \n",
            " max_pooling2d_10 (MaxPoolin  (None, 2, 2, 128)        0         \n",
            " g2D)                                                            \n",
            "                                                                 \n",
            " flatten_3 (Flatten)         (None, 512)               0         \n",
            "                                                                 \n",
            " dropout_2 (Dropout)         (None, 512)               0         \n",
            "                                                                 \n",
            " dense_10 (Dense)            (None, 128)               65664     \n",
            "                                                                 \n",
            " batch_normalization_9 (Batc  (None, 128)              512       \n",
            " hNormalization)                                                 \n",
            "                                                                 \n",
            " dense_11 (Dense)            (None, 256)               33024     \n",
            "                                                                 \n",
            " batch_normalization_10 (Bat  (None, 256)              1024      \n",
            " chNormalization)                                                \n",
            "                                                                 \n",
            " dense_12 (Dense)            (None, 512)               131584    \n",
            "                                                                 \n",
            " batch_normalization_11 (Bat  (None, 512)              2048      \n",
            " chNormalization)                                                \n",
            "                                                                 \n",
            " dense_13 (Dense)            (None, 10)                5130      \n",
            "                                                                 \n",
            "=================================================================\n",
            "Total params: 333,130\n",
            "Trainable params: 330,890\n",
            "Non-trainable params: 2,240\n",
            "_________________________________________________________________\n"
          ]
        }
      ],
      "source": [
        "# Build the model\n",
        "from keras import models\n",
        "from keras import layers\n",
        "\n",
        "model5 = models.Sequential()\n",
        "model5.add(layers.Conv2D(32, (3, 3), activation='relu', padding='valid', input_shape=(32, 32, 3)))\n",
        "model5.add(layers.BatchNormalization())\n",
        "model5.add(layers.MaxPooling2D((2, 2)))\n",
        "model5.add(layers.Conv2D(64, (3, 3), activation='relu', padding='valid'))\n",
        "model5.add(layers.BatchNormalization())\n",
        "model5.add(layers.MaxPooling2D((2, 2)))\n",
        "model5.add(layers.Conv2D(128, (3, 3), activation='relu', padding='valid'))\n",
        "model5.add(layers.BatchNormalization())\n",
        "model5.add(layers.MaxPooling2D((2, 2)))\n",
        "model5.add(layers.Flatten())\n",
        "model5.add(layers.Dropout(0.5))\n",
        "model5.add(layers.Dense(128, activation='relu'))\n",
        "model5.add(layers.BatchNormalization())\n",
        "model5.add(layers.Dense(256, activation='relu'))\n",
        "model5.add(layers.BatchNormalization())\n",
        "model5.add(layers.Dense(512, activation='relu'))\n",
        "model5.add(layers.BatchNormalization())\n",
        "model5.add(layers.Dense(10, activation='softmax'))\n",
        "\n",
        "model5.summary()\n"
      ]
    },
    {
      "cell_type": "code",
      "execution_count": 26,
      "metadata": {
        "id": "OlMPFMLrKIOu"
      },
      "outputs": [],
      "source": [
        "# Define model optimizer and loss function\n",
        "from tensorflow.keras import optimizers\n",
        "learning_rate5 = 1e-4 # to be tuned!\n",
        "\n",
        "model5.compile(loss='categorical_crossentropy',\n",
        "              optimizer=optimizers.Adam(learning_rate=learning_rate5),\n",
        "              metrics=['acc'])\n"
      ]
    },
    {
      "cell_type": "code",
      "execution_count": 27,
      "metadata": {
        "colab": {
          "base_uri": "https://localhost:8080/"
        },
        "id": "uet6oKsRKIQz",
        "outputId": "ab0c7860-e73c-4250-d908-6c19a5b741a5"
      },
      "outputs": [
        {
          "name": "stdout",
          "output_type": "stream",
          "text": [
            "Epoch 1/100\n",
            "157/157 [==============================] - 4s 16ms/step - loss: 2.2506 - acc: 0.2321 - val_loss: 1.8973 - val_acc: 0.3228\n",
            "Epoch 2/100\n",
            "157/157 [==============================] - 2s 14ms/step - loss: 1.8802 - acc: 0.3235 - val_loss: 1.6704 - val_acc: 0.3826\n",
            "Epoch 3/100\n",
            "157/157 [==============================] - 2s 14ms/step - loss: 1.7292 - acc: 0.3706 - val_loss: 1.6105 - val_acc: 0.4112\n",
            "Epoch 4/100\n",
            "157/157 [==============================] - 2s 14ms/step - loss: 1.6308 - acc: 0.4037 - val_loss: 1.5141 - val_acc: 0.4520\n",
            "Epoch 5/100\n",
            "157/157 [==============================] - 2s 14ms/step - loss: 1.5464 - acc: 0.4372 - val_loss: 1.4274 - val_acc: 0.4890\n",
            "Epoch 6/100\n",
            "157/157 [==============================] - 2s 14ms/step - loss: 1.4681 - acc: 0.4672 - val_loss: 1.3725 - val_acc: 0.5128\n",
            "Epoch 7/100\n",
            "157/157 [==============================] - 2s 14ms/step - loss: 1.4191 - acc: 0.4837 - val_loss: 1.3392 - val_acc: 0.5216\n",
            "Epoch 8/100\n",
            "157/157 [==============================] - 2s 13ms/step - loss: 1.3714 - acc: 0.5025 - val_loss: 1.3041 - val_acc: 0.5376\n",
            "Epoch 9/100\n",
            "157/157 [==============================] - 2s 14ms/step - loss: 1.3166 - acc: 0.5233 - val_loss: 1.2409 - val_acc: 0.5647\n",
            "Epoch 10/100\n",
            "157/157 [==============================] - 2s 14ms/step - loss: 1.2820 - acc: 0.5363 - val_loss: 1.2560 - val_acc: 0.5515\n",
            "Epoch 11/100\n",
            "157/157 [==============================] - 2s 14ms/step - loss: 1.2458 - acc: 0.5530 - val_loss: 1.1822 - val_acc: 0.5817\n",
            "Epoch 12/100\n",
            "157/157 [==============================] - 2s 14ms/step - loss: 1.2075 - acc: 0.5666 - val_loss: 1.2025 - val_acc: 0.5743\n",
            "Epoch 13/100\n",
            "157/157 [==============================] - 2s 15ms/step - loss: 1.1792 - acc: 0.5756 - val_loss: 1.1299 - val_acc: 0.6007\n",
            "Epoch 14/100\n",
            "157/157 [==============================] - 2s 14ms/step - loss: 1.1524 - acc: 0.5876 - val_loss: 1.1240 - val_acc: 0.6046\n",
            "Epoch 15/100\n",
            "157/157 [==============================] - 2s 15ms/step - loss: 1.1182 - acc: 0.5981 - val_loss: 1.1199 - val_acc: 0.6032\n",
            "Epoch 16/100\n",
            "157/157 [==============================] - 2s 15ms/step - loss: 1.1010 - acc: 0.6035 - val_loss: 1.1218 - val_acc: 0.6064\n",
            "Epoch 17/100\n",
            "157/157 [==============================] - 2s 15ms/step - loss: 1.0761 - acc: 0.6117 - val_loss: 1.0800 - val_acc: 0.6211\n",
            "Epoch 18/100\n",
            "157/157 [==============================] - 2s 15ms/step - loss: 1.0546 - acc: 0.6209 - val_loss: 1.0728 - val_acc: 0.6239\n",
            "Epoch 19/100\n",
            "157/157 [==============================] - 2s 14ms/step - loss: 1.0329 - acc: 0.6310 - val_loss: 1.0317 - val_acc: 0.6397\n",
            "Epoch 20/100\n",
            "157/157 [==============================] - 2s 14ms/step - loss: 1.0157 - acc: 0.6333 - val_loss: 1.0196 - val_acc: 0.6427\n",
            "Epoch 21/100\n",
            "157/157 [==============================] - 2s 15ms/step - loss: 1.0010 - acc: 0.6425 - val_loss: 1.0732 - val_acc: 0.6252\n",
            "Epoch 22/100\n",
            "157/157 [==============================] - 2s 14ms/step - loss: 0.9767 - acc: 0.6485 - val_loss: 1.0175 - val_acc: 0.6405\n",
            "Epoch 23/100\n",
            "157/157 [==============================] - 2s 15ms/step - loss: 0.9659 - acc: 0.6561 - val_loss: 0.9987 - val_acc: 0.6508\n",
            "Epoch 24/100\n",
            "157/157 [==============================] - 2s 16ms/step - loss: 0.9440 - acc: 0.6621 - val_loss: 1.0116 - val_acc: 0.6455\n",
            "Epoch 25/100\n",
            "157/157 [==============================] - 3s 21ms/step - loss: 0.9295 - acc: 0.6697 - val_loss: 0.9630 - val_acc: 0.6643\n",
            "Epoch 26/100\n",
            "157/157 [==============================] - 2s 14ms/step - loss: 0.9202 - acc: 0.6719 - val_loss: 0.9932 - val_acc: 0.6527\n",
            "Epoch 27/100\n",
            "157/157 [==============================] - 2s 14ms/step - loss: 0.9028 - acc: 0.6791 - val_loss: 0.9820 - val_acc: 0.6567\n",
            "Epoch 28/100\n",
            "157/157 [==============================] - 2s 14ms/step - loss: 0.8941 - acc: 0.6802 - val_loss: 0.9796 - val_acc: 0.6621\n",
            "Epoch 29/100\n",
            "157/157 [==============================] - 2s 15ms/step - loss: 0.8779 - acc: 0.6866 - val_loss: 0.9345 - val_acc: 0.6743\n",
            "Epoch 30/100\n",
            "157/157 [==============================] - 2s 14ms/step - loss: 0.8645 - acc: 0.6924 - val_loss: 0.9487 - val_acc: 0.6693\n",
            "Epoch 31/100\n",
            "157/157 [==============================] - 2s 14ms/step - loss: 0.8467 - acc: 0.6995 - val_loss: 0.9236 - val_acc: 0.6782\n",
            "Epoch 32/100\n",
            "157/157 [==============================] - 2s 14ms/step - loss: 0.8430 - acc: 0.7003 - val_loss: 0.9332 - val_acc: 0.6732\n",
            "Epoch 33/100\n",
            "157/157 [==============================] - 2s 14ms/step - loss: 0.8252 - acc: 0.7073 - val_loss: 0.9441 - val_acc: 0.6714\n",
            "Epoch 34/100\n",
            "157/157 [==============================] - 2s 14ms/step - loss: 0.8156 - acc: 0.7116 - val_loss: 0.9484 - val_acc: 0.6744\n",
            "Epoch 35/100\n",
            "157/157 [==============================] - 2s 15ms/step - loss: 0.8026 - acc: 0.7131 - val_loss: 0.9803 - val_acc: 0.6696\n",
            "Epoch 36/100\n",
            "157/157 [==============================] - 2s 14ms/step - loss: 0.7958 - acc: 0.7167 - val_loss: 0.8933 - val_acc: 0.6889\n",
            "Epoch 37/100\n",
            "157/157 [==============================] - 2s 15ms/step - loss: 0.7848 - acc: 0.7221 - val_loss: 0.9125 - val_acc: 0.6867\n",
            "Epoch 38/100\n",
            "157/157 [==============================] - 2s 14ms/step - loss: 0.7720 - acc: 0.7283 - val_loss: 0.8819 - val_acc: 0.6936\n",
            "Epoch 39/100\n",
            "157/157 [==============================] - 2s 15ms/step - loss: 0.7627 - acc: 0.7278 - val_loss: 0.9167 - val_acc: 0.6869\n",
            "Epoch 40/100\n",
            "157/157 [==============================] - 2s 15ms/step - loss: 0.7530 - acc: 0.7308 - val_loss: 1.0198 - val_acc: 0.6626\n",
            "Epoch 41/100\n",
            "157/157 [==============================] - 2s 14ms/step - loss: 0.7404 - acc: 0.7351 - val_loss: 0.8821 - val_acc: 0.6903\n",
            "Epoch 42/100\n",
            "157/157 [==============================] - 2s 15ms/step - loss: 0.7330 - acc: 0.7382 - val_loss: 0.9098 - val_acc: 0.6864\n",
            "Epoch 43/100\n",
            "157/157 [==============================] - 2s 14ms/step - loss: 0.7287 - acc: 0.7406 - val_loss: 0.8837 - val_acc: 0.6926\n",
            "Epoch 44/100\n",
            "157/157 [==============================] - 2s 15ms/step - loss: 0.7125 - acc: 0.7475 - val_loss: 0.8993 - val_acc: 0.6935\n",
            "Epoch 45/100\n",
            "157/157 [==============================] - 2s 15ms/step - loss: 0.7067 - acc: 0.7480 - val_loss: 0.8632 - val_acc: 0.7041\n",
            "Epoch 46/100\n",
            "157/157 [==============================] - 2s 15ms/step - loss: 0.7034 - acc: 0.7475 - val_loss: 0.9202 - val_acc: 0.6869\n",
            "Epoch 47/100\n",
            "157/157 [==============================] - 2s 14ms/step - loss: 0.6961 - acc: 0.7519 - val_loss: 0.8575 - val_acc: 0.7064\n",
            "Epoch 48/100\n",
            "157/157 [==============================] - 2s 14ms/step - loss: 0.6822 - acc: 0.7562 - val_loss: 0.8594 - val_acc: 0.7075\n",
            "Epoch 49/100\n",
            "157/157 [==============================] - 2s 15ms/step - loss: 0.6778 - acc: 0.7560 - val_loss: 0.8691 - val_acc: 0.7029\n",
            "Epoch 50/100\n",
            "157/157 [==============================] - 2s 15ms/step - loss: 0.6691 - acc: 0.7620 - val_loss: 0.8427 - val_acc: 0.7116\n",
            "Epoch 51/100\n",
            "157/157 [==============================] - 2s 14ms/step - loss: 0.6578 - acc: 0.7667 - val_loss: 0.8508 - val_acc: 0.7114\n",
            "Epoch 52/100\n",
            "157/157 [==============================] - 2s 15ms/step - loss: 0.6501 - acc: 0.7687 - val_loss: 0.8822 - val_acc: 0.7040\n",
            "Epoch 53/100\n",
            "157/157 [==============================] - 2s 15ms/step - loss: 0.6427 - acc: 0.7690 - val_loss: 0.8981 - val_acc: 0.7030\n",
            "Epoch 54/100\n",
            "157/157 [==============================] - 2s 15ms/step - loss: 0.6402 - acc: 0.7716 - val_loss: 0.8523 - val_acc: 0.7100\n",
            "Epoch 55/100\n",
            "157/157 [==============================] - 2s 14ms/step - loss: 0.6293 - acc: 0.7760 - val_loss: 0.8713 - val_acc: 0.7096\n",
            "Epoch 56/100\n",
            "157/157 [==============================] - 2s 15ms/step - loss: 0.6249 - acc: 0.7773 - val_loss: 0.8520 - val_acc: 0.7148\n",
            "Epoch 57/100\n",
            "157/157 [==============================] - 2s 15ms/step - loss: 0.6170 - acc: 0.7793 - val_loss: 0.8468 - val_acc: 0.7179\n",
            "Epoch 58/100\n",
            "157/157 [==============================] - 2s 15ms/step - loss: 0.6095 - acc: 0.7809 - val_loss: 0.8440 - val_acc: 0.7200\n",
            "Epoch 59/100\n",
            "157/157 [==============================] - 2s 14ms/step - loss: 0.6062 - acc: 0.7837 - val_loss: 0.8555 - val_acc: 0.7186\n",
            "Epoch 60/100\n",
            "157/157 [==============================] - 2s 15ms/step - loss: 0.5966 - acc: 0.7879 - val_loss: 0.8708 - val_acc: 0.7104\n",
            "Epoch 61/100\n",
            "157/157 [==============================] - 2s 15ms/step - loss: 0.5938 - acc: 0.7877 - val_loss: 0.8341 - val_acc: 0.7180\n",
            "Epoch 62/100\n",
            "157/157 [==============================] - 2s 14ms/step - loss: 0.5859 - acc: 0.7910 - val_loss: 0.8499 - val_acc: 0.7165\n",
            "Epoch 63/100\n",
            "157/157 [==============================] - 2s 14ms/step - loss: 0.5773 - acc: 0.7951 - val_loss: 0.8822 - val_acc: 0.7143\n",
            "Epoch 64/100\n",
            "157/157 [==============================] - 2s 15ms/step - loss: 0.5786 - acc: 0.7918 - val_loss: 0.8643 - val_acc: 0.7117\n",
            "Epoch 65/100\n",
            "157/157 [==============================] - 2s 14ms/step - loss: 0.5641 - acc: 0.7969 - val_loss: 0.9019 - val_acc: 0.7088\n",
            "Epoch 66/100\n",
            "157/157 [==============================] - 2s 14ms/step - loss: 0.5606 - acc: 0.7987 - val_loss: 0.8783 - val_acc: 0.7106\n",
            "Epoch 67/100\n",
            "157/157 [==============================] - 2s 15ms/step - loss: 0.5537 - acc: 0.8004 - val_loss: 0.8384 - val_acc: 0.7252\n",
            "Epoch 68/100\n",
            "157/157 [==============================] - 2s 14ms/step - loss: 0.5450 - acc: 0.8049 - val_loss: 0.8415 - val_acc: 0.7246\n",
            "Epoch 69/100\n",
            "157/157 [==============================] - 2s 15ms/step - loss: 0.5411 - acc: 0.8064 - val_loss: 0.8376 - val_acc: 0.7251\n",
            "Epoch 70/100\n",
            "157/157 [==============================] - 2s 14ms/step - loss: 0.5432 - acc: 0.8051 - val_loss: 0.8916 - val_acc: 0.7170\n",
            "Epoch 71/100\n",
            "157/157 [==============================] - 2s 14ms/step - loss: 0.5354 - acc: 0.8069 - val_loss: 0.8695 - val_acc: 0.7170\n",
            "Epoch 72/100\n",
            "157/157 [==============================] - 2s 14ms/step - loss: 0.5291 - acc: 0.8102 - val_loss: 0.8427 - val_acc: 0.7235\n",
            "Epoch 73/100\n",
            "157/157 [==============================] - 2s 15ms/step - loss: 0.5244 - acc: 0.8120 - val_loss: 0.8477 - val_acc: 0.7239\n",
            "Epoch 74/100\n",
            "157/157 [==============================] - 2s 14ms/step - loss: 0.5153 - acc: 0.8146 - val_loss: 0.8591 - val_acc: 0.7210\n",
            "Epoch 75/100\n",
            "157/157 [==============================] - 2s 14ms/step - loss: 0.5133 - acc: 0.8177 - val_loss: 0.8535 - val_acc: 0.7253\n",
            "Epoch 76/100\n",
            "157/157 [==============================] - 2s 15ms/step - loss: 0.5103 - acc: 0.8171 - val_loss: 0.8527 - val_acc: 0.7255\n",
            "Epoch 77/100\n",
            "157/157 [==============================] - 2s 14ms/step - loss: 0.5130 - acc: 0.8156 - val_loss: 0.8487 - val_acc: 0.7270\n",
            "Epoch 78/100\n",
            "157/157 [==============================] - 2s 14ms/step - loss: 0.5010 - acc: 0.8199 - val_loss: 0.8328 - val_acc: 0.7269\n",
            "Epoch 79/100\n",
            "157/157 [==============================] - 2s 14ms/step - loss: 0.4976 - acc: 0.8185 - val_loss: 0.8351 - val_acc: 0.7301\n",
            "Epoch 80/100\n",
            "157/157 [==============================] - 2s 15ms/step - loss: 0.4933 - acc: 0.8250 - val_loss: 0.8357 - val_acc: 0.7271\n",
            "Epoch 81/100\n",
            "157/157 [==============================] - 2s 14ms/step - loss: 0.4845 - acc: 0.8246 - val_loss: 0.9371 - val_acc: 0.7109\n",
            "Epoch 82/100\n",
            "157/157 [==============================] - 2s 14ms/step - loss: 0.4813 - acc: 0.8297 - val_loss: 0.8706 - val_acc: 0.7230\n",
            "Epoch 83/100\n",
            "157/157 [==============================] - 2s 14ms/step - loss: 0.4770 - acc: 0.8289 - val_loss: 0.8573 - val_acc: 0.7279\n",
            "Epoch 84/100\n",
            "157/157 [==============================] - 2s 15ms/step - loss: 0.4720 - acc: 0.8298 - val_loss: 0.8458 - val_acc: 0.7310\n",
            "Epoch 85/100\n",
            "157/157 [==============================] - 2s 15ms/step - loss: 0.4690 - acc: 0.8306 - val_loss: 0.8812 - val_acc: 0.7220\n",
            "Epoch 86/100\n",
            "157/157 [==============================] - 2s 14ms/step - loss: 0.4700 - acc: 0.8325 - val_loss: 0.8748 - val_acc: 0.7261\n",
            "Epoch 87/100\n",
            "157/157 [==============================] - 2s 14ms/step - loss: 0.4612 - acc: 0.8340 - val_loss: 0.8904 - val_acc: 0.7230\n",
            "Epoch 88/100\n",
            "157/157 [==============================] - 2s 14ms/step - loss: 0.4508 - acc: 0.8352 - val_loss: 0.8639 - val_acc: 0.7320\n",
            "Epoch 89/100\n",
            "157/157 [==============================] - 2s 15ms/step - loss: 0.4489 - acc: 0.8393 - val_loss: 0.8692 - val_acc: 0.7241\n",
            "Epoch 90/100\n",
            "157/157 [==============================] - 2s 15ms/step - loss: 0.4547 - acc: 0.8344 - val_loss: 0.8953 - val_acc: 0.7225\n",
            "Epoch 91/100\n",
            "157/157 [==============================] - 2s 15ms/step - loss: 0.4474 - acc: 0.8403 - val_loss: 0.8921 - val_acc: 0.7212\n",
            "Epoch 92/100\n",
            "157/157 [==============================] - 2s 14ms/step - loss: 0.4380 - acc: 0.8419 - val_loss: 0.9372 - val_acc: 0.7147\n",
            "Epoch 93/100\n",
            "157/157 [==============================] - 2s 14ms/step - loss: 0.4338 - acc: 0.8445 - val_loss: 0.8821 - val_acc: 0.7273\n",
            "Epoch 94/100\n",
            "157/157 [==============================] - 2s 15ms/step - loss: 0.4359 - acc: 0.8444 - val_loss: 0.8769 - val_acc: 0.7241\n",
            "Epoch 95/100\n",
            "157/157 [==============================] - 2s 14ms/step - loss: 0.4321 - acc: 0.8432 - val_loss: 0.8646 - val_acc: 0.7293\n",
            "Epoch 96/100\n",
            "157/157 [==============================] - 2s 14ms/step - loss: 0.4278 - acc: 0.8452 - val_loss: 0.9549 - val_acc: 0.7155\n",
            "Epoch 97/100\n",
            "157/157 [==============================] - 2s 15ms/step - loss: 0.4256 - acc: 0.8471 - val_loss: 0.9175 - val_acc: 0.7184\n",
            "Epoch 98/100\n",
            "157/157 [==============================] - 2s 14ms/step - loss: 0.4189 - acc: 0.8486 - val_loss: 0.8715 - val_acc: 0.7333\n",
            "Epoch 99/100\n",
            "157/157 [==============================] - 2s 14ms/step - loss: 0.4146 - acc: 0.8515 - val_loss: 0.8669 - val_acc: 0.7319\n",
            "Epoch 100/100\n",
            "157/157 [==============================] - 2s 14ms/step - loss: 0.4217 - acc: 0.8469 - val_loss: 0.9386 - val_acc: 0.7169\n"
          ]
        }
      ],
      "source": [
        "# Train the model and store model parameters/loss values\n",
        "history5 = model5.fit(x_tr, y_tr, batch_size=256, epochs=100, validation_data=(x_val, y_val))"
      ]
    },
    {
      "cell_type": "code",
      "execution_count": 28,
      "metadata": {
        "colab": {
          "base_uri": "https://localhost:8080/",
          "height": 279
        },
        "id": "Vzr4wMQjJtuE",
        "outputId": "5460df58-a520-46b0-b0e8-e9e6af57529b"
      },
      "outputs": [
        {
          "data": {
            "image/png": "[encoded data removed]",
            "text/plain": [
              "<Figure size 432x288 with 1 Axes>"
            ]
          },
          "metadata": {
            "needs_background": "light"
          },
          "output_type": "display_data"
        }
      ],
      "source": [
        "# Plot the accuracy curve\n",
        "import matplotlib.pyplot as plt\n",
        "%matplotlib inline\n",
        "\n",
        "acc = history5.history['acc']\n",
        "val_acc = history5.history['val_acc']\n",
        "\n",
        "epochs = range(len(acc))\n",
        "\n",
        "plt.plot(epochs, acc, 'bo', label='Training acc')\n",
        "plt.plot(epochs, val_acc, 'r', label='Validation acc')\n",
        "plt.xlabel('Epochs')\n",
        "plt.ylabel('Accuracy')\n",
        "plt.legend()\n",
        "plt.show()\n"
      ]
    },
    {
      "cell_type": "code",
      "execution_count": 29,
      "metadata": {
        "colab": {
          "base_uri": "https://localhost:8080/",
          "height": 279
        },
        "id": "804g-mjGJt0E",
        "outputId": "86f1b250-756f-4b0e-b8dd-a1af5fed6aaa"
      },
      "outputs": [
        {
          "data": {
            "image/png": "[encoded data removed]",
            "text/plain": [
              "<Figure size 432x288 with 1 Axes>"
            ]
          },
          "metadata": {
            "needs_background": "light"
          },
          "output_type": "display_data"
        }
      ],
      "source": [
        "# Plot the loss curve\n",
        "import matplotlib.pyplot as plt\n",
        "%matplotlib inline\n",
        "\n",
        "loss = history5.history['loss']\n",
        "val_loss = history5.history['val_loss']\n",
        "\n",
        "epochs = range(len(loss))\n",
        "\n",
        "plt.plot(epochs, loss, 'bo', label='Training loss')\n",
        "plt.plot(epochs, val_loss, 'r', label='Validation loss')\n",
        "plt.xlabel('Epochs')\n",
        "plt.ylabel('Loss')\n",
        "plt.legend()\n",
        "plt.show()"
      ]
    },
    {
      "cell_type": "code",
      "execution_count": 30,
      "metadata": {
        "colab": {
          "base_uri": "https://localhost:8080/"
        },
        "id": "8B3oiRJrJt5Q",
        "outputId": "69616c52-b514-4f56-907b-4bc755900bfd"
      },
      "outputs": [
        {
          "name": "stdout",
          "output_type": "stream",
          "text": [
            "313/313 [==============================] - 1s 4ms/step - loss: 0.9291 - acc: 0.7182\n",
            "loss = 0.9291126132011414\n",
            "accuracy = 0.7182000279426575\n"
          ]
        }
      ],
      "source": [
        "# Evaluate your model performance (testing accuracy) on testing data.\n",
        "loss_and_acc = model5.evaluate(x_test, y_test_vec)\n",
        "print('loss = ' + str(loss_and_acc[0]))\n",
        "print('accuracy = ' + str(loss_and_acc[1]))"
      ]
    },
    {
      "cell_type": "markdown",
      "metadata": {
        "id": "K0DwJ8G8KCoW"
      },
      "source": []
    }
  ],
  "metadata": {
    "accelerator": "GPU",
    "colab": {
      "collapsed_sections": [],
      "name": "DL - Assignment2.ipynb",
      "provenance": []
    },
    "kernelspec": {
      "display_name": "Python 3",
      "language": "python",
      "name": "python3"
    },
    "language_info": {
      "codemirror_mode": {
        "name": "ipython",
        "version": 3
      },
      "file_extension": ".py",
      "mimetype": "text/x-python",
      "name": "python",
      "nbconvert_exporter": "python",
      "pygments_lexer": "ipython3",
      "version": "3.7.11"
    }
  },
  "nbformat": 4,
  "nbformat_minor": 0
}
